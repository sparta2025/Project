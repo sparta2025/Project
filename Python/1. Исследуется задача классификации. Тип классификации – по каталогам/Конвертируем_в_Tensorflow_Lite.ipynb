{
  "nbformat": 4,
  "nbformat_minor": 0,
  "metadata": {
    "colab": {
      "provenance": []
    },
    "kernelspec": {
      "name": "python3",
      "display_name": "Python 3"
    },
    "language_info": {
      "name": "python"
    }
  },
  "cells": [
    {
      "cell_type": "markdown",
      "source": [
        "### ***Конвертируем в Tensorflow Lite***\n",
        "\n",
        "---\n",
        "\n",
        "[Tensorflow Lite](https://www.tensorflow.org/api_docs/python/tf/lite/TFLiteConverter)"
      ],
      "metadata": {
        "id": "A-MZR9EDetK1"
      }
    },
    {
      "cell_type": "code",
      "source": [
        "# Импортируем библиотеку TensorFlow для работы с нейронными сетями\n",
        "import tensorflow as tf\n",
        "# импорт библиотеки TFLite\n",
        "import tensorflow.lite as lite\n",
        "# Последовательная модель НС\n",
        "from tensorflow.keras.models import load_model\n",
        "import os\n",
        "\n",
        "from google.colab import drive, files                                           # подключем диск, # Загрузка файлов\n",
        "import gdown                                                                    # Загрузка файлов из инета\n",
        "import shutil\n",
        "\n",
        "drive.mount('/content/drive')\n",
        "drive_path = os.path.join('/content', 'drive')                                  # Путь к каталогу /content/drive\n",
        "\n",
        "#pathBase = os.path.join(drive_path, 'MyDrive', 'Colab Notebooks', 'model_Conv2D.keras')\n",
        "#shutil.copy('/content/model_Conv2D.keras', pathBase)"
      ],
      "metadata": {
        "colab": {
          "base_uri": "https://localhost:8080/"
        },
        "id": "56ic6BevdC4m",
        "outputId": "26e9c5fa-24e6-443d-971c-3ab4ca6a6f21"
      },
      "execution_count": null,
      "outputs": [
        {
          "output_type": "stream",
          "name": "stdout",
          "text": [
            "Mounted at /content/drive\n"
          ]
        }
      ]
    },
    {
      "cell_type": "code",
      "source": [
        "file_id = 'https://drive.google.com/uc?id=13rEVAy44cpEsNoapmG3G56tC5DD42Ptw'\n",
        "\n",
        "gdown.download(file_id, '/content/ResNet Conv2D.ver-23.01.24.qipc-2000_errors-4.h5', quiet = True)\n",
        "\n",
        "model = load_model('ResNet Conv2D.ver-23.01.24.qipc-2000_errors-4.h5')"
      ],
      "metadata": {
        "id": "9YuJeg7WemUC"
      },
      "execution_count": null,
      "outputs": []
    },
    {
      "cell_type": "code",
      "source": [
        "# @title show_size\n",
        "def show_size(model_1, model_2):\n",
        "  # Сохраняем файлы\n",
        "  #model_1.save(\"model.keras\")\n",
        "  open(\"model.tflite\", \"wb\").write(model_2)\n",
        "\n",
        "  # Получаем размер в байтах\n",
        "  #keras_size = os.path.getsize(\"model.keras\")\n",
        "  keras_size = os.path.getsize(\"ResNet Conv2D.ver-23.01.24.qipc-2000_errors-4.h5\")\n",
        "  tflite_size = os.path.getsize(\"model.tflite\")\n",
        "\n",
        "  #Конвертируем в мегабайты\n",
        "  keras_size = round(keras_size/ 1e6, 1)\n",
        "  tflite_size = round(tflite_size/ 1e6, 1)\n",
        "\n",
        "  print(f\"Keras: {keras_size} MB\" )\n",
        "  print(f\"tfLITE: {tflite_size} MB\")"
      ],
      "metadata": {
        "id": "piwPu_w7rkSR"
      },
      "execution_count": null,
      "outputs": []
    },
    {
      "cell_type": "code",
      "source": [
        "# Создаем конвертер на основе модели Keras\n",
        "converter = tf.lite.TFLiteConverter.from_keras_model(model)\n",
        "\n",
        "# Конвертируем модель в формат TensorFlow Lite\n",
        "tflite_model = converter.convert()\n",
        "\n",
        "\n",
        "# Выводим размер:\n",
        "show_size(model, tflite_model)"
      ],
      "metadata": {
        "id": "uoF2XBm7f71j",
        "colab": {
          "base_uri": "https://localhost:8080/"
        },
        "outputId": "1fca4f54-ac7d-4cd0-d393-6470bc9b9d45"
      },
      "execution_count": null,
      "outputs": [
        {
          "output_type": "stream",
          "name": "stdout",
          "text": [
            "Keras: 45.6 MB\n",
            "tfLITE: 45.3 MB\n"
          ]
        }
      ]
    },
    {
      "cell_type": "code",
      "source": [
        "pathBase = os.path.join(drive_path, 'MyDrive', 'Colab Notebooks', 'final_stances_model.tflite')\n",
        "shutil.copy('/content/model.tflite', pathBase)"
      ],
      "metadata": {
        "colab": {
          "base_uri": "https://localhost:8080/",
          "height": 35
        },
        "id": "QoClkBDvga7W",
        "outputId": "f4370d4a-2f92-45b2-f8a0-39495078045a"
      },
      "execution_count": null,
      "outputs": [
        {
          "output_type": "execute_result",
          "data": {
            "text/plain": [
              "'/content/drive/MyDrive/Colab Notebooks/final_stances_model.tflite'"
            ],
            "application/vnd.google.colaboratory.intrinsic+json": {
              "type": "string"
            }
          },
          "metadata": {},
          "execution_count": 7
        }
      ]
    },
    {
      "cell_type": "code",
      "source": [
        "# Создаем конвертер на основе модели Keras\n",
        "converter = tf.lite.TFLiteConverter.from_keras_model(model)\n",
        "\n",
        "# Включаем оптимизации модели по умолчанию\n",
        "# Это сделает модель более компактной и эффективной\n",
        "converter.optimizations = [tf.lite.Optimize.DEFAULT]\n",
        "\n",
        "# Конвертируем модель в формат TensorFlow Lite\n",
        "tflite_model = converter.convert()\n",
        "\n",
        "show_size(model, tflite_model)\n",
        "pathBase = os.path.join(drive_path, 'MyDrive', 'Colab Notebooks', 'final_stances_model_opt.tflite')\n",
        "shutil.copy('/content/model.tflite', pathBase)"
      ],
      "metadata": {
        "colab": {
          "base_uri": "https://localhost:8080/",
          "height": 70
        },
        "id": "sfv1MYId16AW",
        "outputId": "62c40d87-a3a3-41e0-abb6-9cf673d5040b"
      },
      "execution_count": null,
      "outputs": [
        {
          "output_type": "stream",
          "name": "stdout",
          "text": [
            "Keras: 45.6 MB\n",
            "tfLITE: 11.4 MB\n"
          ]
        },
        {
          "output_type": "execute_result",
          "data": {
            "text/plain": [
              "'/content/drive/MyDrive/Colab Notebooks/final_stances_model_opt.tflite'"
            ],
            "application/vnd.google.colaboratory.intrinsic+json": {
              "type": "string"
            }
          },
          "metadata": {},
          "execution_count": 8
        }
      ]
    },
    {
      "cell_type": "code",
      "source": [
        "# @title Визуализация\n",
        "import matplotlib.pyplot as plt\n",
        "\n",
        "plt.figure(figsize=(20, 3))\n",
        "x = [\"Optimizer\", \"tfLITE\", \"Keras\"]\n",
        "y = [11.4, 45.3, 45.6]\n",
        "colors = ['m', 'blue', 'green']\n",
        "\n",
        "plt.barh(x, y, color=colors)\n",
        "plt.title(\"Вес моделей\", c='gray', fontsize=16)\n",
        "plt.show()\n",
        "plt.figure(figsize=(20, 3))\n",
        "plt.pie(y, labels=x, colors=colors)\n",
        "plt.title(\"Вес моделей\", c='gray', fontsize=16)\n",
        "plt.show()"
      ],
      "metadata": {
        "colab": {
          "base_uri": "https://localhost:8080/",
          "height": 502
        },
        "id": "Ax4AyP8vkI5S",
        "outputId": "fe40b5c6-9de8-4ed4-f89f-b6eeb009d1c3"
      },
      "execution_count": null,
      "outputs": [
        {
          "output_type": "display_data",
          "data": {
            "text/plain": [
              "<Figure size 2000x300 with 1 Axes>"
            ],
            "image/png": "[encoded data removed]"
          },
          "metadata": {}
        },
        {
          "output_type": "display_data",
          "data": {
            "text/plain": [
              "<Figure size 2000x300 with 1 Axes>"
            ],
            "image/png": "[encoded data removed]"
          },
          "metadata": {}
        }
      ]
    }
  ]
}