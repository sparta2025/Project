{
  "nbformat": 4,
  "nbformat_minor": 0,
  "metadata": {
    "colab": {
      "provenance": [],
      "collapsed_sections": [
        "QwTlxz_xdRuX",
        "lfqJWJodrkO6",
        "jFtP8FzRfXY1",
        "v_U_1cxDdUA7",
        "xcrM4utzdm-i",
        "aM4rImeDd4fr",
        "yea-dkTUcNi8"
      ],
      "gpuType": "T4"
    },
    "kernelspec": {
      "name": "python3",
      "display_name": "Python 3"
    },
    "language_info": {
      "name": "python"
    },
    "accelerator": "GPU",
    "widgets": {
      "application/vnd.jupyter.widget-state+json": {
        "b13b08007c974b859650e39d8d38e011": {
          "model_module": "@jupyter-widgets/controls",
          "model_name": "HBoxModel",
          "model_module_version": "1.5.0",
          "state": {
            "_dom_classes": [],
            "_model_module": "@jupyter-widgets/controls",
            "_model_module_version": "1.5.0",
            "_model_name": "HBoxModel",
            "_view_count": null,
            "_view_module": "@jupyter-widgets/controls",
            "_view_module_version": "1.5.0",
            "_view_name": "HBoxView",
            "box_style": "",
            "children": [
              "IPY_MODEL_8074c938f1a1456788bf39e84d134919",
              "IPY_MODEL_431d6f67524e4834a29dfa3ecbb7bed5",
              "IPY_MODEL_c618cff8c3584c0f9c25d5da514f3f54"
            ],
            "layout": "IPY_MODEL_11a1a51f23f2403a949145ed99b9148b"
          }
        },
        "8074c938f1a1456788bf39e84d134919": {
          "model_module": "@jupyter-widgets/controls",
          "model_name": "HTMLModel",
          "model_module_version": "1.5.0",
          "state": {
            "_dom_classes": [],
            "_model_module": "@jupyter-widgets/controls",
            "_model_module_version": "1.5.0",
            "_model_name": "HTMLModel",
            "_view_count": null,
            "_view_module": "@jupyter-widgets/controls",
            "_view_module_version": "1.5.0",
            "_view_name": "HTMLView",
            "description": "",
            "description_tooltip": null,
            "layout": "IPY_MODEL_3760e8bd413c46879b6cc814701d216c",
            "placeholder": "​",
            "style": "IPY_MODEL_e57406a069974e1bbee139fafaf98b27",
            "value": "100%"
          }
        },
        "431d6f67524e4834a29dfa3ecbb7bed5": {
          "model_module": "@jupyter-widgets/controls",
          "model_name": "FloatProgressModel",
          "model_module_version": "1.5.0",
          "state": {
            "_dom_classes": [],
            "_model_module": "@jupyter-widgets/controls",
            "_model_module_version": "1.5.0",
            "_model_name": "FloatProgressModel",
            "_view_count": null,
            "_view_module": "@jupyter-widgets/controls",
            "_view_module_version": "1.5.0",
            "_view_name": "ProgressView",
            "bar_style": "success",
            "description": "",
            "description_tooltip": null,
            "layout": "IPY_MODEL_52a6a9439a484c2b8962398fff507782",
            "max": 3,
            "min": 0,
            "orientation": "horizontal",
            "style": "IPY_MODEL_93267220eb0b41d3ad805ffcaba41923",
            "value": 3
          }
        },
        "c618cff8c3584c0f9c25d5da514f3f54": {
          "model_module": "@jupyter-widgets/controls",
          "model_name": "HTMLModel",
          "model_module_version": "1.5.0",
          "state": {
            "_dom_classes": [],
            "_model_module": "@jupyter-widgets/controls",
            "_model_module_version": "1.5.0",
            "_model_name": "HTMLModel",
            "_view_count": null,
            "_view_module": "@jupyter-widgets/controls",
            "_view_module_version": "1.5.0",
            "_view_name": "HTMLView",
            "description": "",
            "description_tooltip": null,
            "layout": "IPY_MODEL_d52ba5cc997e4435a556fcf7b0167dac",
            "placeholder": "​",
            "style": "IPY_MODEL_59fc62b5f3074a3aa061604572fbffee",
            "value": " 3/3 [07:13&lt;00:00, 143.90s/it]"
          }
        },
        "11a1a51f23f2403a949145ed99b9148b": {
          "model_module": "@jupyter-widgets/base",
          "model_name": "LayoutModel",
          "model_module_version": "1.2.0",
          "state": {
            "_model_module": "@jupyter-widgets/base",
            "_model_module_version": "1.2.0",
            "_model_name": "LayoutModel",
            "_view_count": null,
            "_view_module": "@jupyter-widgets/base",
            "_view_module_version": "1.2.0",
            "_view_name": "LayoutView",
            "align_content": null,
            "align_items": null,
            "align_self": null,
            "border": null,
            "bottom": null,
            "display": null,
            "flex": null,
            "flex_flow": null,
            "grid_area": null,
            "grid_auto_columns": null,
            "grid_auto_flow": null,
            "grid_auto_rows": null,
            "grid_column": null,
            "grid_gap": null,
            "grid_row": null,
            "grid_template_areas": null,
            "grid_template_columns": null,
            "grid_template_rows": null,
            "height": null,
            "justify_content": null,
            "justify_items": null,
            "left": null,
            "margin": null,
            "max_height": null,
            "max_width": null,
            "min_height": null,
            "min_width": null,
            "object_fit": null,
            "object_position": null,
            "order": null,
            "overflow": null,
            "overflow_x": null,
            "overflow_y": null,
            "padding": null,
            "right": null,
            "top": null,
            "visibility": null,
            "width": null
          }
        },
        "3760e8bd413c46879b6cc814701d216c": {
          "model_module": "@jupyter-widgets/base",
          "model_name": "LayoutModel",
          "model_module_version": "1.2.0",
          "state": {
            "_model_module": "@jupyter-widgets/base",
            "_model_module_version": "1.2.0",
            "_model_name": "LayoutModel",
            "_view_count": null,
            "_view_module": "@jupyter-widgets/base",
            "_view_module_version": "1.2.0",
            "_view_name": "LayoutView",
            "align_content": null,
            "align_items": null,
            "align_self": null,
            "border": null,
            "bottom": null,
            "display": null,
            "flex": null,
            "flex_flow": null,
            "grid_area": null,
            "grid_auto_columns": null,
            "grid_auto_flow": null,
            "grid_auto_rows": null,
            "grid_column": null,
            "grid_gap": null,
            "grid_row": null,
            "grid_template_areas": null,
            "grid_template_columns": null,
            "grid_template_rows": null,
            "height": null,
            "justify_content": null,
            "justify_items": null,
            "left": null,
            "margin": null,
            "max_height": null,
            "max_width": null,
            "min_height": null,
            "min_width": null,
            "object_fit": null,
            "object_position": null,
            "order": null,
            "overflow": null,
            "overflow_x": null,
            "overflow_y": null,
            "padding": null,
            "right": null,
            "top": null,
            "visibility": null,
            "width": null
          }
        },
        "e57406a069974e1bbee139fafaf98b27": {
          "model_module": "@jupyter-widgets/controls",
          "model_name": "DescriptionStyleModel",
          "model_module_version": "1.5.0",
          "state": {
            "_model_module": "@jupyter-widgets/controls",
            "_model_module_version": "1.5.0",
            "_model_name": "DescriptionStyleModel",
            "_view_count": null,
            "_view_module": "@jupyter-widgets/base",
            "_view_module_version": "1.2.0",
            "_view_name": "StyleView",
            "description_width": ""
          }
        },
        "52a6a9439a484c2b8962398fff507782": {
          "model_module": "@jupyter-widgets/base",
          "model_name": "LayoutModel",
          "model_module_version": "1.2.0",
          "state": {
            "_model_module": "@jupyter-widgets/base",
            "_model_module_version": "1.2.0",
            "_model_name": "LayoutModel",
            "_view_count": null,
            "_view_module": "@jupyter-widgets/base",
            "_view_module_version": "1.2.0",
            "_view_name": "LayoutView",
            "align_content": null,
            "align_items": null,
            "align_self": null,
            "border": null,
            "bottom": null,
            "display": null,
            "flex": null,
            "flex_flow": null,
            "grid_area": null,
            "grid_auto_columns": null,
            "grid_auto_flow": null,
            "grid_auto_rows": null,
            "grid_column": null,
            "grid_gap": null,
            "grid_row": null,
            "grid_template_areas": null,
            "grid_template_columns": null,
            "grid_template_rows": null,
            "height": null,
            "justify_content": null,
            "justify_items": null,
            "left": null,
            "margin": null,
            "max_height": null,
            "max_width": null,
            "min_height": null,
            "min_width": null,
            "object_fit": null,
            "object_position": null,
            "order": null,
            "overflow": null,
            "overflow_x": null,
            "overflow_y": null,
            "padding": null,
            "right": null,
            "top": null,
            "visibility": null,
            "width": null
          }
        },
        "93267220eb0b41d3ad805ffcaba41923": {
          "model_module": "@jupyter-widgets/controls",
          "model_name": "ProgressStyleModel",
          "model_module_version": "1.5.0",
          "state": {
            "_model_module": "@jupyter-widgets/controls",
            "_model_module_version": "1.5.0",
            "_model_name": "ProgressStyleModel",
            "_view_count": null,
            "_view_module": "@jupyter-widgets/base",
            "_view_module_version": "1.2.0",
            "_view_name": "StyleView",
            "bar_color": null,
            "description_width": ""
          }
        },
        "d52ba5cc997e4435a556fcf7b0167dac": {
          "model_module": "@jupyter-widgets/base",
          "model_name": "LayoutModel",
          "model_module_version": "1.2.0",
          "state": {
            "_model_module": "@jupyter-widgets/base",
            "_model_module_version": "1.2.0",
            "_model_name": "LayoutModel",
            "_view_count": null,
            "_view_module": "@jupyter-widgets/base",
            "_view_module_version": "1.2.0",
            "_view_name": "LayoutView",
            "align_content": null,
            "align_items": null,
            "align_self": null,
            "border": null,
            "bottom": null,
            "display": null,
            "flex": null,
            "flex_flow": null,
            "grid_area": null,
            "grid_auto_columns": null,
            "grid_auto_flow": null,
            "grid_auto_rows": null,
            "grid_column": null,
            "grid_gap": null,
            "grid_row": null,
            "grid_template_areas": null,
            "grid_template_columns": null,
            "grid_template_rows": null,
            "height": null,
            "justify_content": null,
            "justify_items": null,
            "left": null,
            "margin": null,
            "max_height": null,
            "max_width": null,
            "min_height": null,
            "min_width": null,
            "object_fit": null,
            "object_position": null,
            "order": null,
            "overflow": null,
            "overflow_x": null,
            "overflow_y": null,
            "padding": null,
            "right": null,
            "top": null,
            "visibility": null,
            "width": null
          }
        },
        "59fc62b5f3074a3aa061604572fbffee": {
          "model_module": "@jupyter-widgets/controls",
          "model_name": "DescriptionStyleModel",
          "model_module_version": "1.5.0",
          "state": {
            "_model_module": "@jupyter-widgets/controls",
            "_model_module_version": "1.5.0",
            "_model_name": "DescriptionStyleModel",
            "_view_count": null,
            "_view_module": "@jupyter-widgets/base",
            "_view_module_version": "1.2.0",
            "_view_name": "StyleView",
            "description_width": ""
          }
        },
        "fab9393c573c487d81fac050f4c42c91": {
          "model_module": "@jupyter-widgets/controls",
          "model_name": "HBoxModel",
          "model_module_version": "1.5.0",
          "state": {
            "_dom_classes": [],
            "_model_module": "@jupyter-widgets/controls",
            "_model_module_version": "1.5.0",
            "_model_name": "HBoxModel",
            "_view_count": null,
            "_view_module": "@jupyter-widgets/controls",
            "_view_module_version": "1.5.0",
            "_view_name": "HBoxView",
            "box_style": "",
            "children": [
              "IPY_MODEL_9115c59a0eb441fe942cdecd70816963",
              "IPY_MODEL_268f5ff4fe2b49188f6611ccb7b0d811",
              "IPY_MODEL_7e1bd7bf58ef4045abfc011f157271f9"
            ],
            "layout": "IPY_MODEL_b34459746fc94a2ab9b048c6f8e1440c"
          }
        },
        "9115c59a0eb441fe942cdecd70816963": {
          "model_module": "@jupyter-widgets/controls",
          "model_name": "HTMLModel",
          "model_module_version": "1.5.0",
          "state": {
            "_dom_classes": [],
            "_model_module": "@jupyter-widgets/controls",
            "_model_module_version": "1.5.0",
            "_model_name": "HTMLModel",
            "_view_count": null,
            "_view_module": "@jupyter-widgets/controls",
            "_view_module_version": "1.5.0",
            "_view_name": "HTMLView",
            "description": "",
            "description_tooltip": null,
            "layout": "IPY_MODEL_01823b5f0db44f22852c86805a0159ff",
            "placeholder": "​",
            "style": "IPY_MODEL_d3e3392d7d67473fb163dbe85f2b130d",
            "value": "100%"
          }
        },
        "268f5ff4fe2b49188f6611ccb7b0d811": {
          "model_module": "@jupyter-widgets/controls",
          "model_name": "FloatProgressModel",
          "model_module_version": "1.5.0",
          "state": {
            "_dom_classes": [],
            "_model_module": "@jupyter-widgets/controls",
            "_model_module_version": "1.5.0",
            "_model_name": "FloatProgressModel",
            "_view_count": null,
            "_view_module": "@jupyter-widgets/controls",
            "_view_module_version": "1.5.0",
            "_view_name": "ProgressView",
            "bar_style": "success",
            "description": "",
            "description_tooltip": null,
            "layout": "IPY_MODEL_f4ae8a09d7a64409a4579d9873b25997",
            "max": 5,
            "min": 0,
            "orientation": "horizontal",
            "style": "IPY_MODEL_576bad9f18384498b9d8b145eb5843ec",
            "value": 5
          }
        },
        "7e1bd7bf58ef4045abfc011f157271f9": {
          "model_module": "@jupyter-widgets/controls",
          "model_name": "HTMLModel",
          "model_module_version": "1.5.0",
          "state": {
            "_dom_classes": [],
            "_model_module": "@jupyter-widgets/controls",
            "_model_module_version": "1.5.0",
            "_model_name": "HTMLModel",
            "_view_count": null,
            "_view_module": "@jupyter-widgets/controls",
            "_view_module_version": "1.5.0",
            "_view_name": "HTMLView",
            "description": "",
            "description_tooltip": null,
            "layout": "IPY_MODEL_0d1572650d284e07ba4a54b6bcc8c0a7",
            "placeholder": "​",
            "style": "IPY_MODEL_02b64a777c9b4a639446de04e1f885d7",
            "value": " 5/5 [12:07&lt;00:00, 145.47s/it]"
          }
        },
        "b34459746fc94a2ab9b048c6f8e1440c": {
          "model_module": "@jupyter-widgets/base",
          "model_name": "LayoutModel",
          "model_module_version": "1.2.0",
          "state": {
            "_model_module": "@jupyter-widgets/base",
            "_model_module_version": "1.2.0",
            "_model_name": "LayoutModel",
            "_view_count": null,
            "_view_module": "@jupyter-widgets/base",
            "_view_module_version": "1.2.0",
            "_view_name": "LayoutView",
            "align_content": null,
            "align_items": null,
            "align_self": null,
            "border": null,
            "bottom": null,
            "display": null,
            "flex": null,
            "flex_flow": null,
            "grid_area": null,
            "grid_auto_columns": null,
            "grid_auto_flow": null,
            "grid_auto_rows": null,
            "grid_column": null,
            "grid_gap": null,
            "grid_row": null,
            "grid_template_areas": null,
            "grid_template_columns": null,
            "grid_template_rows": null,
            "height": null,
            "justify_content": null,
            "justify_items": null,
            "left": null,
            "margin": null,
            "max_height": null,
            "max_width": null,
            "min_height": null,
            "min_width": null,
            "object_fit": null,
            "object_position": null,
            "order": null,
            "overflow": null,
            "overflow_x": null,
            "overflow_y": null,
            "padding": null,
            "right": null,
            "top": null,
            "visibility": null,
            "width": null
          }
        },
        "01823b5f0db44f22852c86805a0159ff": {
          "model_module": "@jupyter-widgets/base",
          "model_name": "LayoutModel",
          "model_module_version": "1.2.0",
          "state": {
            "_model_module": "@jupyter-widgets/base",
            "_model_module_version": "1.2.0",
            "_model_name": "LayoutModel",
            "_view_count": null,
            "_view_module": "@jupyter-widgets/base",
            "_view_module_version": "1.2.0",
            "_view_name": "LayoutView",
            "align_content": null,
            "align_items": null,
            "align_self": null,
            "border": null,
            "bottom": null,
            "display": null,
            "flex": null,
            "flex_flow": null,
            "grid_area": null,
            "grid_auto_columns": null,
            "grid_auto_flow": null,
            "grid_auto_rows": null,
            "grid_column": null,
            "grid_gap": null,
            "grid_row": null,
            "grid_template_areas": null,
            "grid_template_columns": null,
            "grid_template_rows": null,
            "height": null,
            "justify_content": null,
            "justify_items": null,
            "left": null,
            "margin": null,
            "max_height": null,
            "max_width": null,
            "min_height": null,
            "min_width": null,
            "object_fit": null,
            "object_position": null,
            "order": null,
            "overflow": null,
            "overflow_x": null,
            "overflow_y": null,
            "padding": null,
            "right": null,
            "top": null,
            "visibility": null,
            "width": null
          }
        },
        "d3e3392d7d67473fb163dbe85f2b130d": {
          "model_module": "@jupyter-widgets/controls",
          "model_name": "DescriptionStyleModel",
          "model_module_version": "1.5.0",
          "state": {
            "_model_module": "@jupyter-widgets/controls",
            "_model_module_version": "1.5.0",
            "_model_name": "DescriptionStyleModel",
            "_view_count": null,
            "_view_module": "@jupyter-widgets/base",
            "_view_module_version": "1.2.0",
            "_view_name": "StyleView",
            "description_width": ""
          }
        },
        "f4ae8a09d7a64409a4579d9873b25997": {
          "model_module": "@jupyter-widgets/base",
          "model_name": "LayoutModel",
          "model_module_version": "1.2.0",
          "state": {
            "_model_module": "@jupyter-widgets/base",
            "_model_module_version": "1.2.0",
            "_model_name": "LayoutModel",
            "_view_count": null,
            "_view_module": "@jupyter-widgets/base",
            "_view_module_version": "1.2.0",
            "_view_name": "LayoutView",
            "align_content": null,
            "align_items": null,
            "align_self": null,
            "border": null,
            "bottom": null,
            "display": null,
            "flex": null,
            "flex_flow": null,
            "grid_area": null,
            "grid_auto_columns": null,
            "grid_auto_flow": null,
            "grid_auto_rows": null,
            "grid_column": null,
            "grid_gap": null,
            "grid_row": null,
            "grid_template_areas": null,
            "grid_template_columns": null,
            "grid_template_rows": null,
            "height": null,
            "justify_content": null,
            "justify_items": null,
            "left": null,
            "margin": null,
            "max_height": null,
            "max_width": null,
            "min_height": null,
            "min_width": null,
            "object_fit": null,
            "object_position": null,
            "order": null,
            "overflow": null,
            "overflow_x": null,
            "overflow_y": null,
            "padding": null,
            "right": null,
            "top": null,
            "visibility": null,
            "width": null
          }
        },
        "576bad9f18384498b9d8b145eb5843ec": {
          "model_module": "@jupyter-widgets/controls",
          "model_name": "ProgressStyleModel",
          "model_module_version": "1.5.0",
          "state": {
            "_model_module": "@jupyter-widgets/controls",
            "_model_module_version": "1.5.0",
            "_model_name": "ProgressStyleModel",
            "_view_count": null,
            "_view_module": "@jupyter-widgets/base",
            "_view_module_version": "1.2.0",
            "_view_name": "StyleView",
            "bar_color": null,
            "description_width": ""
          }
        },
        "0d1572650d284e07ba4a54b6bcc8c0a7": {
          "model_module": "@jupyter-widgets/base",
          "model_name": "LayoutModel",
          "model_module_version": "1.2.0",
          "state": {
            "_model_module": "@jupyter-widgets/base",
            "_model_module_version": "1.2.0",
            "_model_name": "LayoutModel",
            "_view_count": null,
            "_view_module": "@jupyter-widgets/base",
            "_view_module_version": "1.2.0",
            "_view_name": "LayoutView",
            "align_content": null,
            "align_items": null,
            "align_self": null,
            "border": null,
            "bottom": null,
            "display": null,
            "flex": null,
            "flex_flow": null,
            "grid_area": null,
            "grid_auto_columns": null,
            "grid_auto_flow": null,
            "grid_auto_rows": null,
            "grid_column": null,
            "grid_gap": null,
            "grid_row": null,
            "grid_template_areas": null,
            "grid_template_columns": null,
            "grid_template_rows": null,
            "height": null,
            "justify_content": null,
            "justify_items": null,
            "left": null,
            "margin": null,
            "max_height": null,
            "max_width": null,
            "min_height": null,
            "min_width": null,
            "object_fit": null,
            "object_position": null,
            "order": null,
            "overflow": null,
            "overflow_x": null,
            "overflow_y": null,
            "padding": null,
            "right": null,
            "top": null,
            "visibility": null,
            "width": null
          }
        },
        "02b64a777c9b4a639446de04e1f885d7": {
          "model_module": "@jupyter-widgets/controls",
          "model_name": "DescriptionStyleModel",
          "model_module_version": "1.5.0",
          "state": {
            "_model_module": "@jupyter-widgets/controls",
            "_model_module_version": "1.5.0",
            "_model_name": "DescriptionStyleModel",
            "_view_count": null,
            "_view_module": "@jupyter-widgets/base",
            "_view_module_version": "1.2.0",
            "_view_name": "StyleView",
            "description_width": ""
          }
        },
        "deb92430ccc940df8013e393445d384f": {
          "model_module": "@jupyter-widgets/controls",
          "model_name": "HBoxModel",
          "model_module_version": "1.5.0",
          "state": {
            "_dom_classes": [],
            "_model_module": "@jupyter-widgets/controls",
            "_model_module_version": "1.5.0",
            "_model_name": "HBoxModel",
            "_view_count": null,
            "_view_module": "@jupyter-widgets/controls",
            "_view_module_version": "1.5.0",
            "_view_name": "HBoxView",
            "box_style": "",
            "children": [
              "IPY_MODEL_d411562935614070ba4b41d032c240de",
              "IPY_MODEL_dda6a6c39304408ba66f7b6e6cce99ff",
              "IPY_MODEL_d777d934c8564b5db0a6412448043d93"
            ],
            "layout": "IPY_MODEL_e449642524954496bc0f1c8432a0a02c"
          }
        },
        "d411562935614070ba4b41d032c240de": {
          "model_module": "@jupyter-widgets/controls",
          "model_name": "HTMLModel",
          "model_module_version": "1.5.0",
          "state": {
            "_dom_classes": [],
            "_model_module": "@jupyter-widgets/controls",
            "_model_module_version": "1.5.0",
            "_model_name": "HTMLModel",
            "_view_count": null,
            "_view_module": "@jupyter-widgets/controls",
            "_view_module_version": "1.5.0",
            "_view_name": "HTMLView",
            "description": "",
            "description_tooltip": null,
            "layout": "IPY_MODEL_69f7390f50d34c2b898c1bb5fab0b684",
            "placeholder": "​",
            "style": "IPY_MODEL_8a16700755fb4ce38f2d511d14454066",
            "value": "100%"
          }
        },
        "dda6a6c39304408ba66f7b6e6cce99ff": {
          "model_module": "@jupyter-widgets/controls",
          "model_name": "FloatProgressModel",
          "model_module_version": "1.5.0",
          "state": {
            "_dom_classes": [],
            "_model_module": "@jupyter-widgets/controls",
            "_model_module_version": "1.5.0",
            "_model_name": "FloatProgressModel",
            "_view_count": null,
            "_view_module": "@jupyter-widgets/controls",
            "_view_module_version": "1.5.0",
            "_view_name": "ProgressView",
            "bar_style": "success",
            "description": "",
            "description_tooltip": null,
            "layout": "IPY_MODEL_504e1411cfc2409ea5071aa89dd9a6e2",
            "max": 5,
            "min": 0,
            "orientation": "horizontal",
            "style": "IPY_MODEL_baee85d9e3214946a06be7c2ac982ff6",
            "value": 5
          }
        },
        "d777d934c8564b5db0a6412448043d93": {
          "model_module": "@jupyter-widgets/controls",
          "model_name": "HTMLModel",
          "model_module_version": "1.5.0",
          "state": {
            "_dom_classes": [],
            "_model_module": "@jupyter-widgets/controls",
            "_model_module_version": "1.5.0",
            "_model_name": "HTMLModel",
            "_view_count": null,
            "_view_module": "@jupyter-widgets/controls",
            "_view_module_version": "1.5.0",
            "_view_name": "HTMLView",
            "description": "",
            "description_tooltip": null,
            "layout": "IPY_MODEL_5e2796f30664420f95fa4b6890f61928",
            "placeholder": "​",
            "style": "IPY_MODEL_6948c521d3824161ba23b188913c6b50",
            "value": " 5/5 [12:03&lt;00:00, 144.87s/it]"
          }
        },
        "e449642524954496bc0f1c8432a0a02c": {
          "model_module": "@jupyter-widgets/base",
          "model_name": "LayoutModel",
          "model_module_version": "1.2.0",
          "state": {
            "_model_module": "@jupyter-widgets/base",
            "_model_module_version": "1.2.0",
            "_model_name": "LayoutModel",
            "_view_count": null,
            "_view_module": "@jupyter-widgets/base",
            "_view_module_version": "1.2.0",
            "_view_name": "LayoutView",
            "align_content": null,
            "align_items": null,
            "align_self": null,
            "border": null,
            "bottom": null,
            "display": null,
            "flex": null,
            "flex_flow": null,
            "grid_area": null,
            "grid_auto_columns": null,
            "grid_auto_flow": null,
            "grid_auto_rows": null,
            "grid_column": null,
            "grid_gap": null,
            "grid_row": null,
            "grid_template_areas": null,
            "grid_template_columns": null,
            "grid_template_rows": null,
            "height": null,
            "justify_content": null,
            "justify_items": null,
            "left": null,
            "margin": null,
            "max_height": null,
            "max_width": null,
            "min_height": null,
            "min_width": null,
            "object_fit": null,
            "object_position": null,
            "order": null,
            "overflow": null,
            "overflow_x": null,
            "overflow_y": null,
            "padding": null,
            "right": null,
            "top": null,
            "visibility": null,
            "width": null
          }
        },
        "69f7390f50d34c2b898c1bb5fab0b684": {
          "model_module": "@jupyter-widgets/base",
          "model_name": "LayoutModel",
          "model_module_version": "1.2.0",
          "state": {
            "_model_module": "@jupyter-widgets/base",
            "_model_module_version": "1.2.0",
            "_model_name": "LayoutModel",
            "_view_count": null,
            "_view_module": "@jupyter-widgets/base",
            "_view_module_version": "1.2.0",
            "_view_name": "LayoutView",
            "align_content": null,
            "align_items": null,
            "align_self": null,
            "border": null,
            "bottom": null,
            "display": null,
            "flex": null,
            "flex_flow": null,
            "grid_area": null,
            "grid_auto_columns": null,
            "grid_auto_flow": null,
            "grid_auto_rows": null,
            "grid_column": null,
            "grid_gap": null,
            "grid_row": null,
            "grid_template_areas": null,
            "grid_template_columns": null,
            "grid_template_rows": null,
            "height": null,
            "justify_content": null,
            "justify_items": null,
            "left": null,
            "margin": null,
            "max_height": null,
            "max_width": null,
            "min_height": null,
            "min_width": null,
            "object_fit": null,
            "object_position": null,
            "order": null,
            "overflow": null,
            "overflow_x": null,
            "overflow_y": null,
            "padding": null,
            "right": null,
            "top": null,
            "visibility": null,
            "width": null
          }
        },
        "8a16700755fb4ce38f2d511d14454066": {
          "model_module": "@jupyter-widgets/controls",
          "model_name": "DescriptionStyleModel",
          "model_module_version": "1.5.0",
          "state": {
            "_model_module": "@jupyter-widgets/controls",
            "_model_module_version": "1.5.0",
            "_model_name": "DescriptionStyleModel",
            "_view_count": null,
            "_view_module": "@jupyter-widgets/base",
            "_view_module_version": "1.2.0",
            "_view_name": "StyleView",
            "description_width": ""
          }
        },
        "504e1411cfc2409ea5071aa89dd9a6e2": {
          "model_module": "@jupyter-widgets/base",
          "model_name": "LayoutModel",
          "model_module_version": "1.2.0",
          "state": {
            "_model_module": "@jupyter-widgets/base",
            "_model_module_version": "1.2.0",
            "_model_name": "LayoutModel",
            "_view_count": null,
            "_view_module": "@jupyter-widgets/base",
            "_view_module_version": "1.2.0",
            "_view_name": "LayoutView",
            "align_content": null,
            "align_items": null,
            "align_self": null,
            "border": null,
            "bottom": null,
            "display": null,
            "flex": null,
            "flex_flow": null,
            "grid_area": null,
            "grid_auto_columns": null,
            "grid_auto_flow": null,
            "grid_auto_rows": null,
            "grid_column": null,
            "grid_gap": null,
            "grid_row": null,
            "grid_template_areas": null,
            "grid_template_columns": null,
            "grid_template_rows": null,
            "height": null,
            "justify_content": null,
            "justify_items": null,
            "left": null,
            "margin": null,
            "max_height": null,
            "max_width": null,
            "min_height": null,
            "min_width": null,
            "object_fit": null,
            "object_position": null,
            "order": null,
            "overflow": null,
            "overflow_x": null,
            "overflow_y": null,
            "padding": null,
            "right": null,
            "top": null,
            "visibility": null,
            "width": null
          }
        },
        "baee85d9e3214946a06be7c2ac982ff6": {
          "model_module": "@jupyter-widgets/controls",
          "model_name": "ProgressStyleModel",
          "model_module_version": "1.5.0",
          "state": {
            "_model_module": "@jupyter-widgets/controls",
            "_model_module_version": "1.5.0",
            "_model_name": "ProgressStyleModel",
            "_view_count": null,
            "_view_module": "@jupyter-widgets/base",
            "_view_module_version": "1.2.0",
            "_view_name": "StyleView",
            "bar_color": null,
            "description_width": ""
          }
        },
        "5e2796f30664420f95fa4b6890f61928": {
          "model_module": "@jupyter-widgets/base",
          "model_name": "LayoutModel",
          "model_module_version": "1.2.0",
          "state": {
            "_model_module": "@jupyter-widgets/base",
            "_model_module_version": "1.2.0",
            "_model_name": "LayoutModel",
            "_view_count": null,
            "_view_module": "@jupyter-widgets/base",
            "_view_module_version": "1.2.0",
            "_view_name": "LayoutView",
            "align_content": null,
            "align_items": null,
            "align_self": null,
            "border": null,
            "bottom": null,
            "display": null,
            "flex": null,
            "flex_flow": null,
            "grid_area": null,
            "grid_auto_columns": null,
            "grid_auto_flow": null,
            "grid_auto_rows": null,
            "grid_column": null,
            "grid_gap": null,
            "grid_row": null,
            "grid_template_areas": null,
            "grid_template_columns": null,
            "grid_template_rows": null,
            "height": null,
            "justify_content": null,
            "justify_items": null,
            "left": null,
            "margin": null,
            "max_height": null,
            "max_width": null,
            "min_height": null,
            "min_width": null,
            "object_fit": null,
            "object_position": null,
            "order": null,
            "overflow": null,
            "overflow_x": null,
            "overflow_y": null,
            "padding": null,
            "right": null,
            "top": null,
            "visibility": null,
            "width": null
          }
        },
        "6948c521d3824161ba23b188913c6b50": {
          "model_module": "@jupyter-widgets/controls",
          "model_name": "DescriptionStyleModel",
          "model_module_version": "1.5.0",
          "state": {
            "_model_module": "@jupyter-widgets/controls",
            "_model_module_version": "1.5.0",
            "_model_name": "DescriptionStyleModel",
            "_view_count": null,
            "_view_module": "@jupyter-widgets/base",
            "_view_module_version": "1.2.0",
            "_view_name": "StyleView",
            "description_width": ""
          }
        },
        "73bc4ff40b6f4fc39c7065895cc90b10": {
          "model_module": "@jupyter-widgets/controls",
          "model_name": "HBoxModel",
          "model_module_version": "1.5.0",
          "state": {
            "_dom_classes": [],
            "_model_module": "@jupyter-widgets/controls",
            "_model_module_version": "1.5.0",
            "_model_name": "HBoxModel",
            "_view_count": null,
            "_view_module": "@jupyter-widgets/controls",
            "_view_module_version": "1.5.0",
            "_view_name": "HBoxView",
            "box_style": "",
            "children": [
              "IPY_MODEL_063d904cb3ea4f1b991643f45365666e",
              "IPY_MODEL_0d277f93791b4e07a0d480fb35f6e51b",
              "IPY_MODEL_3821af1c15b442aa8e027029ebc0cc25"
            ],
            "layout": "IPY_MODEL_75bda8b1022d4716b0da6ec0d629b585"
          }
        },
        "063d904cb3ea4f1b991643f45365666e": {
          "model_module": "@jupyter-widgets/controls",
          "model_name": "HTMLModel",
          "model_module_version": "1.5.0",
          "state": {
            "_dom_classes": [],
            "_model_module": "@jupyter-widgets/controls",
            "_model_module_version": "1.5.0",
            "_model_name": "HTMLModel",
            "_view_count": null,
            "_view_module": "@jupyter-widgets/controls",
            "_view_module_version": "1.5.0",
            "_view_name": "HTMLView",
            "description": "",
            "description_tooltip": null,
            "layout": "IPY_MODEL_e51551fa8b854aa9808c07f1cc36c0fb",
            "placeholder": "​",
            "style": "IPY_MODEL_463d6ebe458b4fba902660fb18646897",
            "value": "100%"
          }
        },
        "0d277f93791b4e07a0d480fb35f6e51b": {
          "model_module": "@jupyter-widgets/controls",
          "model_name": "FloatProgressModel",
          "model_module_version": "1.5.0",
          "state": {
            "_dom_classes": [],
            "_model_module": "@jupyter-widgets/controls",
            "_model_module_version": "1.5.0",
            "_model_name": "FloatProgressModel",
            "_view_count": null,
            "_view_module": "@jupyter-widgets/controls",
            "_view_module_version": "1.5.0",
            "_view_name": "ProgressView",
            "bar_style": "success",
            "description": "",
            "description_tooltip": null,
            "layout": "IPY_MODEL_31a515c9b72848b085594232a9397827",
            "max": 5,
            "min": 0,
            "orientation": "horizontal",
            "style": "IPY_MODEL_5f02aea7830046f89c07b77c1200ce97",
            "value": 5
          }
        },
        "3821af1c15b442aa8e027029ebc0cc25": {
          "model_module": "@jupyter-widgets/controls",
          "model_name": "HTMLModel",
          "model_module_version": "1.5.0",
          "state": {
            "_dom_classes": [],
            "_model_module": "@jupyter-widgets/controls",
            "_model_module_version": "1.5.0",
            "_model_name": "HTMLModel",
            "_view_count": null,
            "_view_module": "@jupyter-widgets/controls",
            "_view_module_version": "1.5.0",
            "_view_name": "HTMLView",
            "description": "",
            "description_tooltip": null,
            "layout": "IPY_MODEL_7c3d99e4b6714b03a9aff3e0350f16ef",
            "placeholder": "​",
            "style": "IPY_MODEL_cbc6f40e0d754195aa53b5ecc689723b",
            "value": " 5/5 [12:07&lt;00:00, 145.43s/it]"
          }
        },
        "75bda8b1022d4716b0da6ec0d629b585": {
          "model_module": "@jupyter-widgets/base",
          "model_name": "LayoutModel",
          "model_module_version": "1.2.0",
          "state": {
            "_model_module": "@jupyter-widgets/base",
            "_model_module_version": "1.2.0",
            "_model_name": "LayoutModel",
            "_view_count": null,
            "_view_module": "@jupyter-widgets/base",
            "_view_module_version": "1.2.0",
            "_view_name": "LayoutView",
            "align_content": null,
            "align_items": null,
            "align_self": null,
            "border": null,
            "bottom": null,
            "display": null,
            "flex": null,
            "flex_flow": null,
            "grid_area": null,
            "grid_auto_columns": null,
            "grid_auto_flow": null,
            "grid_auto_rows": null,
            "grid_column": null,
            "grid_gap": null,
            "grid_row": null,
            "grid_template_areas": null,
            "grid_template_columns": null,
            "grid_template_rows": null,
            "height": null,
            "justify_content": null,
            "justify_items": null,
            "left": null,
            "margin": null,
            "max_height": null,
            "max_width": null,
            "min_height": null,
            "min_width": null,
            "object_fit": null,
            "object_position": null,
            "order": null,
            "overflow": null,
            "overflow_x": null,
            "overflow_y": null,
            "padding": null,
            "right": null,
            "top": null,
            "visibility": null,
            "width": null
          }
        },
        "e51551fa8b854aa9808c07f1cc36c0fb": {
          "model_module": "@jupyter-widgets/base",
          "model_name": "LayoutModel",
          "model_module_version": "1.2.0",
          "state": {
            "_model_module": "@jupyter-widgets/base",
            "_model_module_version": "1.2.0",
            "_model_name": "LayoutModel",
            "_view_count": null,
            "_view_module": "@jupyter-widgets/base",
            "_view_module_version": "1.2.0",
            "_view_name": "LayoutView",
            "align_content": null,
            "align_items": null,
            "align_self": null,
            "border": null,
            "bottom": null,
            "display": null,
            "flex": null,
            "flex_flow": null,
            "grid_area": null,
            "grid_auto_columns": null,
            "grid_auto_flow": null,
            "grid_auto_rows": null,
            "grid_column": null,
            "grid_gap": null,
            "grid_row": null,
            "grid_template_areas": null,
            "grid_template_columns": null,
            "grid_template_rows": null,
            "height": null,
            "justify_content": null,
            "justify_items": null,
            "left": null,
            "margin": null,
            "max_height": null,
            "max_width": null,
            "min_height": null,
            "min_width": null,
            "object_fit": null,
            "object_position": null,
            "order": null,
            "overflow": null,
            "overflow_x": null,
            "overflow_y": null,
            "padding": null,
            "right": null,
            "top": null,
            "visibility": null,
            "width": null
          }
        },
        "463d6ebe458b4fba902660fb18646897": {
          "model_module": "@jupyter-widgets/controls",
          "model_name": "DescriptionStyleModel",
          "model_module_version": "1.5.0",
          "state": {
            "_model_module": "@jupyter-widgets/controls",
            "_model_module_version": "1.5.0",
            "_model_name": "DescriptionStyleModel",
            "_view_count": null,
            "_view_module": "@jupyter-widgets/base",
            "_view_module_version": "1.2.0",
            "_view_name": "StyleView",
            "description_width": ""
          }
        },
        "31a515c9b72848b085594232a9397827": {
          "model_module": "@jupyter-widgets/base",
          "model_name": "LayoutModel",
          "model_module_version": "1.2.0",
          "state": {
            "_model_module": "@jupyter-widgets/base",
            "_model_module_version": "1.2.0",
            "_model_name": "LayoutModel",
            "_view_count": null,
            "_view_module": "@jupyter-widgets/base",
            "_view_module_version": "1.2.0",
            "_view_name": "LayoutView",
            "align_content": null,
            "align_items": null,
            "align_self": null,
            "border": null,
            "bottom": null,
            "display": null,
            "flex": null,
            "flex_flow": null,
            "grid_area": null,
            "grid_auto_columns": null,
            "grid_auto_flow": null,
            "grid_auto_rows": null,
            "grid_column": null,
            "grid_gap": null,
            "grid_row": null,
            "grid_template_areas": null,
            "grid_template_columns": null,
            "grid_template_rows": null,
            "height": null,
            "justify_content": null,
            "justify_items": null,
            "left": null,
            "margin": null,
            "max_height": null,
            "max_width": null,
            "min_height": null,
            "min_width": null,
            "object_fit": null,
            "object_position": null,
            "order": null,
            "overflow": null,
            "overflow_x": null,
            "overflow_y": null,
            "padding": null,
            "right": null,
            "top": null,
            "visibility": null,
            "width": null
          }
        },
        "5f02aea7830046f89c07b77c1200ce97": {
          "model_module": "@jupyter-widgets/controls",
          "model_name": "ProgressStyleModel",
          "model_module_version": "1.5.0",
          "state": {
            "_model_module": "@jupyter-widgets/controls",
            "_model_module_version": "1.5.0",
            "_model_name": "ProgressStyleModel",
            "_view_count": null,
            "_view_module": "@jupyter-widgets/base",
            "_view_module_version": "1.2.0",
            "_view_name": "StyleView",
            "bar_color": null,
            "description_width": ""
          }
        },
        "7c3d99e4b6714b03a9aff3e0350f16ef": {
          "model_module": "@jupyter-widgets/base",
          "model_name": "LayoutModel",
          "model_module_version": "1.2.0",
          "state": {
            "_model_module": "@jupyter-widgets/base",
            "_model_module_version": "1.2.0",
            "_model_name": "LayoutModel",
            "_view_count": null,
            "_view_module": "@jupyter-widgets/base",
            "_view_module_version": "1.2.0",
            "_view_name": "LayoutView",
            "align_content": null,
            "align_items": null,
            "align_self": null,
            "border": null,
            "bottom": null,
            "display": null,
            "flex": null,
            "flex_flow": null,
            "grid_area": null,
            "grid_auto_columns": null,
            "grid_auto_flow": null,
            "grid_auto_rows": null,
            "grid_column": null,
            "grid_gap": null,
            "grid_row": null,
            "grid_template_areas": null,
            "grid_template_columns": null,
            "grid_template_rows": null,
            "height": null,
            "justify_content": null,
            "justify_items": null,
            "left": null,
            "margin": null,
            "max_height": null,
            "max_width": null,
            "min_height": null,
            "min_width": null,
            "object_fit": null,
            "object_position": null,
            "order": null,
            "overflow": null,
            "overflow_x": null,
            "overflow_y": null,
            "padding": null,
            "right": null,
            "top": null,
            "visibility": null,
            "width": null
          }
        },
        "cbc6f40e0d754195aa53b5ecc689723b": {
          "model_module": "@jupyter-widgets/controls",
          "model_name": "DescriptionStyleModel",
          "model_module_version": "1.5.0",
          "state": {
            "_model_module": "@jupyter-widgets/controls",
            "_model_module_version": "1.5.0",
            "_model_name": "DescriptionStyleModel",
            "_view_count": null,
            "_view_module": "@jupyter-widgets/base",
            "_view_module_version": "1.2.0",
            "_view_name": "StyleView",
            "description_width": ""
          }
        },
        "5511dc24c918413aa0371c1f93cb1a0c": {
          "model_module": "@jupyter-widgets/controls",
          "model_name": "HBoxModel",
          "model_module_version": "1.5.0",
          "state": {
            "_dom_classes": [],
            "_model_module": "@jupyter-widgets/controls",
            "_model_module_version": "1.5.0",
            "_model_name": "HBoxModel",
            "_view_count": null,
            "_view_module": "@jupyter-widgets/controls",
            "_view_module_version": "1.5.0",
            "_view_name": "HBoxView",
            "box_style": "",
            "children": [
              "IPY_MODEL_4fc57f375b1049ab893ccf5d3a34cfe7",
              "IPY_MODEL_6beb98af5509409fb65141eca02cb7a5",
              "IPY_MODEL_9b14e68e353640fcbd635885780e4794"
            ],
            "layout": "IPY_MODEL_bbbd9028fd8149ae88c5d5ae03df5e60"
          }
        },
        "4fc57f375b1049ab893ccf5d3a34cfe7": {
          "model_module": "@jupyter-widgets/controls",
          "model_name": "HTMLModel",
          "model_module_version": "1.5.0",
          "state": {
            "_dom_classes": [],
            "_model_module": "@jupyter-widgets/controls",
            "_model_module_version": "1.5.0",
            "_model_name": "HTMLModel",
            "_view_count": null,
            "_view_module": "@jupyter-widgets/controls",
            "_view_module_version": "1.5.0",
            "_view_name": "HTMLView",
            "description": "",
            "description_tooltip": null,
            "layout": "IPY_MODEL_fb564d6e8d91450a9b40f9eef7193c83",
            "placeholder": "​",
            "style": "IPY_MODEL_16957b601d7e467296385ef93ee53198",
            "value": "100%"
          }
        },
        "6beb98af5509409fb65141eca02cb7a5": {
          "model_module": "@jupyter-widgets/controls",
          "model_name": "FloatProgressModel",
          "model_module_version": "1.5.0",
          "state": {
            "_dom_classes": [],
            "_model_module": "@jupyter-widgets/controls",
            "_model_module_version": "1.5.0",
            "_model_name": "FloatProgressModel",
            "_view_count": null,
            "_view_module": "@jupyter-widgets/controls",
            "_view_module_version": "1.5.0",
            "_view_name": "ProgressView",
            "bar_style": "success",
            "description": "",
            "description_tooltip": null,
            "layout": "IPY_MODEL_16273aa57d964e09a069b3d6c88c8deb",
            "max": 20,
            "min": 0,
            "orientation": "horizontal",
            "style": "IPY_MODEL_9111ba22d75c469f8595f3eea79b6cac",
            "value": 20
          }
        },
        "9b14e68e353640fcbd635885780e4794": {
          "model_module": "@jupyter-widgets/controls",
          "model_name": "HTMLModel",
          "model_module_version": "1.5.0",
          "state": {
            "_dom_classes": [],
            "_model_module": "@jupyter-widgets/controls",
            "_model_module_version": "1.5.0",
            "_model_name": "HTMLModel",
            "_view_count": null,
            "_view_module": "@jupyter-widgets/controls",
            "_view_module_version": "1.5.0",
            "_view_name": "HTMLView",
            "description": "",
            "description_tooltip": null,
            "layout": "IPY_MODEL_e6be1488642e48888f7a51bc03324a57",
            "placeholder": "​",
            "style": "IPY_MODEL_65c6ddbae0a1457aa4be53707c40cde1",
            "value": " 20/20 [57:18&lt;00:00, 171.92s/it]"
          }
        },
        "bbbd9028fd8149ae88c5d5ae03df5e60": {
          "model_module": "@jupyter-widgets/base",
          "model_name": "LayoutModel",
          "model_module_version": "1.2.0",
          "state": {
            "_model_module": "@jupyter-widgets/base",
            "_model_module_version": "1.2.0",
            "_model_name": "LayoutModel",
            "_view_count": null,
            "_view_module": "@jupyter-widgets/base",
            "_view_module_version": "1.2.0",
            "_view_name": "LayoutView",
            "align_content": null,
            "align_items": null,
            "align_self": null,
            "border": null,
            "bottom": null,
            "display": null,
            "flex": null,
            "flex_flow": null,
            "grid_area": null,
            "grid_auto_columns": null,
            "grid_auto_flow": null,
            "grid_auto_rows": null,
            "grid_column": null,
            "grid_gap": null,
            "grid_row": null,
            "grid_template_areas": null,
            "grid_template_columns": null,
            "grid_template_rows": null,
            "height": null,
            "justify_content": null,
            "justify_items": null,
            "left": null,
            "margin": null,
            "max_height": null,
            "max_width": null,
            "min_height": null,
            "min_width": null,
            "object_fit": null,
            "object_position": null,
            "order": null,
            "overflow": null,
            "overflow_x": null,
            "overflow_y": null,
            "padding": null,
            "right": null,
            "top": null,
            "visibility": null,
            "width": null
          }
        },
        "fb564d6e8d91450a9b40f9eef7193c83": {
          "model_module": "@jupyter-widgets/base",
          "model_name": "LayoutModel",
          "model_module_version": "1.2.0",
          "state": {
            "_model_module": "@jupyter-widgets/base",
            "_model_module_version": "1.2.0",
            "_model_name": "LayoutModel",
            "_view_count": null,
            "_view_module": "@jupyter-widgets/base",
            "_view_module_version": "1.2.0",
            "_view_name": "LayoutView",
            "align_content": null,
            "align_items": null,
            "align_self": null,
            "border": null,
            "bottom": null,
            "display": null,
            "flex": null,
            "flex_flow": null,
            "grid_area": null,
            "grid_auto_columns": null,
            "grid_auto_flow": null,
            "grid_auto_rows": null,
            "grid_column": null,
            "grid_gap": null,
            "grid_row": null,
            "grid_template_areas": null,
            "grid_template_columns": null,
            "grid_template_rows": null,
            "height": null,
            "justify_content": null,
            "justify_items": null,
            "left": null,
            "margin": null,
            "max_height": null,
            "max_width": null,
            "min_height": null,
            "min_width": null,
            "object_fit": null,
            "object_position": null,
            "order": null,
            "overflow": null,
            "overflow_x": null,
            "overflow_y": null,
            "padding": null,
            "right": null,
            "top": null,
            "visibility": null,
            "width": null
          }
        },
        "16957b601d7e467296385ef93ee53198": {
          "model_module": "@jupyter-widgets/controls",
          "model_name": "DescriptionStyleModel",
          "model_module_version": "1.5.0",
          "state": {
            "_model_module": "@jupyter-widgets/controls",
            "_model_module_version": "1.5.0",
            "_model_name": "DescriptionStyleModel",
            "_view_count": null,
            "_view_module": "@jupyter-widgets/base",
            "_view_module_version": "1.2.0",
            "_view_name": "StyleView",
            "description_width": ""
          }
        },
        "16273aa57d964e09a069b3d6c88c8deb": {
          "model_module": "@jupyter-widgets/base",
          "model_name": "LayoutModel",
          "model_module_version": "1.2.0",
          "state": {
            "_model_module": "@jupyter-widgets/base",
            "_model_module_version": "1.2.0",
            "_model_name": "LayoutModel",
            "_view_count": null,
            "_view_module": "@jupyter-widgets/base",
            "_view_module_version": "1.2.0",
            "_view_name": "LayoutView",
            "align_content": null,
            "align_items": null,
            "align_self": null,
            "border": null,
            "bottom": null,
            "display": null,
            "flex": null,
            "flex_flow": null,
            "grid_area": null,
            "grid_auto_columns": null,
            "grid_auto_flow": null,
            "grid_auto_rows": null,
            "grid_column": null,
            "grid_gap": null,
            "grid_row": null,
            "grid_template_areas": null,
            "grid_template_columns": null,
            "grid_template_rows": null,
            "height": null,
            "justify_content": null,
            "justify_items": null,
            "left": null,
            "margin": null,
            "max_height": null,
            "max_width": null,
            "min_height": null,
            "min_width": null,
            "object_fit": null,
            "object_position": null,
            "order": null,
            "overflow": null,
            "overflow_x": null,
            "overflow_y": null,
            "padding": null,
            "right": null,
            "top": null,
            "visibility": null,
            "width": null
          }
        },
        "9111ba22d75c469f8595f3eea79b6cac": {
          "model_module": "@jupyter-widgets/controls",
          "model_name": "ProgressStyleModel",
          "model_module_version": "1.5.0",
          "state": {
            "_model_module": "@jupyter-widgets/controls",
            "_model_module_version": "1.5.0",
            "_model_name": "ProgressStyleModel",
            "_view_count": null,
            "_view_module": "@jupyter-widgets/base",
            "_view_module_version": "1.2.0",
            "_view_name": "StyleView",
            "bar_color": null,
            "description_width": ""
          }
        },
        "e6be1488642e48888f7a51bc03324a57": {
          "model_module": "@jupyter-widgets/base",
          "model_name": "LayoutModel",
          "model_module_version": "1.2.0",
          "state": {
            "_model_module": "@jupyter-widgets/base",
            "_model_module_version": "1.2.0",
            "_model_name": "LayoutModel",
            "_view_count": null,
            "_view_module": "@jupyter-widgets/base",
            "_view_module_version": "1.2.0",
            "_view_name": "LayoutView",
            "align_content": null,
            "align_items": null,
            "align_self": null,
            "border": null,
            "bottom": null,
            "display": null,
            "flex": null,
            "flex_flow": null,
            "grid_area": null,
            "grid_auto_columns": null,
            "grid_auto_flow": null,
            "grid_auto_rows": null,
            "grid_column": null,
            "grid_gap": null,
            "grid_row": null,
            "grid_template_areas": null,
            "grid_template_columns": null,
            "grid_template_rows": null,
            "height": null,
            "justify_content": null,
            "justify_items": null,
            "left": null,
            "margin": null,
            "max_height": null,
            "max_width": null,
            "min_height": null,
            "min_width": null,
            "object_fit": null,
            "object_position": null,
            "order": null,
            "overflow": null,
            "overflow_x": null,
            "overflow_y": null,
            "padding": null,
            "right": null,
            "top": null,
            "visibility": null,
            "width": null
          }
        },
        "65c6ddbae0a1457aa4be53707c40cde1": {
          "model_module": "@jupyter-widgets/controls",
          "model_name": "DescriptionStyleModel",
          "model_module_version": "1.5.0",
          "state": {
            "_model_module": "@jupyter-widgets/controls",
            "_model_module_version": "1.5.0",
            "_model_name": "DescriptionStyleModel",
            "_view_count": null,
            "_view_module": "@jupyter-widgets/base",
            "_view_module_version": "1.2.0",
            "_view_name": "StyleView",
            "description_width": ""
          }
        }
      }
    }
  },
  "cells": [
    {
      "cell_type": "markdown",
      "source": [
        "На нескольких вариантах синтетического датасета натренеруйте любой детектор"
      ],
      "metadata": {
        "id": "MI6rthKUbWOm"
      }
    },
    {
      "cell_type": "code",
      "execution_count": null,
      "metadata": {
        "colab": {
          "base_uri": "https://localhost:8080/"
        },
        "id": "dJX7V3XX-wMW",
        "outputId": "a1c3fec0-1605-492f-e961-7fd71637f49e",
        "cellView": "form"
      },
      "outputs": [
        {
          "output_type": "stream",
          "name": "stdout",
          "text": [
            "Cloning into 'vision'...\n",
            "remote: Enumerating objects: 340994, done.\u001b[K\n",
            "remote: Counting objects: 100% (76093/76093), done.\u001b[K\n",
            "remote: Compressing objects: 100% (1436/1436), done.\u001b[K\n",
            "remote: Total 340994 (delta 75234), reused 75356 (delta 74622), pack-reused 264901\u001b[K\n",
            "Receiving objects: 100% (340994/340994), 686.04 MiB | 24.10 MiB/s, done.\n",
            "Resolving deltas: 100% (314213/314213), done.\n",
            "Note: switching to 'v0.15.2'.\n",
            "\n",
            "You are in 'detached HEAD' state. You can look around, make experimental\n",
            "changes and commit them, and you can discard any commits you make in this\n",
            "state without impacting any branches by switching back to a branch.\n",
            "\n",
            "If you want to create a new branch to retain commits you create, you may\n",
            "do so (now or later) by using -c with the switch command. Example:\n",
            "\n",
            "  git switch -c <new-branch-name>\n",
            "\n",
            "Or undo this operation with:\n",
            "\n",
            "  git switch -\n",
            "\n",
            "Turn off this advice by setting config variable advice.detachedHead to false\n",
            "\n",
            "HEAD is now at fa99a5360f Remove temporary channel for python 3.11 (#7505) (#7532)\n"
          ]
        }
      ],
      "source": [
        "#@title Скрипты для обучения и тестирования из репозитория TorchVision\n",
        "import os\n",
        "from pathlib import Path\n",
        "\n",
        "# Если директория \"vision\" не существует, то происходит клонирование репозитория\n",
        "if not Path(\"vision\").exists():\n",
        "    # происходит клонирование репозитория \"vision\" из GitHub в текущую директорию.\n",
        "    !git clone https://github.com/pytorch/vision.git\n",
        "    # переход в директорию \"vision\"\n",
        "    os.chdir(\"vision\")\n",
        "    # переключаем репозиторий на версию 0.15.2.\n",
        "    !git checkout v0.15.2\n",
        "    # копируем необходимые файлы из директории \"references/detection\" в родительскую директорию\n",
        "    !cp references/detection/utils.py ../\n",
        "    !cp references/detection/transforms.py ../\n",
        "    !cp references/detection/coco_eval.py ../\n",
        "    !cp references/detection/engine.py ../\n",
        "    !cp references/detection/coco_utils.py ../\n",
        "    # возврат в родительскую директорию\n",
        "    os.chdir(\"..\")"
      ]
    },
    {
      "cell_type": "markdown",
      "source": [
        "## Датасет"
      ],
      "metadata": {
        "id": "jfPbMJlyben8"
      }
    },
    {
      "cell_type": "code",
      "execution_count": null,
      "metadata": {
        "id": "2ul0k7cxYbR5",
        "cellView": "form"
      },
      "outputs": [],
      "source": [
        "#@title Вспомогательные функции\n",
        "import cv2\n",
        "import numpy as np\n",
        "\n",
        "def visualize(image_np, bboxes, labels, thickness=2):\n",
        "    # Create a copy of the image to draw on\n",
        "    img_with_boxes = image_np.copy()\n",
        "\n",
        "    # Draw bounding boxes\n",
        "    colors = {1: (0, 255, 0), 2: (255, 0, 0), 3: (0, 0, 255)}\n",
        "    for i, bbox in enumerate(bboxes):\n",
        "        color=colors[labels[i]]\n",
        "        x1, y1, x2, y2 = bbox\n",
        "        cv2.rectangle(img_with_boxes, (x1, y1), (x2, y2), color, thickness)\n",
        "\n",
        "    return img_with_boxes"
      ]
    },
    {
      "cell_type": "code",
      "execution_count": null,
      "metadata": {
        "cellView": "form",
        "id": "k-vkKbAZUVA8"
      },
      "outputs": [],
      "source": [
        "#@title Синтетический датасет\n",
        "\n",
        "import numpy as np\n",
        "import cv2\n",
        "import random\n",
        "import torch\n",
        "from PIL import Image\n",
        "from torch.utils.data import Dataset\n",
        "from torchvision.transforms import ToTensor, ToPILImage\n",
        "import matplotlib.pyplot as plt\n",
        "\n",
        "\n",
        "class RandomShapeDataset(Dataset):\n",
        "    def __init__(self, num_samples,\n",
        "                 num_shapes=3,\n",
        "                 size_range=(5, 20),\n",
        "                 canvas_size=(100, 100),\n",
        "                 idx_to_class=None,\n",
        "                 return_masks=False):\n",
        "        self.num_samples = num_samples\n",
        "        self.num_shapes = num_shapes\n",
        "        self.size_range = size_range\n",
        "        self.canvas_size = canvas_size\n",
        "        self.idx_to_class = idx_to_class\n",
        "        self.return_masks = return_masks\n",
        "        if self.idx_to_class is None:\n",
        "            self.idx_to_class = {1: 'triangle', 2: 'circle', 3: 'rectangle'}\n",
        "\n",
        "        self.shape_types = list(self.idx_to_class.values())\n",
        "        self.class_to_idx = {i: c for c, i in self.idx_to_class.items()}\n",
        "\n",
        "    def __len__(self):\n",
        "        return self.num_samples\n",
        "\n",
        "    def __getitem__(self, idx):\n",
        "        canvas = np.zeros((*self.canvas_size, 3), dtype=np.uint8)\n",
        "        if self.return_masks:\n",
        "            masks = [np.zeros(self.canvas_size, dtype=np.uint8) for i in range(self.num_shapes)]\n",
        "        bounding_boxes = []\n",
        "        labels = []\n",
        "        areas = []\n",
        "        for i in range(self.num_shapes):\n",
        "            shape_type = random.choice(self.shape_types)\n",
        "            size = random.randint(*self.size_range)\n",
        "            color = tuple(random.randint(0, 255) for _ in range(3))\n",
        "            bounding_box = None\n",
        "            if shape_type == 'triangle':\n",
        "                points = self._random_triangle_points(size)\n",
        "                cv2.fillPoly(canvas, [points], color)\n",
        "                if self.return_masks:\n",
        "                    cv2.fillPoly(masks[i], [points], 255)\n",
        "                bounding_box = self._get_bounding_box(points)\n",
        "            elif shape_type == 'circle':\n",
        "                center, radius = self._random_circle_parameters(size)\n",
        "                cv2.circle(canvas, center, radius, color, -1)\n",
        "                if self.return_masks:\n",
        "                    cv2.circle(masks[i], center, radius, 255, -1)\n",
        "                bounding_box = self._get_circle_bounding_box(center, radius)\n",
        "            elif shape_type == 'rectangle':\n",
        "                x, y, w, h = self._random_rectangle_parameters(size)\n",
        "                cv2.rectangle(canvas, (x, y), (x + w, y + h), color, -1)\n",
        "                if self.return_masks:\n",
        "                    cv2.rectangle(masks[i], (x, y), (x + w, y + h), 255, -1)\n",
        "                bounding_box = np.array([x, y, x + w, y + h])\n",
        "            labels.append(self.class_to_idx[shape_type])\n",
        "            bounding_boxes.append(bounding_box)\n",
        "            if self.return_masks:\n",
        "                areas.append(np.sum(masks[i]))\n",
        "            else:\n",
        "                areas.append(1)\n",
        "        bounding_boxes = np.stack(bounding_boxes, axis=0)\n",
        "        target = dict(labels=torch.tensor(labels, dtype=torch.long),\n",
        "                      boxes=torch.tensor(bounding_boxes, dtype=torch.float32),\n",
        "                      image_id=torch.tensor([idx], dtype=torch.long),\n",
        "                      area=torch.tensor(areas, dtype=torch.float32))\n",
        "        if self.return_masks:\n",
        "            masks=torch.tensor(masks, dtype=torch.float32)\n",
        "            target[\"masks\"] = masks\n",
        "\n",
        "        return torch.tensor(canvas, dtype=torch.float32).permute(2, 0, 1)/255, target\n",
        "\n",
        "    def _random_triangle_points(self, size):\n",
        "        center = np.random.randint(size, self.canvas_size[0] - size, size=2)\n",
        "        angle = np.random.uniform(0, 2 * np.pi)\n",
        "        points = np.array([(np.cos(angle), np.sin(angle)),\n",
        "        (np.cos(angle + 2 * np.pi / 3), np.sin(angle + 2 * np.pi / 3)),\n",
        "        (np.cos(angle + 4 * np.pi / 3), np.sin(angle + 4 * np.pi / 3))])\n",
        "        points = (size * points + center).astype(np.int32)\n",
        "        return points.reshape(-1, 1, 2)\n",
        "\n",
        "    def _random_circle_parameters(self, size):\n",
        "        center = tuple(np.random.randint(size, self.canvas_size[0] - size, size=2))\n",
        "        radius = random.randint(size // 4, size // 2)\n",
        "        return center, radius\n",
        "\n",
        "    def _random_rectangle_parameters(self, size):\n",
        "        x, y = np.random.randint(size, self.canvas_size[0] - size, size=2)\n",
        "        w, h = random.randint(size // 2, size), random.randint(size // 2, size)\n",
        "        return (x, y, w, h)\n",
        "\n",
        "    def _get_bounding_box(self, points):\n",
        "        points = points.squeeze(1)\n",
        "        min_coords = np.min(points, axis=0)\n",
        "        max_coords = np.max(points, axis=0)\n",
        "        res = np.concatenate([min_coords, max_coords], axis=0)\n",
        "\n",
        "        return res\n",
        "\n",
        "    def _get_circle_bounding_box(self, center, radius):\n",
        "        min_coords = np.array(center) - radius\n",
        "        max_coords = np.array(center) + radius\n",
        "        res = np.concatenate([min_coords, max_coords], axis=0)\n",
        "        return res"
      ]
    },
    {
      "cell_type": "markdown",
      "source": [
        "## Задания Lite"
      ],
      "metadata": {
        "id": "flzYY5-vcCl3"
      }
    },
    {
      "cell_type": "markdown",
      "source": [
        "#### Датасет 1"
      ],
      "metadata": {
        "id": "QwTlxz_xdRuX"
      }
    },
    {
      "cell_type": "code",
      "source": [
        "dataset = RandomShapeDataset(num_samples=1000,\n",
        "                             num_shapes=1,\n",
        "                             size_range=(15, 30),\n",
        "                             canvas_size=(64, 64),\n",
        "                             idx_to_class={1: 'rectangle'})\n",
        "\n",
        "image, target = dataset[0]\n",
        "print(\"Image shape:\", image.shape)\n",
        "print(\"Bounding boxes:\", target['boxes'].shape)\n",
        "print(\"Labels:\", target['labels'])\n",
        "\n",
        "image_np = np.asarray(ToPILImage()(image))\n",
        "image_np_vis = visualize(np.asarray(ToPILImage()(image)), target['boxes'].type(torch.int).numpy(), target['labels'].numpy(), thickness=1)\n",
        "\n",
        "fig = plt.figure(figsize=(3, 3))\n",
        "axis = fig.add_subplot(1, 2, 1)\n",
        "axis.imshow(image_np)\n",
        "axis.axis('off')\n",
        "axis = fig.add_subplot(1, 2, 2)\n",
        "axis.axis('off')\n",
        "axis.imshow(image_np_vis)"
      ],
      "metadata": {
        "colab": {
          "base_uri": "https://localhost:8080/",
          "height": 211
        },
        "id": "ggUXWuU-cPsc",
        "outputId": "6bf45fe9-5502-4c79-84f0-d4e119042ec8"
      },
      "execution_count": null,
      "outputs": [
        {
          "output_type": "stream",
          "name": "stdout",
          "text": [
            "Image shape: torch.Size([3, 64, 64])\n",
            "Bounding boxes: torch.Size([1, 4])\n",
            "Labels: tensor([1])\n"
          ]
        },
        {
          "output_type": "execute_result",
          "data": {
            "text/plain": [
              "<matplotlib.image.AxesImage at 0x7fa4686dc460>"
            ]
          },
          "metadata": {},
          "execution_count": 6
        },
        {
          "output_type": "display_data",
          "data": {
            "text/plain": [
              "<Figure size 300x300 with 2 Axes>"
            ],
            "image/png": "[encoded data removed]"
          },
          "metadata": {}
        }
      ]
    },
    {
      "cell_type": "markdown",
      "source": [
        "Ваше решение:\n"
      ],
      "metadata": {
        "id": "M6mvQ-kr7TXp"
      }
    },
    {
      "cell_type": "markdown",
      "source": [
        "##### Новая версия"
      ],
      "metadata": {
        "id": "lfqJWJodrkO6"
      }
    },
    {
      "cell_type": "code",
      "source": [
        "import torch\n",
        "import torch.nn as nn\n",
        "import torch.optim as optim\n",
        "from torch.utils.data import DataLoader\n",
        "from torchvision.models.detection import fasterrcnn_resnet50_fpn\n",
        "from torchvision.models.detection.faster_rcnn import FastRCNNPredictor\n",
        "from torchvision.transforms import ToPILImage\n",
        "import matplotlib.pyplot as plt\n",
        "import utils\n",
        "from tqdm.notebook import tqdm\n",
        "\n",
        "def collate_fn(batch):  # Избавляемся в батче от поля image_path во время обучения\n",
        "    # итерация по каждому элементу в \"batch\", а именно, для каждого элемента формируется новый кортеж,\n",
        "    # который будет содержать первоначальный объект в позиции 0 и словарь в позиции 1.\n",
        "\n",
        "    # Внутри формируемого словаря происходит удаление элемента \"image_path\" из первоначального словаря,\n",
        "    # если такой ключ в нем был обнаружен.\n",
        "    batch = [(sample[0], {k: v for k, v in sample[1].items() if k != \"image_path\"}) for sample in batch]\n",
        "\n",
        "    # извлеченный список кортежей возвращается обратно в функцию \"utils.collate_fn\" для дальнейшей обработки.\n",
        "    return utils.collate_fn(batch)\n",
        "\n",
        "# Step 1: Define and load the detector model\n",
        "model = fasterrcnn_resnet50_fpn(pretrained=True)\n",
        "#num_classes = 4  # Background + triangle + circle + rectangle\n",
        "num_classes = 2  # Background + rectangle\n",
        "in_features = model.roi_heads.box_predictor.cls_score.in_features\n",
        "#model.roi_heads.box_predictor = nn.Linear(in_features, num_classes) - переделать\n",
        "model.roi_heads.box_predictor = FastRCNNPredictor(in_features, num_classes)\n",
        "\n",
        "# Step 2: Prepare the dataset\n",
        "#dataset = RandomShapeDataset(num_samples=1000, num_shapes=1, size_range=(15, 30), canvas_size=(64, 64))\n",
        "\n",
        "# Step 3: Split the dataset into training and evaluation sets\n",
        "train_ratio = 0.8\n",
        "train_size = int(len(dataset) * train_ratio)\n",
        "eval_size = len(dataset) - train_size\n",
        "train_dataset, eval_dataset = torch.utils.data.random_split(dataset, [train_size, eval_size])\n",
        "\n",
        "# Step 4: Create data loaders for training and evaluation\n",
        "train_loader = DataLoader(train_dataset, batch_size=4, shuffle=True, num_workers=4, collate_fn = collate_fn)\n",
        "eval_loader = DataLoader(eval_dataset, batch_size=4, shuffle=False, num_workers=4, collate_fn = collate_fn)\n",
        "\n",
        "# Step 5: Configure training parameters\n",
        "device = torch.device('cuda' if torch.cuda.is_available() else 'cpu')\n",
        "model.to(device)\n",
        "optimizer = optim.SGD(model.parameters(), lr=0.001, momentum=0.9)\n",
        "criterion = nn.CrossEntropyLoss()\n",
        "\n",
        "num_epochs = 3\n",
        "i = 0  # Счетчик\n",
        "# Step 6: Training loop\n",
        "for epoch in tqdm(range(num_epochs)):\n",
        "    model.train()\n",
        "    for images, targets in train_loader:\n",
        "        images = [image.to(device) for image in images]\n",
        "        targets = [{k: v.to(device) for k, v in t.items()} for t in targets]\n",
        "\n",
        "        optimizer.zero_grad()\n",
        "        loss_dict = model(images, targets)\n",
        "        losses = sum(loss for loss in loss_dict.values())\n",
        "        losses.backward()\n",
        "        optimizer.step()\n",
        "        i += 1\n",
        "        if i%100 == 0:\n",
        "            print(losses.item())"
      ],
      "metadata": {
        "colab": {
          "base_uri": "https://localhost:8080/",
          "height": 312,
          "referenced_widgets": [
            "b13b08007c974b859650e39d8d38e011",
            "8074c938f1a1456788bf39e84d134919",
            "431d6f67524e4834a29dfa3ecbb7bed5",
            "c618cff8c3584c0f9c25d5da514f3f54",
            "11a1a51f23f2403a949145ed99b9148b",
            "3760e8bd413c46879b6cc814701d216c",
            "e57406a069974e1bbee139fafaf98b27",
            "52a6a9439a484c2b8962398fff507782",
            "93267220eb0b41d3ad805ffcaba41923",
            "d52ba5cc997e4435a556fcf7b0167dac",
            "59fc62b5f3074a3aa061604572fbffee"
          ]
        },
        "id": "3A683pNFrnJp",
        "outputId": "52875eec-718a-4e08-ce3e-d4f8589dcc03"
      },
      "execution_count": null,
      "outputs": [
        {
          "output_type": "stream",
          "name": "stderr",
          "text": [
            "/usr/local/lib/python3.10/dist-packages/torchvision/models/_utils.py:208: UserWarning: The parameter 'pretrained' is deprecated since 0.13 and may be removed in the future, please use 'weights' instead.\n",
            "  warnings.warn(\n",
            "/usr/local/lib/python3.10/dist-packages/torchvision/models/_utils.py:223: UserWarning: Arguments other than a weight enum or `None` for 'weights' are deprecated since 0.13 and may be removed in the future. The current behavior is equivalent to passing `weights=FasterRCNN_ResNet50_FPN_Weights.COCO_V1`. You can also use `weights=FasterRCNN_ResNet50_FPN_Weights.DEFAULT` to get the most up-to-date weights.\n",
            "  warnings.warn(msg)\n",
            "Downloading: \"https://download.pytorch.org/models/fasterrcnn_resnet50_fpn_coco-258fb6c6.pth\" to /root/.cache/torch/hub/checkpoints/fasterrcnn_resnet50_fpn_coco-258fb6c6.pth\n",
            "100%|██████████| 160M/160M [00:02<00:00, 80.6MB/s]\n",
            "/usr/local/lib/python3.10/dist-packages/torch/utils/data/dataloader.py:560: UserWarning: This DataLoader will create 4 worker processes in total. Our suggested max number of worker in current system is 2, which is smaller than what this DataLoader is going to create. Please be aware that excessive worker creation might get DataLoader running slow or even freeze, lower the worker number to avoid potential slowness/freeze if necessary.\n",
            "  warnings.warn(_create_warning_msg(\n"
          ]
        },
        {
          "output_type": "display_data",
          "data": {
            "text/plain": [
              "  0%|          | 0/3 [00:00<?, ?it/s]"
            ],
            "application/vnd.jupyter.widget-view+json": {
              "version_major": 2,
              "version_minor": 0,
              "model_id": "b13b08007c974b859650e39d8d38e011"
            }
          },
          "metadata": {}
        },
        {
          "output_type": "stream",
          "name": "stdout",
          "text": [
            "0.04099390283226967\n",
            "0.025472644716501236\n",
            "0.019662288948893547\n",
            "0.009392913430929184\n",
            "0.015545010566711426\n",
            "0.011305502615869045\n"
          ]
        }
      ]
    },
    {
      "cell_type": "code",
      "source": [
        "# Step 7: Evaluation\n",
        "model.eval()\n",
        "with torch.no_grad():\n",
        "    #for images, targets in eval_loader:\n",
        "        images, targets = next(iter(eval_loader))\n",
        "        images = [image.to(device) for image in images]\n",
        "        targets = [{k: v.to(device) for k, v in t.items()} for t in targets]\n",
        "\n",
        "        # Make predictions\n",
        "        predictions = model(images)\n",
        "\n",
        "        # Visualize the images with predicted bounding boxes\n",
        "        #for i in range(len(images)):\n",
        "        for i in range(1):\n",
        "            image = images[i].cpu()\n",
        "            target = targets[i]\n",
        "            prediction = predictions[i]\n",
        "\n",
        "            image_np = (image.permute(1, 2, 0).numpy() * 255).astype(np.uint8)\n",
        "            image_pil = ToPILImage()(image_np)\n",
        "\n",
        "            fig = plt.figure(figsize=(2, 2))\n",
        "            axis = fig.add_subplot(1, 1, 1)\n",
        "            axis.imshow(image_pil)\n",
        "            axis.axis('off')\n",
        "\n",
        "            boxes = prediction['boxes'].cpu().numpy().astype(np.int32)\n",
        "            labels = prediction['labels'].cpu().numpy()\n",
        "            for box, label in zip(boxes, labels):\n",
        "                x, y, x_max, y_max = box\n",
        "                rect = plt.Rectangle((x, y), x_max - x, y_max - y, fill=False, edgecolor='red', linewidth=2)\n",
        "                axis.add_patch(rect)\n",
        "\n",
        "                # Check if the label exists in the dictionary\n",
        "                if label in dataset.idx_to_class:\n",
        "                    axis.text(x, y - 2, dataset.idx_to_class[label], color='red')\n",
        "                #else:\n",
        "                #    axis.text(x, y, \"\", color='red')\n",
        "\n",
        "            plt.show()\n"
      ],
      "metadata": {
        "colab": {
          "base_uri": "https://localhost:8080/",
          "height": 191
        },
        "id": "anTf0g78PQtA",
        "outputId": "5a9d6f5e-1f30-47c6-8736-cf4845f7da47"
      },
      "execution_count": null,
      "outputs": [
        {
          "output_type": "display_data",
          "data": {
            "text/plain": [
              "<Figure size 200x200 with 1 Axes>"
            ],
            "image/png": "[encoded data removed]"
          },
          "metadata": {}
        }
      ]
    },
    {
      "cell_type": "markdown",
      "source": [
        "## Подготовка пакетов"
      ],
      "metadata": {
        "id": "jFtP8FzRfXY1"
      }
    },
    {
      "cell_type": "markdown",
      "source": [
        "#### Датасет 2"
      ],
      "metadata": {
        "id": "v_U_1cxDdUA7"
      }
    },
    {
      "cell_type": "code",
      "source": [
        "dataset = RandomShapeDataset(num_samples=1000,\n",
        "                             num_shapes=3,\n",
        "                             size_range=(15, 30),\n",
        "                             canvas_size=(64, 64),\n",
        "                             idx_to_class={1: 'rectangle'})\n",
        "image, target = dataset[0]\n",
        "print(\"Image shape:\", image.shape)\n",
        "print(\"Bounding boxes:\", target['boxes'].shape)\n",
        "print(\"Labels:\", target['labels'])\n",
        "\n",
        "image_np = np.asarray(ToPILImage()(image))\n",
        "image_np_vis = visualize(np.asarray(ToPILImage()(image)), target['boxes'].type(torch.int).numpy(), target['labels'].numpy(), thickness=1)\n",
        "\n",
        "fig = plt.figure(figsize=(3, 3))\n",
        "axis = fig.add_subplot(1, 2, 1)\n",
        "axis.imshow(image_np)\n",
        "axis.axis('off')\n",
        "axis = fig.add_subplot(1, 2, 2)\n",
        "axis.axis('off')\n",
        "axis.imshow(image_np_vis)"
      ],
      "metadata": {
        "colab": {
          "base_uri": "https://localhost:8080/",
          "height": 211
        },
        "id": "tSjjb2b0cY7c",
        "outputId": "d4c77b3f-854d-49f9-862a-f7b10f7c79b0"
      },
      "execution_count": null,
      "outputs": [
        {
          "output_type": "stream",
          "name": "stdout",
          "text": [
            "Image shape: torch.Size([3, 64, 64])\n",
            "Bounding boxes: torch.Size([3, 4])\n",
            "Labels: tensor([1, 1, 1])\n"
          ]
        },
        {
          "output_type": "execute_result",
          "data": {
            "text/plain": [
              "<matplotlib.image.AxesImage at 0x7fa466090460>"
            ]
          },
          "metadata": {},
          "execution_count": 38
        },
        {
          "output_type": "display_data",
          "data": {
            "text/plain": [
              "<Figure size 300x300 with 2 Axes>"
            ],
            "image/png": "[encoded data removed]"
          },
          "metadata": {}
        }
      ]
    },
    {
      "cell_type": "markdown",
      "source": [
        "Ваше решение:\n"
      ],
      "metadata": {
        "id": "qxv9eMJo7VtA"
      }
    },
    {
      "cell_type": "markdown",
      "source": [
        "##### Новая версия"
      ],
      "metadata": {
        "id": "LY9rcdCATHKQ"
      }
    },
    {
      "cell_type": "code",
      "source": [
        "import torch\n",
        "import torch.nn as nn\n",
        "import torch.optim as optim\n",
        "from torch.utils.data import DataLoader\n",
        "from torchvision.models.detection import fasterrcnn_resnet50_fpn\n",
        "from torchvision.models.detection.faster_rcnn import FastRCNNPredictor\n",
        "from torchvision.transforms import ToPILImage\n",
        "import matplotlib.pyplot as plt\n",
        "import utils\n",
        "from tqdm.notebook import tqdm\n",
        "\n",
        "def collate_fn(batch):  # Избавляемся в батче от поля image_path во время обучения\n",
        "    # итерация по каждому элементу в \"batch\", а именно, для каждого элемента формируется новый кортеж,\n",
        "    # который будет содержать первоначальный объект в позиции 0 и словарь в позиции 1.\n",
        "\n",
        "    # Внутри формируемого словаря происходит удаление элемента \"image_path\" из первоначального словаря,\n",
        "    # если такой ключ в нем был обнаружен.\n",
        "    batch = [(sample[0], {k: v for k, v in sample[1].items() if k != \"image_path\"}) for sample in batch]\n",
        "\n",
        "    # извлеченный список кортежей возвращается обратно в функцию \"utils.collate_fn\" для дальнейшей обработки.\n",
        "    return utils.collate_fn(batch)\n",
        "\n",
        "# Step 1: Define and load the detector model\n",
        "model = fasterrcnn_resnet50_fpn(pretrained=True)\n",
        "num_classes = 2  # Background + rectangle\n",
        "in_features = model.roi_heads.box_predictor.cls_score.in_features\n",
        "#model.roi_heads.box_predictor = nn.Linear(in_features, num_classes) - переделать\n",
        "model.roi_heads.box_predictor = FastRCNNPredictor(in_features, num_classes)\n",
        "\n",
        "# Step 2: Prepare the dataset\n",
        "#dataset = RandomShapeDataset(num_samples=1000, num_shapes=1, size_range=(15, 30), canvas_size=(64, 64))\n",
        "\n",
        "# Step 3: Split the dataset into training and evaluation sets\n",
        "train_ratio = 0.8\n",
        "train_size = int(len(dataset) * train_ratio)\n",
        "eval_size = len(dataset) - train_size\n",
        "train_dataset, eval_dataset = torch.utils.data.random_split(dataset, [train_size, eval_size])\n",
        "\n",
        "# Step 4: Create data loaders for training and evaluation\n",
        "train_loader = DataLoader(train_dataset, batch_size=4, shuffle=True, num_workers=4, collate_fn = collate_fn)\n",
        "eval_loader = DataLoader(eval_dataset, batch_size=4, shuffle=False, num_workers=4, collate_fn = collate_fn)\n",
        "\n",
        "# Step 5: Configure training parameters\n",
        "device = torch.device('cuda' if torch.cuda.is_available() else 'cpu')\n",
        "model.to(device)\n",
        "optimizer = optim.SGD(model.parameters(), lr=0.001, momentum=0.9)\n",
        "criterion = nn.CrossEntropyLoss()\n",
        "\n",
        "num_epochs = 5\n",
        "i = 0  # Счетчик\n",
        "# Step 6: Training loop\n",
        "for epoch in tqdm(range(num_epochs)):\n",
        "    model.train()\n",
        "    for images, targets in train_loader:\n",
        "        images = [image.to(device) for image in images]\n",
        "        targets = [{k: v.to(device) for k, v in t.items()} for t in targets]\n",
        "\n",
        "        optimizer.zero_grad()\n",
        "        loss_dict = model(images, targets)\n",
        "        losses = sum(loss for loss in loss_dict.values())\n",
        "        losses.backward()\n",
        "        optimizer.step()\n",
        "        i += 1\n",
        "        if i%100 == 0:\n",
        "            print(losses.item())"
      ],
      "metadata": {
        "colab": {
          "base_uri": "https://localhost:8080/",
          "height": 223,
          "referenced_widgets": [
            "fab9393c573c487d81fac050f4c42c91",
            "9115c59a0eb441fe942cdecd70816963",
            "268f5ff4fe2b49188f6611ccb7b0d811",
            "7e1bd7bf58ef4045abfc011f157271f9",
            "b34459746fc94a2ab9b048c6f8e1440c",
            "01823b5f0db44f22852c86805a0159ff",
            "d3e3392d7d67473fb163dbe85f2b130d",
            "f4ae8a09d7a64409a4579d9873b25997",
            "576bad9f18384498b9d8b145eb5843ec",
            "0d1572650d284e07ba4a54b6bcc8c0a7",
            "02b64a777c9b4a639446de04e1f885d7"
          ]
        },
        "outputId": "c3f626f4-bb75-4049-cab9-82ffc3dcc57c",
        "id": "Fbd08-i3THKo"
      },
      "execution_count": null,
      "outputs": [
        {
          "output_type": "display_data",
          "data": {
            "text/plain": [
              "  0%|          | 0/5 [00:00<?, ?it/s]"
            ],
            "application/vnd.jupyter.widget-view+json": {
              "version_major": 2,
              "version_minor": 0,
              "model_id": "fab9393c573c487d81fac050f4c42c91"
            }
          },
          "metadata": {}
        },
        {
          "output_type": "stream",
          "name": "stdout",
          "text": [
            "0.2703617513179779\n",
            "0.19736477732658386\n",
            "0.22209466993808746\n",
            "0.17416492104530334\n",
            "0.3253535032272339\n",
            "0.1964678317308426\n",
            "0.1921648383140564\n",
            "0.142782524228096\n",
            "0.1721183955669403\n",
            "0.25189435482025146\n"
          ]
        }
      ]
    },
    {
      "cell_type": "code",
      "source": [
        "# Step 7: Evaluation\n",
        "model.eval()\n",
        "with torch.no_grad():\n",
        "    #for images, targets in eval_loader:\n",
        "        images, targets = next(iter(eval_loader))\n",
        "        images = [image.to(device) for image in images]\n",
        "        targets = [{k: v.to(device) for k, v in t.items()} for t in targets]\n",
        "\n",
        "        # Make predictions\n",
        "        predictions = model(images)\n",
        "\n",
        "        # Visualize the images with predicted bounding boxes\n",
        "        #for i in range(len(images)):\n",
        "        for i in range(1):\n",
        "            image = images[i].cpu()\n",
        "            target = targets[i]\n",
        "            prediction = predictions[i]\n",
        "\n",
        "            image_np = (image.permute(1, 2, 0).numpy() * 255).astype(np.uint8)\n",
        "            image_pil = ToPILImage()(image_np)\n",
        "\n",
        "            fig = plt.figure(figsize=(4, 4))\n",
        "            axis = fig.add_subplot(1, 1, 1)\n",
        "            axis.imshow(image_pil)\n",
        "            axis.axis('off')\n",
        "\n",
        "            boxes = prediction['boxes'].cpu().numpy().astype(np.int32)\n",
        "            labels = prediction['labels'].cpu().numpy()\n",
        "            for box, label in zip(boxes, labels):\n",
        "                x, y, x_max, y_max = box\n",
        "                rect = plt.Rectangle((x, y), x_max - x, y_max - y, fill=False, edgecolor='red', linewidth=2)\n",
        "                axis.add_patch(rect)\n",
        "\n",
        "                # Check if the label exists in the dictionary\n",
        "                #if label in dataset.idx_to_class:\n",
        "                #    axis.text(x, y - 2, dataset.idx_to_class[label], color='red')\n",
        "                #else:\n",
        "                #    axis.text(x, y, \"\", color='red')\n",
        "\n",
        "            plt.show()\n"
      ],
      "metadata": {
        "colab": {
          "base_uri": "https://localhost:8080/",
          "height": 345
        },
        "outputId": "fdc11bf2-2bc7-4051-b5c8-4da05ecd575a",
        "id": "hpUj35WATHKp"
      },
      "execution_count": null,
      "outputs": [
        {
          "output_type": "display_data",
          "data": {
            "text/plain": [
              "<Figure size 400x400 with 1 Axes>"
            ],
            "image/png": "[encoded data removed]"
          },
          "metadata": {}
        }
      ]
    },
    {
      "cell_type": "markdown",
      "source": [
        "#### Датасет 3"
      ],
      "metadata": {
        "id": "xcrM4utzdm-i"
      }
    },
    {
      "cell_type": "code",
      "source": [
        "dataset = RandomShapeDataset(num_samples=1000,\n",
        "                             num_shapes=3,\n",
        "                             size_range=(10, 20),\n",
        "                             canvas_size=(128, 128),\n",
        "                             idx_to_class={1: 'triangle'})\n",
        "image, target = dataset[0]\n",
        "print(\"Image shape:\", image.shape)\n",
        "print(\"Bounding boxes:\", target['boxes'].shape)\n",
        "print(\"Labels:\", target['labels'])\n",
        "\n",
        "image_np = np.asarray(ToPILImage()(image))\n",
        "image_np_vis = visualize(np.asarray(ToPILImage()(image)), target['boxes'].type(torch.int).numpy(), target['labels'].numpy(), thickness=1)\n",
        "\n",
        "fig = plt.figure(figsize=(3, 3))\n",
        "axis = fig.add_subplot(1, 2, 1)\n",
        "axis.imshow(image_np)\n",
        "axis.axis('off')\n",
        "axis = fig.add_subplot(1, 2, 2)\n",
        "axis.axis('off')\n",
        "axis.imshow(image_np_vis)"
      ],
      "metadata": {
        "colab": {
          "base_uri": "https://localhost:8080/",
          "height": 211
        },
        "id": "hqb3EtJ8dovK",
        "outputId": "7c591f43-9bbb-43f0-db58-8add6b59517c"
      },
      "execution_count": null,
      "outputs": [
        {
          "output_type": "stream",
          "name": "stdout",
          "text": [
            "Image shape: torch.Size([3, 128, 128])\n",
            "Bounding boxes: torch.Size([3, 4])\n",
            "Labels: tensor([1, 1, 1])\n"
          ]
        },
        {
          "output_type": "execute_result",
          "data": {
            "text/plain": [
              "<matplotlib.image.AxesImage at 0x7fa468754b80>"
            ]
          },
          "metadata": {},
          "execution_count": 23
        },
        {
          "output_type": "display_data",
          "data": {
            "text/plain": [
              "<Figure size 300x300 with 2 Axes>"
            ],
            "image/png": "[encoded data removed]"
          },
          "metadata": {}
        }
      ]
    },
    {
      "cell_type": "markdown",
      "source": [
        "Ваше решение:\n"
      ],
      "metadata": {
        "id": "VvfGY9IF7YVo"
      }
    },
    {
      "cell_type": "markdown",
      "source": [
        "##### Новая версия"
      ],
      "metadata": {
        "id": "pbHRcoDWecwd"
      }
    },
    {
      "cell_type": "code",
      "source": [
        "import torch\n",
        "import torch.nn as nn\n",
        "import torch.optim as optim\n",
        "from torch.utils.data import DataLoader\n",
        "from torchvision.models.detection import fasterrcnn_resnet50_fpn\n",
        "from torchvision.models.detection.faster_rcnn import FastRCNNPredictor\n",
        "from torchvision.transforms import ToPILImage\n",
        "import matplotlib.pyplot as plt\n",
        "import utils\n",
        "from tqdm.notebook import tqdm\n",
        "\n",
        "def collate_fn(batch):  # Избавляемся в батче от поля image_path во время обучения\n",
        "    # итерация по каждому элементу в \"batch\", а именно, для каждого элемента формируется новый кортеж,\n",
        "    # который будет содержать первоначальный объект в позиции 0 и словарь в позиции 1.\n",
        "\n",
        "    # Внутри формируемого словаря происходит удаление элемента \"image_path\" из первоначального словаря,\n",
        "    # если такой ключ в нем был обнаружен.\n",
        "    batch = [(sample[0], {k: v for k, v in sample[1].items() if k != \"image_path\"}) for sample in batch]\n",
        "\n",
        "    # извлеченный список кортежей возвращается обратно в функцию \"utils.collate_fn\" для дальнейшей обработки.\n",
        "    return utils.collate_fn(batch)\n",
        "\n",
        "# Step 1: Define and load the detector model\n",
        "model = fasterrcnn_resnet50_fpn(pretrained=True)\n",
        "num_classes = 2  # Background + triangle\n",
        "in_features = model.roi_heads.box_predictor.cls_score.in_features\n",
        "#model.roi_heads.box_predictor = nn.Linear(in_features, num_classes) - переделать\n",
        "model.roi_heads.box_predictor = FastRCNNPredictor(in_features, num_classes)\n",
        "\n",
        "# Step 2: Prepare the dataset\n",
        "#dataset = RandomShapeDataset(num_samples=1000, num_shapes=1, size_range=(15, 30), canvas_size=(64, 64))\n",
        "\n",
        "# Step 3: Split the dataset into training and evaluation sets\n",
        "train_ratio = 0.8\n",
        "train_size = int(len(dataset) * train_ratio)\n",
        "eval_size = len(dataset) - train_size\n",
        "train_dataset, eval_dataset = torch.utils.data.random_split(dataset, [train_size, eval_size])\n",
        "\n",
        "# Step 4: Create data loaders for training and evaluation\n",
        "train_loader = DataLoader(train_dataset, batch_size=4, shuffle=True, num_workers=4, collate_fn = collate_fn)\n",
        "eval_loader = DataLoader(eval_dataset, batch_size=4, shuffle=False, num_workers=4, collate_fn = collate_fn)\n",
        "\n",
        "# Step 5: Configure training parameters\n",
        "device = torch.device('cuda' if torch.cuda.is_available() else 'cpu')\n",
        "model.to(device)\n",
        "optimizer = optim.SGD(model.parameters(), lr=0.001, momentum=0.9)\n",
        "criterion = nn.CrossEntropyLoss()\n",
        "\n",
        "num_epochs = 5\n",
        "i = 0  # Счетчик\n",
        "# Step 6: Training loop\n",
        "for epoch in tqdm(range(num_epochs)):\n",
        "    model.train()\n",
        "    for images, targets in train_loader:\n",
        "        images = [image.to(device) for image in images]\n",
        "        targets = [{k: v.to(device) for k, v in t.items()} for t in targets]\n",
        "\n",
        "        optimizer.zero_grad()\n",
        "        loss_dict = model(images, targets)\n",
        "        losses = sum(loss for loss in loss_dict.values())\n",
        "        losses.backward()\n",
        "        optimizer.step()\n",
        "        i += 1\n",
        "        if i%100 == 0:\n",
        "            print(losses.item())"
      ],
      "metadata": {
        "colab": {
          "base_uri": "https://localhost:8080/",
          "height": 223,
          "referenced_widgets": [
            "deb92430ccc940df8013e393445d384f",
            "d411562935614070ba4b41d032c240de",
            "dda6a6c39304408ba66f7b6e6cce99ff",
            "d777d934c8564b5db0a6412448043d93",
            "e449642524954496bc0f1c8432a0a02c",
            "69f7390f50d34c2b898c1bb5fab0b684",
            "8a16700755fb4ce38f2d511d14454066",
            "504e1411cfc2409ea5071aa89dd9a6e2",
            "baee85d9e3214946a06be7c2ac982ff6",
            "5e2796f30664420f95fa4b6890f61928",
            "6948c521d3824161ba23b188913c6b50"
          ]
        },
        "outputId": "a59daa16-7ff4-4e5b-daba-b87d7cd8d6c3",
        "id": "A2G67fiPecw0"
      },
      "execution_count": null,
      "outputs": [
        {
          "output_type": "display_data",
          "data": {
            "text/plain": [
              "  0%|          | 0/5 [00:00<?, ?it/s]"
            ],
            "application/vnd.jupyter.widget-view+json": {
              "version_major": 2,
              "version_minor": 0,
              "model_id": "deb92430ccc940df8013e393445d384f"
            }
          },
          "metadata": {}
        },
        {
          "output_type": "stream",
          "name": "stdout",
          "text": [
            "0.10767002403736115\n",
            "0.16751304268836975\n",
            "0.0898347795009613\n",
            "0.06589614599943161\n",
            "0.05036981403827667\n",
            "0.12176474928855896\n",
            "0.16014008224010468\n",
            "0.1043446809053421\n",
            "0.06325382739305496\n",
            "0.06189559027552605\n"
          ]
        }
      ]
    },
    {
      "cell_type": "code",
      "source": [
        "# Step 7: Evaluation\n",
        "model.eval()\n",
        "with torch.no_grad():\n",
        "    #for images, targets in eval_loader:\n",
        "        images, targets = next(iter(eval_loader))\n",
        "        images = [image.to(device) for image in images]\n",
        "        targets = [{k: v.to(device) for k, v in t.items()} for t in targets]\n",
        "\n",
        "        # Make predictions\n",
        "        predictions = model(images)\n",
        "\n",
        "        # Visualize the images with predicted bounding boxes\n",
        "        #for i in range(len(images)):\n",
        "        for i in range(1):\n",
        "            image = images[i].cpu()\n",
        "            target = targets[i]\n",
        "            prediction = predictions[i]\n",
        "\n",
        "            image_np = (image.permute(1, 2, 0).numpy() * 255).astype(np.uint8)\n",
        "            image_pil = ToPILImage()(image_np)\n",
        "\n",
        "            fig = plt.figure(figsize=(3, 3))\n",
        "            axis = fig.add_subplot(1, 1, 1)\n",
        "            axis.imshow(image_pil)\n",
        "            axis.axis('off')\n",
        "\n",
        "            boxes = prediction['boxes'].cpu().numpy().astype(np.int32)\n",
        "            labels = prediction['labels'].cpu().numpy()\n",
        "            for box, label in zip(boxes, labels):\n",
        "                x, y, x_max, y_max = box\n",
        "                rect = plt.Rectangle((x, y), x_max - x, y_max - y, fill=False, edgecolor='red', linewidth=2)\n",
        "                axis.add_patch(rect)\n",
        "\n",
        "                # Check if the label exists in the dictionary\n",
        "                #if label in dataset.idx_to_class:\n",
        "                #    axis.text(x, y - 2, dataset.idx_to_class[label], color='red')\n",
        "                #else:\n",
        "                #    axis.text(x, y, \"\", color='red')\n",
        "\n",
        "            plt.show()\n"
      ],
      "metadata": {
        "colab": {
          "base_uri": "https://localhost:8080/",
          "height": 268
        },
        "id": "E1PuU-byecw1",
        "outputId": "b67b6aec-ee4a-4715-fdce-326a044f6844"
      },
      "execution_count": null,
      "outputs": [
        {
          "output_type": "display_data",
          "data": {
            "text/plain": [
              "<Figure size 300x300 with 1 Axes>"
            ],
            "image/png": "[encoded data removed]"
          },
          "metadata": {}
        }
      ]
    },
    {
      "cell_type": "markdown",
      "source": [
        "#### Датасет 4"
      ],
      "metadata": {
        "id": "aM4rImeDd4fr"
      }
    },
    {
      "cell_type": "code",
      "source": [
        "dataset = RandomShapeDataset(num_samples=1000,\n",
        "                             num_shapes=3,\n",
        "                             size_range=(30, 45),\n",
        "                             canvas_size=(160, 160),\n",
        "                             idx_to_class={1: 'rectangle', 2: 'circle', 3: 'triangle'})\n",
        "image, target = dataset[0]\n",
        "print(\"Image shape:\", image.shape)\n",
        "print(\"Bounding boxes:\", target['boxes'].shape)\n",
        "print(\"Labels:\", target['labels'])\n",
        "\n",
        "image_np = np.asarray(ToPILImage()(image))\n",
        "image_np_vis = visualize(np.asarray(ToPILImage()(image)), target['boxes'].type(torch.int).numpy(), target['labels'].numpy(), thickness=2)\n",
        "\n",
        "fig = plt.figure(figsize=(3, 3))\n",
        "axis = fig.add_subplot(1, 2, 1)\n",
        "axis.imshow(image_np)\n",
        "axis.axis('off')\n",
        "axis = fig.add_subplot(1, 2, 2)\n",
        "axis.axis('off')\n",
        "axis.imshow(image_np_vis)"
      ],
      "metadata": {
        "colab": {
          "base_uri": "https://localhost:8080/",
          "height": 211
        },
        "id": "OXPIOkP6d6Hy",
        "outputId": "a55e2f3c-05c1-4261-9eae-347bd3a34e7c"
      },
      "execution_count": null,
      "outputs": [
        {
          "output_type": "stream",
          "name": "stdout",
          "text": [
            "Image shape: torch.Size([3, 160, 160])\n",
            "Bounding boxes: torch.Size([3, 4])\n",
            "Labels: tensor([2, 2, 3])\n"
          ]
        },
        {
          "output_type": "execute_result",
          "data": {
            "text/plain": [
              "<matplotlib.image.AxesImage at 0x7fa465b3c910>"
            ]
          },
          "metadata": {},
          "execution_count": 34
        },
        {
          "output_type": "display_data",
          "data": {
            "text/plain": [
              "<Figure size 300x300 with 2 Axes>"
            ],
            "image/png": "[encoded data removed]"
          },
          "metadata": {}
        }
      ]
    },
    {
      "cell_type": "markdown",
      "source": [
        "Ваше решение:\n"
      ],
      "metadata": {
        "id": "se-y0oxP7aO5"
      }
    },
    {
      "cell_type": "markdown",
      "source": [
        "##### Новая версия"
      ],
      "metadata": {
        "id": "367YzrTYiRBf"
      }
    },
    {
      "cell_type": "code",
      "source": [
        "import torch\n",
        "import torch.nn as nn\n",
        "import torch.optim as optim\n",
        "from torch.utils.data import DataLoader\n",
        "from torchvision.models.detection import fasterrcnn_resnet50_fpn\n",
        "from torchvision.models.detection.faster_rcnn import FastRCNNPredictor\n",
        "from torchvision.transforms import ToPILImage\n",
        "import matplotlib.pyplot as plt\n",
        "import utils\n",
        "from tqdm.notebook import tqdm\n",
        "\n",
        "def collate_fn(batch):  # Избавляемся в батче от поля image_path во время обучения\n",
        "    # итерация по каждому элементу в \"batch\", а именно, для каждого элемента формируется новый кортеж,\n",
        "    # который будет содержать первоначальный объект в позиции 0 и словарь в позиции 1.\n",
        "\n",
        "    # Внутри формируемого словаря происходит удаление элемента \"image_path\" из первоначального словаря,\n",
        "    # если такой ключ в нем был обнаружен.\n",
        "    batch = [(sample[0], {k: v for k, v in sample[1].items() if k != \"image_path\"}) for sample in batch]\n",
        "\n",
        "    # извлеченный список кортежей возвращается обратно в функцию \"utils.collate_fn\" для дальнейшей обработки.\n",
        "    return utils.collate_fn(batch)\n",
        "\n",
        "# Step 1: Define and load the detector model\n",
        "model = fasterrcnn_resnet50_fpn(pretrained=True)\n",
        "num_classes = 4  # Background + triangle + rectangle + circle\n",
        "in_features = model.roi_heads.box_predictor.cls_score.in_features\n",
        "#model.roi_heads.box_predictor = nn.Linear(in_features, num_classes) - переделать\n",
        "model.roi_heads.box_predictor = FastRCNNPredictor(in_features, num_classes)\n",
        "\n",
        "# Step 2: Prepare the dataset\n",
        "#dataset = RandomShapeDataset(num_samples=1000, num_shapes=1, size_range=(15, 30), canvas_size=(64, 64))\n",
        "\n",
        "# Step 3: Split the dataset into training and evaluation sets\n",
        "train_ratio = 0.8\n",
        "train_size = int(len(dataset) * train_ratio)\n",
        "eval_size = len(dataset) - train_size\n",
        "train_dataset, eval_dataset = torch.utils.data.random_split(dataset, [train_size, eval_size])\n",
        "\n",
        "# Step 4: Create data loaders for training and evaluation\n",
        "train_loader = DataLoader(train_dataset, batch_size=4, shuffle=True, num_workers=4, collate_fn = collate_fn)\n",
        "eval_loader = DataLoader(eval_dataset, batch_size=4, shuffle=False, num_workers=4, collate_fn = collate_fn)\n",
        "\n",
        "# Step 5: Configure training parameters\n",
        "device = torch.device('cuda' if torch.cuda.is_available() else 'cpu')\n",
        "model.to(device)\n",
        "optimizer = optim.SGD(model.parameters(), lr=0.001, momentum=0.9)\n",
        "criterion = nn.CrossEntropyLoss()\n",
        "\n",
        "num_epochs = 5\n",
        "i = 0  # Счетчик\n",
        "# Step 6: Training loop\n",
        "for epoch in tqdm(range(num_epochs)):\n",
        "    model.train()\n",
        "    for images, targets in train_loader:\n",
        "        images = [image.to(device) for image in images]\n",
        "        targets = [{k: v.to(device) for k, v in t.items()} for t in targets]\n",
        "\n",
        "        optimizer.zero_grad()\n",
        "        loss_dict = model(images, targets)\n",
        "        losses = sum(loss for loss in loss_dict.values())\n",
        "        losses.backward()\n",
        "        optimizer.step()\n",
        "        i += 1\n",
        "        if i%100 == 0:\n",
        "            print(losses.item())"
      ],
      "metadata": {
        "colab": {
          "base_uri": "https://localhost:8080/",
          "height": 223,
          "referenced_widgets": [
            "73bc4ff40b6f4fc39c7065895cc90b10",
            "063d904cb3ea4f1b991643f45365666e",
            "0d277f93791b4e07a0d480fb35f6e51b",
            "3821af1c15b442aa8e027029ebc0cc25",
            "75bda8b1022d4716b0da6ec0d629b585",
            "e51551fa8b854aa9808c07f1cc36c0fb",
            "463d6ebe458b4fba902660fb18646897",
            "31a515c9b72848b085594232a9397827",
            "5f02aea7830046f89c07b77c1200ce97",
            "7c3d99e4b6714b03a9aff3e0350f16ef",
            "cbc6f40e0d754195aa53b5ecc689723b"
          ]
        },
        "outputId": "b121fe62-5802-40fc-b538-fded1f3c20a1",
        "id": "tq6RFBy-iRB5"
      },
      "execution_count": null,
      "outputs": [
        {
          "output_type": "display_data",
          "data": {
            "text/plain": [
              "  0%|          | 0/5 [00:00<?, ?it/s]"
            ],
            "application/vnd.jupyter.widget-view+json": {
              "version_major": 2,
              "version_minor": 0,
              "model_id": "73bc4ff40b6f4fc39c7065895cc90b10"
            }
          },
          "metadata": {}
        },
        {
          "output_type": "stream",
          "name": "stdout",
          "text": [
            "0.242594376206398\n",
            "0.2898567020893097\n",
            "0.15614470839500427\n",
            "0.08539005368947983\n",
            "0.15878137946128845\n",
            "0.17711448669433594\n",
            "0.18530337512493134\n",
            "0.21091656386852264\n",
            "0.13706637918949127\n",
            "0.0904151052236557\n"
          ]
        }
      ]
    },
    {
      "cell_type": "code",
      "source": [
        "# Step 7: Evaluation\n",
        "model.eval()\n",
        "with torch.no_grad():\n",
        "    #for images, targets in eval_loader:\n",
        "        images, targets = next(iter(eval_loader))\n",
        "        images = [image.to(device) for image in images]\n",
        "        targets = [{k: v.to(device) for k, v in t.items()} for t in targets]\n",
        "\n",
        "        # Make predictions\n",
        "        predictions = model(images)\n",
        "\n",
        "        # Visualize the images with predicted bounding boxes\n",
        "        #for i in range(len(images)):\n",
        "        for i in range(1):\n",
        "            image = images[i].cpu()\n",
        "            target = targets[i]\n",
        "            prediction = predictions[i]\n",
        "\n",
        "            image_np = (image.permute(1, 2, 0).numpy() * 255).astype(np.uint8)\n",
        "            image_pil = ToPILImage()(image_np)\n",
        "\n",
        "            fig = plt.figure(figsize=(3, 3))\n",
        "            axis = fig.add_subplot(1, 1, 1)\n",
        "            axis.imshow(image_pil)\n",
        "            axis.axis('off')\n",
        "\n",
        "            boxes = prediction['boxes'].cpu().numpy().astype(np.int32)\n",
        "            labels = prediction['labels'].cpu().numpy()\n",
        "            for box, label in zip(boxes, labels):\n",
        "                x, y, x_max, y_max = box\n",
        "                rect = plt.Rectangle((x, y), x_max - x, y_max - y, fill=False, edgecolor='red', linewidth=2)\n",
        "                axis.add_patch(rect)\n",
        "\n",
        "                # Check if the label exists in the dictionary\n",
        "                #if label in dataset.idx_to_class:\n",
        "                #    axis.text(x, y - 2, dataset.idx_to_class[label], color='red')\n",
        "                #else:\n",
        "                #    axis.text(x, y, \"\", color='red')\n",
        "\n",
        "            plt.show()\n"
      ],
      "metadata": {
        "colab": {
          "base_uri": "https://localhost:8080/",
          "height": 268
        },
        "id": "_iBSFL5oiRB7",
        "outputId": "ff591ff5-a83b-4fab-b550-75eaaf5987b3"
      },
      "execution_count": null,
      "outputs": [
        {
          "output_type": "display_data",
          "data": {
            "text/plain": [
              "<Figure size 300x300 with 1 Axes>"
            ],
            "image/png": "[encoded data removed]"
          },
          "metadata": {}
        }
      ]
    },
    {
      "cell_type": "markdown",
      "source": [
        "**Выводы:** 1, 3, 4 Datasets, в принципе, отработали норимально - минус медленная скорость обучения. Это говорит о неоптимальности модели, но все имеет право на жизнь. Что касается 2 Dataset - сколько ни запускал, низкая, по сравнению с другими, точность и наличие, всегда, дополнительных рамок, может это связано с тем, что прямоугольники перекрываются и модель начинает \"путаться\" при определении границ фигур, а, возможно, имеются ошибки в отрисовке результата."
      ],
      "metadata": {
        "id": "rVInhdjLr-Rs"
      }
    },
    {
      "cell_type": "markdown",
      "source": [
        "## Задания Pro"
      ],
      "metadata": {
        "id": "yea-dkTUcNi8"
      }
    },
    {
      "cell_type": "markdown",
      "source": [
        "#### Датасет 5"
      ],
      "metadata": {
        "id": "63LmCQDYeJDP"
      }
    },
    {
      "cell_type": "code",
      "source": [
        "dataset = RandomShapeDataset(num_samples=1000,\n",
        "                             num_shapes=300,\n",
        "                             size_range=(10, 20),\n",
        "                             canvas_size=(800, 800),\n",
        "                             idx_to_class={1: 'rectangle', 2: 'circle', 3: 'triangle'})\n",
        "image, target = dataset[0]\n",
        "print(\"Image shape:\", image.shape)\n",
        "print(\"Bounding boxes:\", target['boxes'].shape)\n",
        "print(\"Labels:\", target['labels'].shape)\n",
        "\n",
        "image_np = np.asarray(ToPILImage()(image))\n",
        "image_np_vis = visualize(np.asarray(ToPILImage()(image)), target['boxes'].type(torch.int).numpy(), target['labels'].numpy(), thickness=2)\n",
        "\n",
        "fig = plt.figure(figsize=(20, 20))\n",
        "axis = fig.add_subplot(1, 2, 1)\n",
        "axis.imshow(image_np)\n",
        "axis.axis('off')\n",
        "axis = fig.add_subplot(1, 2, 2)\n",
        "axis.axis('off')\n",
        "axis.imshow(image_np_vis)"
      ],
      "metadata": {
        "id": "Erz6qRTBc0cP",
        "colab": {
          "base_uri": "https://localhost:8080/",
          "height": 621
        },
        "outputId": "3dcb6b46-6762-4531-be5c-7d10fb0d29ca"
      },
      "execution_count": null,
      "outputs": [
        {
          "output_type": "stream",
          "name": "stdout",
          "text": [
            "Image shape: torch.Size([3, 800, 800])\n",
            "Bounding boxes: torch.Size([300, 4])\n",
            "Labels: torch.Size([300])\n"
          ]
        },
        {
          "output_type": "execute_result",
          "data": {
            "text/plain": [
              "<matplotlib.image.AxesImage at 0x7fa46868ca00>"
            ]
          },
          "metadata": {},
          "execution_count": 47
        },
        {
          "output_type": "display_data",
          "data": {
            "text/plain": [
              "<Figure size 2000x2000 with 2 Axes>"
            ],
            "image/png": "[encoded data removed]"
          },
          "metadata": {}
        }
      ]
    },
    {
      "cell_type": "markdown",
      "source": [
        "Ваше решение:\n"
      ],
      "metadata": {
        "id": "XdcFaVip7ciJ"
      }
    },
    {
      "cell_type": "markdown",
      "source": [
        "##### Новая версия"
      ],
      "metadata": {
        "id": "OUWiedJmmVaE"
      }
    },
    {
      "cell_type": "code",
      "source": [
        "import torch\n",
        "import torch.nn as nn\n",
        "import torch.optim as optim\n",
        "from torch.utils.data import DataLoader\n",
        "from torchvision.models.detection import fasterrcnn_resnet50_fpn\n",
        "from torchvision.models.detection.faster_rcnn import FastRCNNPredictor\n",
        "from torchvision.transforms import ToPILImage\n",
        "import matplotlib.pyplot as plt\n",
        "import utils\n",
        "from tqdm.notebook import tqdm\n",
        "\n",
        "def collate_fn(batch):  # Избавляемся в батче от поля image_path во время обучения\n",
        "    # итерация по каждому элементу в \"batch\", а именно, для каждого элемента формируется новый кортеж,\n",
        "    # который будет содержать первоначальный объект в позиции 0 и словарь в позиции 1.\n",
        "\n",
        "    # Внутри формируемого словаря происходит удаление элемента \"image_path\" из первоначального словаря,\n",
        "    # если такой ключ в нем был обнаружен.\n",
        "    batch = [(sample[0], {k: v for k, v in sample[1].items() if k != \"image_path\"}) for sample in batch]\n",
        "\n",
        "    # извлеченный список кортежей возвращается обратно в функцию \"utils.collate_fn\" для дальнейшей обработки.\n",
        "    return utils.collate_fn(batch)\n",
        "\n",
        "# Step 1: Define and load the detector model\n",
        "model = fasterrcnn_resnet50_fpn(pretrained=True)\n",
        "num_classes = 4  # Background + triangle + rectangle + circle\n",
        "in_features = model.roi_heads.box_predictor.cls_score.in_features\n",
        "#model.roi_heads.box_predictor = nn.Linear(in_features, num_classes) - переделать\n",
        "model.roi_heads.box_predictor = FastRCNNPredictor(in_features, num_classes)\n",
        "\n",
        "# Step 2: Prepare the dataset\n",
        "#dataset = RandomShapeDataset(num_samples=1000, num_shapes=1, size_range=(15, 30), canvas_size=(64, 64))\n",
        "\n",
        "# Step 3: Split the dataset into training and evaluation sets\n",
        "train_ratio = 0.8\n",
        "train_size = int(len(dataset) * train_ratio)\n",
        "eval_size = len(dataset) - train_size\n",
        "train_dataset, eval_dataset = torch.utils.data.random_split(dataset, [train_size, eval_size])\n",
        "\n",
        "# Step 4: Create data loaders for training and evaluation\n",
        "train_loader = DataLoader(train_dataset, batch_size=4, shuffle=True, num_workers=4, collate_fn = collate_fn)\n",
        "eval_loader = DataLoader(eval_dataset, batch_size=4, shuffle=False, num_workers=4, collate_fn = collate_fn)\n",
        "\n",
        "# Step 5: Configure training parameters\n",
        "device = torch.device('cuda' if torch.cuda.is_available() else 'cpu')\n",
        "model.to(device)\n",
        "optimizer = optim.SGD(model.parameters(), lr=0.001, momentum=0.9)\n",
        "criterion = nn.CrossEntropyLoss()\n",
        "\n",
        "num_epochs = 20\n",
        "i = 0  # Счетчик\n",
        "# Step 6: Training loop\n",
        "for epoch in tqdm(range(num_epochs)):\n",
        "    model.train()\n",
        "    for images, targets in train_loader:\n",
        "        images = [image.to(device) for image in images]\n",
        "        targets = [{k: v.to(device) for k, v in t.items()} for t in targets]\n",
        "\n",
        "        optimizer.zero_grad()\n",
        "        loss_dict = model(images, targets)\n",
        "        losses = sum(loss for loss in loss_dict.values())\n",
        "        losses.backward()\n",
        "        optimizer.step()\n",
        "        i += 1\n",
        "        if i%100 == 0:\n",
        "            print(losses.item())"
      ],
      "metadata": {
        "colab": {
          "base_uri": "https://localhost:8080/",
          "height": 743,
          "referenced_widgets": [
            "5511dc24c918413aa0371c1f93cb1a0c",
            "4fc57f375b1049ab893ccf5d3a34cfe7",
            "6beb98af5509409fb65141eca02cb7a5",
            "9b14e68e353640fcbd635885780e4794",
            "bbbd9028fd8149ae88c5d5ae03df5e60",
            "fb564d6e8d91450a9b40f9eef7193c83",
            "16957b601d7e467296385ef93ee53198",
            "16273aa57d964e09a069b3d6c88c8deb",
            "9111ba22d75c469f8595f3eea79b6cac",
            "e6be1488642e48888f7a51bc03324a57",
            "65c6ddbae0a1457aa4be53707c40cde1"
          ]
        },
        "outputId": "45936667-8411-4bbd-9961-9462ce0090c0",
        "id": "3dSdEk4TmVaT"
      },
      "execution_count": null,
      "outputs": [
        {
          "output_type": "display_data",
          "data": {
            "text/plain": [
              "  0%|          | 0/20 [00:00<?, ?it/s]"
            ],
            "application/vnd.jupyter.widget-view+json": {
              "version_major": 2,
              "version_minor": 0,
              "model_id": "5511dc24c918413aa0371c1f93cb1a0c"
            }
          },
          "metadata": {}
        },
        {
          "output_type": "stream",
          "name": "stdout",
          "text": [
            "0.6599763631820679\n",
            "0.5266627073287964\n",
            "0.5021195411682129\n",
            "0.453302264213562\n",
            "0.40437063574790955\n",
            "0.40302160382270813\n",
            "0.4227346181869507\n",
            "0.4058549106121063\n",
            "0.4144161343574524\n",
            "0.39083507657051086\n",
            "0.415164589881897\n",
            "0.38715997338294983\n",
            "0.3885825276374817\n",
            "0.36170870065689087\n",
            "0.3570464253425598\n",
            "0.3368107080459595\n",
            "0.350949764251709\n",
            "0.3185068964958191\n",
            "0.3222060203552246\n",
            "0.32509416341781616\n",
            "0.3134045898914337\n",
            "0.3054167628288269\n",
            "0.33270132541656494\n",
            "0.31723490357398987\n",
            "0.26924264430999756\n",
            "0.2907615900039673\n",
            "0.30616047978401184\n",
            "0.3058292865753174\n",
            "0.3067188858985901\n",
            "0.29261264204978943\n",
            "0.3137975037097931\n",
            "0.2825237512588501\n",
            "0.26876264810562134\n",
            "0.2874152362346649\n",
            "0.26700717210769653\n",
            "0.2699018716812134\n",
            "0.33291736245155334\n",
            "0.2731058597564697\n",
            "0.2927853465080261\n",
            "0.2620583772659302\n"
          ]
        }
      ]
    },
    {
      "cell_type": "code",
      "source": [
        "# Step 7: Evaluation\n",
        "model.eval()\n",
        "with torch.no_grad():\n",
        "    #for images, targets in eval_loader:\n",
        "        images, targets = next(iter(eval_loader))\n",
        "        images = [image.to(device) for image in images]\n",
        "        targets = [{k: v.to(device) for k, v in t.items()} for t in targets]\n",
        "\n",
        "        # Make predictions\n",
        "        predictions = model(images)\n",
        "\n",
        "        # Visualize the images with predicted bounding boxes\n",
        "        #for i in range(len(images)):\n",
        "        for i in range(1):\n",
        "            image = images[i].cpu()\n",
        "            target = targets[i]\n",
        "            prediction = predictions[i]\n",
        "\n",
        "            image_np = (image.permute(1, 2, 0).numpy() * 255).astype(np.uint8)\n",
        "            image_pil = ToPILImage()(image_np)\n",
        "\n",
        "            fig = plt.figure(figsize=(8, 8))\n",
        "            axis = fig.add_subplot(1, 1, 1)\n",
        "            axis.imshow(image_pil)\n",
        "            axis.axis('off')\n",
        "\n",
        "            boxes = prediction['boxes'].cpu().numpy().astype(np.int32)\n",
        "            labels = prediction['labels'].cpu().numpy()\n",
        "            for box, label in zip(boxes, labels):\n",
        "                x, y, x_max, y_max = box\n",
        "                rect = plt.Rectangle((x, y), x_max - x, y_max - y, fill=False, edgecolor='red', linewidth=2)\n",
        "                axis.add_patch(rect)\n",
        "\n",
        "                # Check if the label exists in the dictionary\n",
        "                #if label in dataset.idx_to_class:\n",
        "                #    axis.text(x, y - 2, dataset.idx_to_class[label], color='red')\n",
        "                #else:\n",
        "                #    axis.text(x, y, \"\", color='red')\n",
        "\n",
        "            plt.show()\n"
      ],
      "metadata": {
        "colab": {
          "base_uri": "https://localhost:8080/",
          "height": 653
        },
        "outputId": "7adb9985-ab8c-40d3-b38a-ba8543b9ccdc",
        "id": "2JDzwOnsmVaU"
      },
      "execution_count": null,
      "outputs": [
        {
          "output_type": "display_data",
          "data": {
            "text/plain": [
              "<Figure size 800x800 with 1 Axes>"
            ],
            "image/png": "[encoded data removed]"
          },
          "metadata": {}
        }
      ]
    },
    {
      "cell_type": "markdown",
      "source": [
        "Конечно, данная модель не очень хорошо отработала, но задача по точности не ставилась, а в качестве модели исследования, видно, что возможно, дело в функции ошибки, т.к. ошибка прыгает, но в целом уменьшается. Из минусов - низкая скорость обучения."
      ],
      "metadata": {
        "id": "2gc4qgm2-pb3"
      }
    }
  ]
}