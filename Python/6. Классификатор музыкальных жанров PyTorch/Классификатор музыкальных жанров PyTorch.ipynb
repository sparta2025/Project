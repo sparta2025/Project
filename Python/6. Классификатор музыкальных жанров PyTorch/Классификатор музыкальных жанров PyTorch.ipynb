{
  "nbformat": 4,
  "nbformat_minor": 0,
  "metadata": {
    "colab": {
      "provenance": [],
      "collapsed_sections": [
        "HJv-_sfe8q8i",
        "baARwZ1IyMYx",
        "lkrDqzCqJglv",
        "Ujiw3GYuJcRa",
        "-_n6AtHFJex-",
        "plS8FlIAKOwG"
      ],
      "gpuType": "T4"
    },
    "kernelspec": {
      "name": "python3",
      "display_name": "Python 3"
    },
    "language_info": {
      "name": "python"
    },
    "accelerator": "GPU",
    "widgets": {
      "application/vnd.jupyter.widget-state+json": {
        "5d8dfa4233ad40f8855272251cbf47b1": {
          "model_module": "@jupyter-widgets/controls",
          "model_name": "PasswordModel",
          "model_module_version": "1.5.0",
          "state": {
            "_dom_classes": [],
            "_model_module": "@jupyter-widgets/controls",
            "_model_module_version": "1.5.0",
            "_model_name": "PasswordModel",
            "_view_count": null,
            "_view_module": "@jupyter-widgets/controls",
            "_view_module_version": "1.5.0",
            "_view_name": "PasswordView",
            "continuous_update": true,
            "description": "Enter Key:",
            "description_tooltip": null,
            "disabled": false,
            "layout": "IPY_MODEL_5adce8ddcae746b7aeb75a1a6ebd0a9d",
            "placeholder": "KAGGLE_USERNAME",
            "style": "IPY_MODEL_e1034902da104305b10b75acf5adc753",
            "value": "nickyudin"
          }
        },
        "5adce8ddcae746b7aeb75a1a6ebd0a9d": {
          "model_module": "@jupyter-widgets/base",
          "model_name": "LayoutModel",
          "model_module_version": "1.2.0",
          "state": {
            "_model_module": "@jupyter-widgets/base",
            "_model_module_version": "1.2.0",
            "_model_name": "LayoutModel",
            "_view_count": null,
            "_view_module": "@jupyter-widgets/base",
            "_view_module_version": "1.2.0",
            "_view_name": "LayoutView",
            "align_content": null,
            "align_items": null,
            "align_self": null,
            "border": null,
            "bottom": null,
            "display": null,
            "flex": null,
            "flex_flow": null,
            "grid_area": null,
            "grid_auto_columns": null,
            "grid_auto_flow": null,
            "grid_auto_rows": null,
            "grid_column": null,
            "grid_gap": null,
            "grid_row": null,
            "grid_template_areas": null,
            "grid_template_columns": null,
            "grid_template_rows": null,
            "height": null,
            "justify_content": null,
            "justify_items": null,
            "left": null,
            "margin": null,
            "max_height": null,
            "max_width": null,
            "min_height": null,
            "min_width": null,
            "object_fit": null,
            "object_position": null,
            "order": null,
            "overflow": null,
            "overflow_x": null,
            "overflow_y": null,
            "padding": null,
            "right": null,
            "top": null,
            "visibility": null,
            "width": null
          }
        },
        "e1034902da104305b10b75acf5adc753": {
          "model_module": "@jupyter-widgets/controls",
          "model_name": "DescriptionStyleModel",
          "model_module_version": "1.5.0",
          "state": {
            "_model_module": "@jupyter-widgets/controls",
            "_model_module_version": "1.5.0",
            "_model_name": "DescriptionStyleModel",
            "_view_count": null,
            "_view_module": "@jupyter-widgets/base",
            "_view_module_version": "1.2.0",
            "_view_name": "StyleView",
            "description_width": ""
          }
        },
        "8aed01b86ac5445480ae5640428d9b5a": {
          "model_module": "@jupyter-widgets/controls",
          "model_name": "ButtonModel",
          "model_module_version": "1.5.0",
          "state": {
            "_dom_classes": [],
            "_model_module": "@jupyter-widgets/controls",
            "_model_module_version": "1.5.0",
            "_model_name": "ButtonModel",
            "_view_count": null,
            "_view_module": "@jupyter-widgets/controls",
            "_view_module_version": "1.5.0",
            "_view_name": "ButtonView",
            "button_style": "",
            "description": "Save Key",
            "disabled": false,
            "icon": "",
            "layout": "IPY_MODEL_6a29c952915f483a992f79fa0d6f90d8",
            "style": "IPY_MODEL_a4bf1b155086436e9584f129db191b67",
            "tooltip": ""
          }
        },
        "6a29c952915f483a992f79fa0d6f90d8": {
          "model_module": "@jupyter-widgets/base",
          "model_name": "LayoutModel",
          "model_module_version": "1.2.0",
          "state": {
            "_model_module": "@jupyter-widgets/base",
            "_model_module_version": "1.2.0",
            "_model_name": "LayoutModel",
            "_view_count": null,
            "_view_module": "@jupyter-widgets/base",
            "_view_module_version": "1.2.0",
            "_view_name": "LayoutView",
            "align_content": null,
            "align_items": null,
            "align_self": null,
            "border": null,
            "bottom": null,
            "display": null,
            "flex": null,
            "flex_flow": null,
            "grid_area": null,
            "grid_auto_columns": null,
            "grid_auto_flow": null,
            "grid_auto_rows": null,
            "grid_column": null,
            "grid_gap": null,
            "grid_row": null,
            "grid_template_areas": null,
            "grid_template_columns": null,
            "grid_template_rows": null,
            "height": null,
            "justify_content": null,
            "justify_items": null,
            "left": null,
            "margin": null,
            "max_height": null,
            "max_width": null,
            "min_height": null,
            "min_width": null,
            "object_fit": null,
            "object_position": null,
            "order": null,
            "overflow": null,
            "overflow_x": null,
            "overflow_y": null,
            "padding": null,
            "right": null,
            "top": null,
            "visibility": null,
            "width": null
          }
        },
        "a4bf1b155086436e9584f129db191b67": {
          "model_module": "@jupyter-widgets/controls",
          "model_name": "ButtonStyleModel",
          "model_module_version": "1.5.0",
          "state": {
            "_model_module": "@jupyter-widgets/controls",
            "_model_module_version": "1.5.0",
            "_model_name": "ButtonStyleModel",
            "_view_count": null,
            "_view_module": "@jupyter-widgets/base",
            "_view_module_version": "1.2.0",
            "_view_name": "StyleView",
            "button_color": null,
            "font_weight": ""
          }
        },
        "50e575170ed74f8b9029ca403bbedd10": {
          "model_module": "@jupyter-widgets/output",
          "model_name": "OutputModel",
          "model_module_version": "1.0.0",
          "state": {
            "_dom_classes": [],
            "_model_module": "@jupyter-widgets/output",
            "_model_module_version": "1.0.0",
            "_model_name": "OutputModel",
            "_view_count": null,
            "_view_module": "@jupyter-widgets/output",
            "_view_module_version": "1.0.0",
            "_view_name": "OutputView",
            "layout": "IPY_MODEL_a167cb3342a34e31aad923c4597d1c03",
            "msg_id": "",
            "outputs": []
          }
        },
        "a167cb3342a34e31aad923c4597d1c03": {
          "model_module": "@jupyter-widgets/base",
          "model_name": "LayoutModel",
          "model_module_version": "1.2.0",
          "state": {
            "_model_module": "@jupyter-widgets/base",
            "_model_module_version": "1.2.0",
            "_model_name": "LayoutModel",
            "_view_count": null,
            "_view_module": "@jupyter-widgets/base",
            "_view_module_version": "1.2.0",
            "_view_name": "LayoutView",
            "align_content": null,
            "align_items": null,
            "align_self": null,
            "border": null,
            "bottom": null,
            "display": null,
            "flex": null,
            "flex_flow": null,
            "grid_area": null,
            "grid_auto_columns": null,
            "grid_auto_flow": null,
            "grid_auto_rows": null,
            "grid_column": null,
            "grid_gap": null,
            "grid_row": null,
            "grid_template_areas": null,
            "grid_template_columns": null,
            "grid_template_rows": null,
            "height": null,
            "justify_content": null,
            "justify_items": null,
            "left": null,
            "margin": null,
            "max_height": null,
            "max_width": null,
            "min_height": null,
            "min_width": null,
            "object_fit": null,
            "object_position": null,
            "order": null,
            "overflow": null,
            "overflow_x": null,
            "overflow_y": null,
            "padding": null,
            "right": null,
            "top": null,
            "visibility": null,
            "width": null
          }
        },
        "7e5897acb5ba4a5498917c5a31829876": {
          "model_module": "@jupyter-widgets/controls",
          "model_name": "PasswordModel",
          "model_module_version": "1.5.0",
          "state": {
            "_dom_classes": [],
            "_model_module": "@jupyter-widgets/controls",
            "_model_module_version": "1.5.0",
            "_model_name": "PasswordModel",
            "_view_count": null,
            "_view_module": "@jupyter-widgets/controls",
            "_view_module_version": "1.5.0",
            "_view_name": "PasswordView",
            "continuous_update": true,
            "description": "Enter Key:",
            "description_tooltip": null,
            "disabled": false,
            "layout": "IPY_MODEL_b7e8680390dc4a8d978d2b4b2aebb927",
            "placeholder": "KAGGLE_KEY",
            "style": "IPY_MODEL_93d83c127f45404f954a19024789dab0",
            "value": "328d0ae200131381e20caac4fa74306f"
          }
        },
        "b7e8680390dc4a8d978d2b4b2aebb927": {
          "model_module": "@jupyter-widgets/base",
          "model_name": "LayoutModel",
          "model_module_version": "1.2.0",
          "state": {
            "_model_module": "@jupyter-widgets/base",
            "_model_module_version": "1.2.0",
            "_model_name": "LayoutModel",
            "_view_count": null,
            "_view_module": "@jupyter-widgets/base",
            "_view_module_version": "1.2.0",
            "_view_name": "LayoutView",
            "align_content": null,
            "align_items": null,
            "align_self": null,
            "border": null,
            "bottom": null,
            "display": null,
            "flex": null,
            "flex_flow": null,
            "grid_area": null,
            "grid_auto_columns": null,
            "grid_auto_flow": null,
            "grid_auto_rows": null,
            "grid_column": null,
            "grid_gap": null,
            "grid_row": null,
            "grid_template_areas": null,
            "grid_template_columns": null,
            "grid_template_rows": null,
            "height": null,
            "justify_content": null,
            "justify_items": null,
            "left": null,
            "margin": null,
            "max_height": null,
            "max_width": null,
            "min_height": null,
            "min_width": null,
            "object_fit": null,
            "object_position": null,
            "order": null,
            "overflow": null,
            "overflow_x": null,
            "overflow_y": null,
            "padding": null,
            "right": null,
            "top": null,
            "visibility": null,
            "width": null
          }
        },
        "93d83c127f45404f954a19024789dab0": {
          "model_module": "@jupyter-widgets/controls",
          "model_name": "DescriptionStyleModel",
          "model_module_version": "1.5.0",
          "state": {
            "_model_module": "@jupyter-widgets/controls",
            "_model_module_version": "1.5.0",
            "_model_name": "DescriptionStyleModel",
            "_view_count": null,
            "_view_module": "@jupyter-widgets/base",
            "_view_module_version": "1.2.0",
            "_view_name": "StyleView",
            "description_width": ""
          }
        },
        "4ea2e7e869154483bf5a4f677c63f3ee": {
          "model_module": "@jupyter-widgets/controls",
          "model_name": "ButtonModel",
          "model_module_version": "1.5.0",
          "state": {
            "_dom_classes": [],
            "_model_module": "@jupyter-widgets/controls",
            "_model_module_version": "1.5.0",
            "_model_name": "ButtonModel",
            "_view_count": null,
            "_view_module": "@jupyter-widgets/controls",
            "_view_module_version": "1.5.0",
            "_view_name": "ButtonView",
            "button_style": "",
            "description": "Save Key",
            "disabled": false,
            "icon": "",
            "layout": "IPY_MODEL_3f49f67c6113434a9c8194626c093db7",
            "style": "IPY_MODEL_e113243e28fc4613a340c032221fc29c",
            "tooltip": ""
          }
        },
        "3f49f67c6113434a9c8194626c093db7": {
          "model_module": "@jupyter-widgets/base",
          "model_name": "LayoutModel",
          "model_module_version": "1.2.0",
          "state": {
            "_model_module": "@jupyter-widgets/base",
            "_model_module_version": "1.2.0",
            "_model_name": "LayoutModel",
            "_view_count": null,
            "_view_module": "@jupyter-widgets/base",
            "_view_module_version": "1.2.0",
            "_view_name": "LayoutView",
            "align_content": null,
            "align_items": null,
            "align_self": null,
            "border": null,
            "bottom": null,
            "display": null,
            "flex": null,
            "flex_flow": null,
            "grid_area": null,
            "grid_auto_columns": null,
            "grid_auto_flow": null,
            "grid_auto_rows": null,
            "grid_column": null,
            "grid_gap": null,
            "grid_row": null,
            "grid_template_areas": null,
            "grid_template_columns": null,
            "grid_template_rows": null,
            "height": null,
            "justify_content": null,
            "justify_items": null,
            "left": null,
            "margin": null,
            "max_height": null,
            "max_width": null,
            "min_height": null,
            "min_width": null,
            "object_fit": null,
            "object_position": null,
            "order": null,
            "overflow": null,
            "overflow_x": null,
            "overflow_y": null,
            "padding": null,
            "right": null,
            "top": null,
            "visibility": null,
            "width": null
          }
        },
        "e113243e28fc4613a340c032221fc29c": {
          "model_module": "@jupyter-widgets/controls",
          "model_name": "ButtonStyleModel",
          "model_module_version": "1.5.0",
          "state": {
            "_model_module": "@jupyter-widgets/controls",
            "_model_module_version": "1.5.0",
            "_model_name": "ButtonStyleModel",
            "_view_count": null,
            "_view_module": "@jupyter-widgets/base",
            "_view_module_version": "1.2.0",
            "_view_name": "StyleView",
            "button_color": null,
            "font_weight": ""
          }
        },
        "cfda71078e904953a628675e8ef08405": {
          "model_module": "@jupyter-widgets/output",
          "model_name": "OutputModel",
          "model_module_version": "1.0.0",
          "state": {
            "_dom_classes": [],
            "_model_module": "@jupyter-widgets/output",
            "_model_module_version": "1.0.0",
            "_model_name": "OutputModel",
            "_view_count": null,
            "_view_module": "@jupyter-widgets/output",
            "_view_module_version": "1.0.0",
            "_view_name": "OutputView",
            "layout": "IPY_MODEL_5ea0600dcc894724885933bffec19c37",
            "msg_id": "",
            "outputs": []
          }
        },
        "5ea0600dcc894724885933bffec19c37": {
          "model_module": "@jupyter-widgets/base",
          "model_name": "LayoutModel",
          "model_module_version": "1.2.0",
          "state": {
            "_model_module": "@jupyter-widgets/base",
            "_model_module_version": "1.2.0",
            "_model_name": "LayoutModel",
            "_view_count": null,
            "_view_module": "@jupyter-widgets/base",
            "_view_module_version": "1.2.0",
            "_view_name": "LayoutView",
            "align_content": null,
            "align_items": null,
            "align_self": null,
            "border": null,
            "bottom": null,
            "display": null,
            "flex": null,
            "flex_flow": null,
            "grid_area": null,
            "grid_auto_columns": null,
            "grid_auto_flow": null,
            "grid_auto_rows": null,
            "grid_column": null,
            "grid_gap": null,
            "grid_row": null,
            "grid_template_areas": null,
            "grid_template_columns": null,
            "grid_template_rows": null,
            "height": null,
            "justify_content": null,
            "justify_items": null,
            "left": null,
            "margin": null,
            "max_height": null,
            "max_width": null,
            "min_height": null,
            "min_width": null,
            "object_fit": null,
            "object_position": null,
            "order": null,
            "overflow": null,
            "overflow_x": null,
            "overflow_y": null,
            "padding": null,
            "right": null,
            "top": null,
            "visibility": null,
            "width": null
          }
        },
        "6c2f75942bdb46f5b76d7a778e75429e": {
          "model_module": "@jupyter-widgets/controls",
          "model_name": "HBoxModel",
          "model_module_version": "1.5.0",
          "state": {
            "_dom_classes": [],
            "_model_module": "@jupyter-widgets/controls",
            "_model_module_version": "1.5.0",
            "_model_name": "HBoxModel",
            "_view_count": null,
            "_view_module": "@jupyter-widgets/controls",
            "_view_module_version": "1.5.0",
            "_view_name": "HBoxView",
            "box_style": "",
            "children": [
              "IPY_MODEL_a72793fc8edc4f848e24671766112b01",
              "IPY_MODEL_d9a092bd534e4a0da5b837a59104b2a4",
              "IPY_MODEL_d05197492c1e403da12fc1dbecabec47"
            ],
            "layout": "IPY_MODEL_7bd4d605a5d84e67855a3c468298aa46"
          }
        },
        "a72793fc8edc4f848e24671766112b01": {
          "model_module": "@jupyter-widgets/controls",
          "model_name": "HTMLModel",
          "model_module_version": "1.5.0",
          "state": {
            "_dom_classes": [],
            "_model_module": "@jupyter-widgets/controls",
            "_model_module_version": "1.5.0",
            "_model_name": "HTMLModel",
            "_view_count": null,
            "_view_module": "@jupyter-widgets/controls",
            "_view_module_version": "1.5.0",
            "_view_name": "HTMLView",
            "description": "",
            "description_tooltip": null,
            "layout": "IPY_MODEL_b78397d2899442a7bb59cad519bb6e0e",
            "placeholder": "​",
            "style": "IPY_MODEL_d632e5d1aa1742f4858fcb14368c4c1c",
            "value": "100%"
          }
        },
        "d9a092bd534e4a0da5b837a59104b2a4": {
          "model_module": "@jupyter-widgets/controls",
          "model_name": "FloatProgressModel",
          "model_module_version": "1.5.0",
          "state": {
            "_dom_classes": [],
            "_model_module": "@jupyter-widgets/controls",
            "_model_module_version": "1.5.0",
            "_model_name": "FloatProgressModel",
            "_view_count": null,
            "_view_module": "@jupyter-widgets/controls",
            "_view_module_version": "1.5.0",
            "_view_name": "ProgressView",
            "bar_style": "success",
            "description": "",
            "description_tooltip": null,
            "layout": "IPY_MODEL_53f11dab9d504f88bd8069059d6bdf2f",
            "max": 999,
            "min": 0,
            "orientation": "horizontal",
            "style": "IPY_MODEL_5b8cd0f03fe0402b8dc0d091114e6cf2",
            "value": 999
          }
        },
        "d05197492c1e403da12fc1dbecabec47": {
          "model_module": "@jupyter-widgets/controls",
          "model_name": "HTMLModel",
          "model_module_version": "1.5.0",
          "state": {
            "_dom_classes": [],
            "_model_module": "@jupyter-widgets/controls",
            "_model_module_version": "1.5.0",
            "_model_name": "HTMLModel",
            "_view_count": null,
            "_view_module": "@jupyter-widgets/controls",
            "_view_module_version": "1.5.0",
            "_view_name": "HTMLView",
            "description": "",
            "description_tooltip": null,
            "layout": "IPY_MODEL_96be6708728f4c5e8baa8f4d0d6772aa",
            "placeholder": "​",
            "style": "IPY_MODEL_63da5f6fc2074920a0fc96ac698f41a0",
            "value": " 999/999 [00:16&lt;00:00, 64.25it/s]"
          }
        },
        "7bd4d605a5d84e67855a3c468298aa46": {
          "model_module": "@jupyter-widgets/base",
          "model_name": "LayoutModel",
          "model_module_version": "1.2.0",
          "state": {
            "_model_module": "@jupyter-widgets/base",
            "_model_module_version": "1.2.0",
            "_model_name": "LayoutModel",
            "_view_count": null,
            "_view_module": "@jupyter-widgets/base",
            "_view_module_version": "1.2.0",
            "_view_name": "LayoutView",
            "align_content": null,
            "align_items": null,
            "align_self": null,
            "border": null,
            "bottom": null,
            "display": null,
            "flex": null,
            "flex_flow": null,
            "grid_area": null,
            "grid_auto_columns": null,
            "grid_auto_flow": null,
            "grid_auto_rows": null,
            "grid_column": null,
            "grid_gap": null,
            "grid_row": null,
            "grid_template_areas": null,
            "grid_template_columns": null,
            "grid_template_rows": null,
            "height": null,
            "justify_content": null,
            "justify_items": null,
            "left": null,
            "margin": null,
            "max_height": null,
            "max_width": null,
            "min_height": null,
            "min_width": null,
            "object_fit": null,
            "object_position": null,
            "order": null,
            "overflow": null,
            "overflow_x": null,
            "overflow_y": null,
            "padding": null,
            "right": null,
            "top": null,
            "visibility": null,
            "width": null
          }
        },
        "b78397d2899442a7bb59cad519bb6e0e": {
          "model_module": "@jupyter-widgets/base",
          "model_name": "LayoutModel",
          "model_module_version": "1.2.0",
          "state": {
            "_model_module": "@jupyter-widgets/base",
            "_model_module_version": "1.2.0",
            "_model_name": "LayoutModel",
            "_view_count": null,
            "_view_module": "@jupyter-widgets/base",
            "_view_module_version": "1.2.0",
            "_view_name": "LayoutView",
            "align_content": null,
            "align_items": null,
            "align_self": null,
            "border": null,
            "bottom": null,
            "display": null,
            "flex": null,
            "flex_flow": null,
            "grid_area": null,
            "grid_auto_columns": null,
            "grid_auto_flow": null,
            "grid_auto_rows": null,
            "grid_column": null,
            "grid_gap": null,
            "grid_row": null,
            "grid_template_areas": null,
            "grid_template_columns": null,
            "grid_template_rows": null,
            "height": null,
            "justify_content": null,
            "justify_items": null,
            "left": null,
            "margin": null,
            "max_height": null,
            "max_width": null,
            "min_height": null,
            "min_width": null,
            "object_fit": null,
            "object_position": null,
            "order": null,
            "overflow": null,
            "overflow_x": null,
            "overflow_y": null,
            "padding": null,
            "right": null,
            "top": null,
            "visibility": null,
            "width": null
          }
        },
        "d632e5d1aa1742f4858fcb14368c4c1c": {
          "model_module": "@jupyter-widgets/controls",
          "model_name": "DescriptionStyleModel",
          "model_module_version": "1.5.0",
          "state": {
            "_model_module": "@jupyter-widgets/controls",
            "_model_module_version": "1.5.0",
            "_model_name": "DescriptionStyleModel",
            "_view_count": null,
            "_view_module": "@jupyter-widgets/base",
            "_view_module_version": "1.2.0",
            "_view_name": "StyleView",
            "description_width": ""
          }
        },
        "53f11dab9d504f88bd8069059d6bdf2f": {
          "model_module": "@jupyter-widgets/base",
          "model_name": "LayoutModel",
          "model_module_version": "1.2.0",
          "state": {
            "_model_module": "@jupyter-widgets/base",
            "_model_module_version": "1.2.0",
            "_model_name": "LayoutModel",
            "_view_count": null,
            "_view_module": "@jupyter-widgets/base",
            "_view_module_version": "1.2.0",
            "_view_name": "LayoutView",
            "align_content": null,
            "align_items": null,
            "align_self": null,
            "border": null,
            "bottom": null,
            "display": null,
            "flex": null,
            "flex_flow": null,
            "grid_area": null,
            "grid_auto_columns": null,
            "grid_auto_flow": null,
            "grid_auto_rows": null,
            "grid_column": null,
            "grid_gap": null,
            "grid_row": null,
            "grid_template_areas": null,
            "grid_template_columns": null,
            "grid_template_rows": null,
            "height": null,
            "justify_content": null,
            "justify_items": null,
            "left": null,
            "margin": null,
            "max_height": null,
            "max_width": null,
            "min_height": null,
            "min_width": null,
            "object_fit": null,
            "object_position": null,
            "order": null,
            "overflow": null,
            "overflow_x": null,
            "overflow_y": null,
            "padding": null,
            "right": null,
            "top": null,
            "visibility": null,
            "width": null
          }
        },
        "5b8cd0f03fe0402b8dc0d091114e6cf2": {
          "model_module": "@jupyter-widgets/controls",
          "model_name": "ProgressStyleModel",
          "model_module_version": "1.5.0",
          "state": {
            "_model_module": "@jupyter-widgets/controls",
            "_model_module_version": "1.5.0",
            "_model_name": "ProgressStyleModel",
            "_view_count": null,
            "_view_module": "@jupyter-widgets/base",
            "_view_module_version": "1.2.0",
            "_view_name": "StyleView",
            "bar_color": null,
            "description_width": ""
          }
        },
        "96be6708728f4c5e8baa8f4d0d6772aa": {
          "model_module": "@jupyter-widgets/base",
          "model_name": "LayoutModel",
          "model_module_version": "1.2.0",
          "state": {
            "_model_module": "@jupyter-widgets/base",
            "_model_module_version": "1.2.0",
            "_model_name": "LayoutModel",
            "_view_count": null,
            "_view_module": "@jupyter-widgets/base",
            "_view_module_version": "1.2.0",
            "_view_name": "LayoutView",
            "align_content": null,
            "align_items": null,
            "align_self": null,
            "border": null,
            "bottom": null,
            "display": null,
            "flex": null,
            "flex_flow": null,
            "grid_area": null,
            "grid_auto_columns": null,
            "grid_auto_flow": null,
            "grid_auto_rows": null,
            "grid_column": null,
            "grid_gap": null,
            "grid_row": null,
            "grid_template_areas": null,
            "grid_template_columns": null,
            "grid_template_rows": null,
            "height": null,
            "justify_content": null,
            "justify_items": null,
            "left": null,
            "margin": null,
            "max_height": null,
            "max_width": null,
            "min_height": null,
            "min_width": null,
            "object_fit": null,
            "object_position": null,
            "order": null,
            "overflow": null,
            "overflow_x": null,
            "overflow_y": null,
            "padding": null,
            "right": null,
            "top": null,
            "visibility": null,
            "width": null
          }
        },
        "63da5f6fc2074920a0fc96ac698f41a0": {
          "model_module": "@jupyter-widgets/controls",
          "model_name": "DescriptionStyleModel",
          "model_module_version": "1.5.0",
          "state": {
            "_model_module": "@jupyter-widgets/controls",
            "_model_module_version": "1.5.0",
            "_model_name": "DescriptionStyleModel",
            "_view_count": null,
            "_view_module": "@jupyter-widgets/base",
            "_view_module_version": "1.2.0",
            "_view_name": "StyleView",
            "description_width": ""
          }
        },
        "e0c6a6bba8534863bc6e8bff707dc23a": {
          "model_module": "@jupyter-widgets/controls",
          "model_name": "HBoxModel",
          "model_module_version": "1.5.0",
          "state": {
            "_dom_classes": [],
            "_model_module": "@jupyter-widgets/controls",
            "_model_module_version": "1.5.0",
            "_model_name": "HBoxModel",
            "_view_count": null,
            "_view_module": "@jupyter-widgets/controls",
            "_view_module_version": "1.5.0",
            "_view_name": "HBoxView",
            "box_style": "",
            "children": [
              "IPY_MODEL_65d297676c984af28c870d8ef6051da4",
              "IPY_MODEL_cfac3aa7a8b84ae4a70d971129509fdb",
              "IPY_MODEL_68a5500d21ad49efb92e2b74bd7f1baa"
            ],
            "layout": "IPY_MODEL_90181b0ecf1d41d790952f18ea48f41c"
          }
        },
        "65d297676c984af28c870d8ef6051da4": {
          "model_module": "@jupyter-widgets/controls",
          "model_name": "HTMLModel",
          "model_module_version": "1.5.0",
          "state": {
            "_dom_classes": [],
            "_model_module": "@jupyter-widgets/controls",
            "_model_module_version": "1.5.0",
            "_model_name": "HTMLModel",
            "_view_count": null,
            "_view_module": "@jupyter-widgets/controls",
            "_view_module_version": "1.5.0",
            "_view_name": "HTMLView",
            "description": "",
            "description_tooltip": null,
            "layout": "IPY_MODEL_ad3f8ebc91bb47a9a07a997ed4d58e8c",
            "placeholder": "​",
            "style": "IPY_MODEL_ecaacb5bfe104677b7a1f5b9a0711460",
            "value": "100%"
          }
        },
        "cfac3aa7a8b84ae4a70d971129509fdb": {
          "model_module": "@jupyter-widgets/controls",
          "model_name": "FloatProgressModel",
          "model_module_version": "1.5.0",
          "state": {
            "_dom_classes": [],
            "_model_module": "@jupyter-widgets/controls",
            "_model_module_version": "1.5.0",
            "_model_name": "FloatProgressModel",
            "_view_count": null,
            "_view_module": "@jupyter-widgets/controls",
            "_view_module_version": "1.5.0",
            "_view_name": "ProgressView",
            "bar_style": "success",
            "description": "",
            "description_tooltip": null,
            "layout": "IPY_MODEL_6735c86cc2504213872c935928ce8e2a",
            "max": 30,
            "min": 0,
            "orientation": "horizontal",
            "style": "IPY_MODEL_efe695dbb8454a58b2cf9ca2c169a060",
            "value": 30
          }
        },
        "68a5500d21ad49efb92e2b74bd7f1baa": {
          "model_module": "@jupyter-widgets/controls",
          "model_name": "HTMLModel",
          "model_module_version": "1.5.0",
          "state": {
            "_dom_classes": [],
            "_model_module": "@jupyter-widgets/controls",
            "_model_module_version": "1.5.0",
            "_model_name": "HTMLModel",
            "_view_count": null,
            "_view_module": "@jupyter-widgets/controls",
            "_view_module_version": "1.5.0",
            "_view_name": "HTMLView",
            "description": "",
            "description_tooltip": null,
            "layout": "IPY_MODEL_9e8c38a3f6464b6d86ea348599c82513",
            "placeholder": "​",
            "style": "IPY_MODEL_59cceb7be2dc43579c477d2e659773ce",
            "value": " 30/30 [13:07&lt;00:00, 26.50s/it]"
          }
        },
        "90181b0ecf1d41d790952f18ea48f41c": {
          "model_module": "@jupyter-widgets/base",
          "model_name": "LayoutModel",
          "model_module_version": "1.2.0",
          "state": {
            "_model_module": "@jupyter-widgets/base",
            "_model_module_version": "1.2.0",
            "_model_name": "LayoutModel",
            "_view_count": null,
            "_view_module": "@jupyter-widgets/base",
            "_view_module_version": "1.2.0",
            "_view_name": "LayoutView",
            "align_content": null,
            "align_items": null,
            "align_self": null,
            "border": null,
            "bottom": null,
            "display": null,
            "flex": null,
            "flex_flow": null,
            "grid_area": null,
            "grid_auto_columns": null,
            "grid_auto_flow": null,
            "grid_auto_rows": null,
            "grid_column": null,
            "grid_gap": null,
            "grid_row": null,
            "grid_template_areas": null,
            "grid_template_columns": null,
            "grid_template_rows": null,
            "height": null,
            "justify_content": null,
            "justify_items": null,
            "left": null,
            "margin": null,
            "max_height": null,
            "max_width": null,
            "min_height": null,
            "min_width": null,
            "object_fit": null,
            "object_position": null,
            "order": null,
            "overflow": null,
            "overflow_x": null,
            "overflow_y": null,
            "padding": null,
            "right": null,
            "top": null,
            "visibility": null,
            "width": null
          }
        },
        "ad3f8ebc91bb47a9a07a997ed4d58e8c": {
          "model_module": "@jupyter-widgets/base",
          "model_name": "LayoutModel",
          "model_module_version": "1.2.0",
          "state": {
            "_model_module": "@jupyter-widgets/base",
            "_model_module_version": "1.2.0",
            "_model_name": "LayoutModel",
            "_view_count": null,
            "_view_module": "@jupyter-widgets/base",
            "_view_module_version": "1.2.0",
            "_view_name": "LayoutView",
            "align_content": null,
            "align_items": null,
            "align_self": null,
            "border": null,
            "bottom": null,
            "display": null,
            "flex": null,
            "flex_flow": null,
            "grid_area": null,
            "grid_auto_columns": null,
            "grid_auto_flow": null,
            "grid_auto_rows": null,
            "grid_column": null,
            "grid_gap": null,
            "grid_row": null,
            "grid_template_areas": null,
            "grid_template_columns": null,
            "grid_template_rows": null,
            "height": null,
            "justify_content": null,
            "justify_items": null,
            "left": null,
            "margin": null,
            "max_height": null,
            "max_width": null,
            "min_height": null,
            "min_width": null,
            "object_fit": null,
            "object_position": null,
            "order": null,
            "overflow": null,
            "overflow_x": null,
            "overflow_y": null,
            "padding": null,
            "right": null,
            "top": null,
            "visibility": null,
            "width": null
          }
        },
        "ecaacb5bfe104677b7a1f5b9a0711460": {
          "model_module": "@jupyter-widgets/controls",
          "model_name": "DescriptionStyleModel",
          "model_module_version": "1.5.0",
          "state": {
            "_model_module": "@jupyter-widgets/controls",
            "_model_module_version": "1.5.0",
            "_model_name": "DescriptionStyleModel",
            "_view_count": null,
            "_view_module": "@jupyter-widgets/base",
            "_view_module_version": "1.2.0",
            "_view_name": "StyleView",
            "description_width": ""
          }
        },
        "6735c86cc2504213872c935928ce8e2a": {
          "model_module": "@jupyter-widgets/base",
          "model_name": "LayoutModel",
          "model_module_version": "1.2.0",
          "state": {
            "_model_module": "@jupyter-widgets/base",
            "_model_module_version": "1.2.0",
            "_model_name": "LayoutModel",
            "_view_count": null,
            "_view_module": "@jupyter-widgets/base",
            "_view_module_version": "1.2.0",
            "_view_name": "LayoutView",
            "align_content": null,
            "align_items": null,
            "align_self": null,
            "border": null,
            "bottom": null,
            "display": null,
            "flex": null,
            "flex_flow": null,
            "grid_area": null,
            "grid_auto_columns": null,
            "grid_auto_flow": null,
            "grid_auto_rows": null,
            "grid_column": null,
            "grid_gap": null,
            "grid_row": null,
            "grid_template_areas": null,
            "grid_template_columns": null,
            "grid_template_rows": null,
            "height": null,
            "justify_content": null,
            "justify_items": null,
            "left": null,
            "margin": null,
            "max_height": null,
            "max_width": null,
            "min_height": null,
            "min_width": null,
            "object_fit": null,
            "object_position": null,
            "order": null,
            "overflow": null,
            "overflow_x": null,
            "overflow_y": null,
            "padding": null,
            "right": null,
            "top": null,
            "visibility": null,
            "width": null
          }
        },
        "efe695dbb8454a58b2cf9ca2c169a060": {
          "model_module": "@jupyter-widgets/controls",
          "model_name": "ProgressStyleModel",
          "model_module_version": "1.5.0",
          "state": {
            "_model_module": "@jupyter-widgets/controls",
            "_model_module_version": "1.5.0",
            "_model_name": "ProgressStyleModel",
            "_view_count": null,
            "_view_module": "@jupyter-widgets/base",
            "_view_module_version": "1.2.0",
            "_view_name": "StyleView",
            "bar_color": null,
            "description_width": ""
          }
        },
        "9e8c38a3f6464b6d86ea348599c82513": {
          "model_module": "@jupyter-widgets/base",
          "model_name": "LayoutModel",
          "model_module_version": "1.2.0",
          "state": {
            "_model_module": "@jupyter-widgets/base",
            "_model_module_version": "1.2.0",
            "_model_name": "LayoutModel",
            "_view_count": null,
            "_view_module": "@jupyter-widgets/base",
            "_view_module_version": "1.2.0",
            "_view_name": "LayoutView",
            "align_content": null,
            "align_items": null,
            "align_self": null,
            "border": null,
            "bottom": null,
            "display": null,
            "flex": null,
            "flex_flow": null,
            "grid_area": null,
            "grid_auto_columns": null,
            "grid_auto_flow": null,
            "grid_auto_rows": null,
            "grid_column": null,
            "grid_gap": null,
            "grid_row": null,
            "grid_template_areas": null,
            "grid_template_columns": null,
            "grid_template_rows": null,
            "height": null,
            "justify_content": null,
            "justify_items": null,
            "left": null,
            "margin": null,
            "max_height": null,
            "max_width": null,
            "min_height": null,
            "min_width": null,
            "object_fit": null,
            "object_position": null,
            "order": null,
            "overflow": null,
            "overflow_x": null,
            "overflow_y": null,
            "padding": null,
            "right": null,
            "top": null,
            "visibility": null,
            "width": null
          }
        },
        "59cceb7be2dc43579c477d2e659773ce": {
          "model_module": "@jupyter-widgets/controls",
          "model_name": "DescriptionStyleModel",
          "model_module_version": "1.5.0",
          "state": {
            "_model_module": "@jupyter-widgets/controls",
            "_model_module_version": "1.5.0",
            "_model_name": "DescriptionStyleModel",
            "_view_count": null,
            "_view_module": "@jupyter-widgets/base",
            "_view_module_version": "1.2.0",
            "_view_name": "StyleView",
            "description_width": ""
          }
        },
        "ce0743e3b0684b3aac17fe67db459c11": {
          "model_module": "@jupyter-widgets/controls",
          "model_name": "HBoxModel",
          "model_module_version": "1.5.0",
          "state": {
            "_dom_classes": [],
            "_model_module": "@jupyter-widgets/controls",
            "_model_module_version": "1.5.0",
            "_model_name": "HBoxModel",
            "_view_count": null,
            "_view_module": "@jupyter-widgets/controls",
            "_view_module_version": "1.5.0",
            "_view_name": "HBoxView",
            "box_style": "",
            "children": [
              "IPY_MODEL_d1214e0289444de2b09c38101fdc9aa5",
              "IPY_MODEL_d8ac8dedb6a4465f979b8285e9c33772",
              "IPY_MODEL_232a6e00869f46d5a30d8d3080ec4429"
            ],
            "layout": "IPY_MODEL_4054d8c9708b43dc943b20321ee97f0e"
          }
        },
        "d1214e0289444de2b09c38101fdc9aa5": {
          "model_module": "@jupyter-widgets/controls",
          "model_name": "HTMLModel",
          "model_module_version": "1.5.0",
          "state": {
            "_dom_classes": [],
            "_model_module": "@jupyter-widgets/controls",
            "_model_module_version": "1.5.0",
            "_model_name": "HTMLModel",
            "_view_count": null,
            "_view_module": "@jupyter-widgets/controls",
            "_view_module_version": "1.5.0",
            "_view_name": "HTMLView",
            "description": "",
            "description_tooltip": null,
            "layout": "IPY_MODEL_1ef69859e14a47bb986e8139fd1f34dd",
            "placeholder": "​",
            "style": "IPY_MODEL_75e55ec5d77e475f8c0f18b634f69815",
            "value": "100%"
          }
        },
        "d8ac8dedb6a4465f979b8285e9c33772": {
          "model_module": "@jupyter-widgets/controls",
          "model_name": "FloatProgressModel",
          "model_module_version": "1.5.0",
          "state": {
            "_dom_classes": [],
            "_model_module": "@jupyter-widgets/controls",
            "_model_module_version": "1.5.0",
            "_model_name": "FloatProgressModel",
            "_view_count": null,
            "_view_module": "@jupyter-widgets/controls",
            "_view_module_version": "1.5.0",
            "_view_name": "ProgressView",
            "bar_style": "success",
            "description": "",
            "description_tooltip": null,
            "layout": "IPY_MODEL_9d88b384efb9498998ca78f43230f243",
            "max": 20,
            "min": 0,
            "orientation": "horizontal",
            "style": "IPY_MODEL_67bb9a3495cb419c8f04c6b206cf5788",
            "value": 20
          }
        },
        "232a6e00869f46d5a30d8d3080ec4429": {
          "model_module": "@jupyter-widgets/controls",
          "model_name": "HTMLModel",
          "model_module_version": "1.5.0",
          "state": {
            "_dom_classes": [],
            "_model_module": "@jupyter-widgets/controls",
            "_model_module_version": "1.5.0",
            "_model_name": "HTMLModel",
            "_view_count": null,
            "_view_module": "@jupyter-widgets/controls",
            "_view_module_version": "1.5.0",
            "_view_name": "HTMLView",
            "description": "",
            "description_tooltip": null,
            "layout": "IPY_MODEL_24125d8986524796a3a7f07b52e3e24a",
            "placeholder": "​",
            "style": "IPY_MODEL_f6710e2fc8c7441db0e6b75fb8ed255c",
            "value": " 20/20 [00:09&lt;00:00,  2.49it/s]"
          }
        },
        "4054d8c9708b43dc943b20321ee97f0e": {
          "model_module": "@jupyter-widgets/base",
          "model_name": "LayoutModel",
          "model_module_version": "1.2.0",
          "state": {
            "_model_module": "@jupyter-widgets/base",
            "_model_module_version": "1.2.0",
            "_model_name": "LayoutModel",
            "_view_count": null,
            "_view_module": "@jupyter-widgets/base",
            "_view_module_version": "1.2.0",
            "_view_name": "LayoutView",
            "align_content": null,
            "align_items": null,
            "align_self": null,
            "border": null,
            "bottom": null,
            "display": null,
            "flex": null,
            "flex_flow": null,
            "grid_area": null,
            "grid_auto_columns": null,
            "grid_auto_flow": null,
            "grid_auto_rows": null,
            "grid_column": null,
            "grid_gap": null,
            "grid_row": null,
            "grid_template_areas": null,
            "grid_template_columns": null,
            "grid_template_rows": null,
            "height": null,
            "justify_content": null,
            "justify_items": null,
            "left": null,
            "margin": null,
            "max_height": null,
            "max_width": null,
            "min_height": null,
            "min_width": null,
            "object_fit": null,
            "object_position": null,
            "order": null,
            "overflow": null,
            "overflow_x": null,
            "overflow_y": null,
            "padding": null,
            "right": null,
            "top": null,
            "visibility": null,
            "width": null
          }
        },
        "1ef69859e14a47bb986e8139fd1f34dd": {
          "model_module": "@jupyter-widgets/base",
          "model_name": "LayoutModel",
          "model_module_version": "1.2.0",
          "state": {
            "_model_module": "@jupyter-widgets/base",
            "_model_module_version": "1.2.0",
            "_model_name": "LayoutModel",
            "_view_count": null,
            "_view_module": "@jupyter-widgets/base",
            "_view_module_version": "1.2.0",
            "_view_name": "LayoutView",
            "align_content": null,
            "align_items": null,
            "align_self": null,
            "border": null,
            "bottom": null,
            "display": null,
            "flex": null,
            "flex_flow": null,
            "grid_area": null,
            "grid_auto_columns": null,
            "grid_auto_flow": null,
            "grid_auto_rows": null,
            "grid_column": null,
            "grid_gap": null,
            "grid_row": null,
            "grid_template_areas": null,
            "grid_template_columns": null,
            "grid_template_rows": null,
            "height": null,
            "justify_content": null,
            "justify_items": null,
            "left": null,
            "margin": null,
            "max_height": null,
            "max_width": null,
            "min_height": null,
            "min_width": null,
            "object_fit": null,
            "object_position": null,
            "order": null,
            "overflow": null,
            "overflow_x": null,
            "overflow_y": null,
            "padding": null,
            "right": null,
            "top": null,
            "visibility": null,
            "width": null
          }
        },
        "75e55ec5d77e475f8c0f18b634f69815": {
          "model_module": "@jupyter-widgets/controls",
          "model_name": "DescriptionStyleModel",
          "model_module_version": "1.5.0",
          "state": {
            "_model_module": "@jupyter-widgets/controls",
            "_model_module_version": "1.5.0",
            "_model_name": "DescriptionStyleModel",
            "_view_count": null,
            "_view_module": "@jupyter-widgets/base",
            "_view_module_version": "1.2.0",
            "_view_name": "StyleView",
            "description_width": ""
          }
        },
        "9d88b384efb9498998ca78f43230f243": {
          "model_module": "@jupyter-widgets/base",
          "model_name": "LayoutModel",
          "model_module_version": "1.2.0",
          "state": {
            "_model_module": "@jupyter-widgets/base",
            "_model_module_version": "1.2.0",
            "_model_name": "LayoutModel",
            "_view_count": null,
            "_view_module": "@jupyter-widgets/base",
            "_view_module_version": "1.2.0",
            "_view_name": "LayoutView",
            "align_content": null,
            "align_items": null,
            "align_self": null,
            "border": null,
            "bottom": null,
            "display": null,
            "flex": null,
            "flex_flow": null,
            "grid_area": null,
            "grid_auto_columns": null,
            "grid_auto_flow": null,
            "grid_auto_rows": null,
            "grid_column": null,
            "grid_gap": null,
            "grid_row": null,
            "grid_template_areas": null,
            "grid_template_columns": null,
            "grid_template_rows": null,
            "height": null,
            "justify_content": null,
            "justify_items": null,
            "left": null,
            "margin": null,
            "max_height": null,
            "max_width": null,
            "min_height": null,
            "min_width": null,
            "object_fit": null,
            "object_position": null,
            "order": null,
            "overflow": null,
            "overflow_x": null,
            "overflow_y": null,
            "padding": null,
            "right": null,
            "top": null,
            "visibility": null,
            "width": null
          }
        },
        "67bb9a3495cb419c8f04c6b206cf5788": {
          "model_module": "@jupyter-widgets/controls",
          "model_name": "ProgressStyleModel",
          "model_module_version": "1.5.0",
          "state": {
            "_model_module": "@jupyter-widgets/controls",
            "_model_module_version": "1.5.0",
            "_model_name": "ProgressStyleModel",
            "_view_count": null,
            "_view_module": "@jupyter-widgets/base",
            "_view_module_version": "1.2.0",
            "_view_name": "StyleView",
            "bar_color": null,
            "description_width": ""
          }
        },
        "24125d8986524796a3a7f07b52e3e24a": {
          "model_module": "@jupyter-widgets/base",
          "model_name": "LayoutModel",
          "model_module_version": "1.2.0",
          "state": {
            "_model_module": "@jupyter-widgets/base",
            "_model_module_version": "1.2.0",
            "_model_name": "LayoutModel",
            "_view_count": null,
            "_view_module": "@jupyter-widgets/base",
            "_view_module_version": "1.2.0",
            "_view_name": "LayoutView",
            "align_content": null,
            "align_items": null,
            "align_self": null,
            "border": null,
            "bottom": null,
            "display": null,
            "flex": null,
            "flex_flow": null,
            "grid_area": null,
            "grid_auto_columns": null,
            "grid_auto_flow": null,
            "grid_auto_rows": null,
            "grid_column": null,
            "grid_gap": null,
            "grid_row": null,
            "grid_template_areas": null,
            "grid_template_columns": null,
            "grid_template_rows": null,
            "height": null,
            "justify_content": null,
            "justify_items": null,
            "left": null,
            "margin": null,
            "max_height": null,
            "max_width": null,
            "min_height": null,
            "min_width": null,
            "object_fit": null,
            "object_position": null,
            "order": null,
            "overflow": null,
            "overflow_x": null,
            "overflow_y": null,
            "padding": null,
            "right": null,
            "top": null,
            "visibility": null,
            "width": null
          }
        },
        "f6710e2fc8c7441db0e6b75fb8ed255c": {
          "model_module": "@jupyter-widgets/controls",
          "model_name": "DescriptionStyleModel",
          "model_module_version": "1.5.0",
          "state": {
            "_model_module": "@jupyter-widgets/controls",
            "_model_module_version": "1.5.0",
            "_model_name": "DescriptionStyleModel",
            "_view_count": null,
            "_view_module": "@jupyter-widgets/base",
            "_view_module_version": "1.2.0",
            "_view_name": "StyleView",
            "description_width": ""
          }
        }
      }
    }
  },
  "cells": [
    {
      "cell_type": "markdown",
      "source": [
        "# Простой классификатор"
      ],
      "metadata": {
        "id": "n8TyjZZfTwKB"
      }
    },
    {
      "cell_type": "markdown",
      "source": [
        "## Обучите классификатор музыкального жанра\n",
        "\n",
        "Обучите классификатор музыкального жанра на датасете GTZAN с помощью кода в лекции.\n",
        "\n",
        "Можете взять датасет с сайта Kaggle:\n",
        "\n",
        "https://www.kaggle.com/datasets/andradaolteanu/gtzan-dataset-music-genre-classification\n",
        "\n",
        "(Это не официальный источник, в нем поврежден файл `jazz.00054.wav`, официальный недоступен)\n",
        "\n",
        "\n",
        "Можете взять эти данные:\n",
        "https://storage.yandexcloud.net/aiueducation/Content/base/l12/genres.zip\n",
        "\n",
        "\n",
        "\n",
        "Примичание: т.к. аудио разной длинны, можно взять небольшой кусочек 10-15 секунд случайным образом из фрагмента."
      ],
      "metadata": {
        "id": "KE4BT1LK7_VD"
      }
    },
    {
      "cell_type": "markdown",
      "source": [
        "Ваше решение:"
      ],
      "metadata": {
        "id": "3gCSHNjNI0Zp"
      }
    },
    {
      "cell_type": "markdown",
      "source": [
        "## Загрузка данных"
      ],
      "metadata": {
        "id": "jCzppI3VuFP_"
      }
    },
    {
      "cell_type": "code",
      "source": [
        "!wget https://storage.yandexcloud.net/aiueducation/Content/base/l12/genres.zip  # Загружаем данные в колаб"
      ],
      "metadata": {
        "id": "vxAjVCP2y9eJ",
        "colab": {
          "base_uri": "https://localhost:8080/"
        },
        "outputId": "8cdf2a01-9202-4dbd-9a36-68d3117c5e27"
      },
      "execution_count": null,
      "outputs": [
        {
          "output_type": "stream",
          "name": "stdout",
          "text": [
            "--2025-01-21 05:13:48--  https://storage.yandexcloud.net/aiueducation/Content/base/l12/genres.zip\n",
            "Resolving storage.yandexcloud.net (storage.yandexcloud.net)... 213.180.193.243, 2a02:6b8::1d9\n",
            "Connecting to storage.yandexcloud.net (storage.yandexcloud.net)|213.180.193.243|:443... connected.\n",
            "HTTP request sent, awaiting response... 200 OK\n",
            "Length: 1226497462 (1.1G) [application/x-zip-compressed]\n",
            "Saving to: ‘genres.zip’\n",
            "\n",
            "genres.zip          100%[===================>]   1.14G  14.1MB/s    in 87s     \n",
            "\n",
            "2025-01-21 05:15:16 (13.4 MB/s) - ‘genres.zip’ saved [1226497462/1226497462]\n",
            "\n"
          ]
        }
      ]
    },
    {
      "cell_type": "code",
      "source": [
        "!unzip -qq genres.zip # распаковываем zip-архив"
      ],
      "metadata": {
        "id": "P9U8_6BQzHnz"
      },
      "execution_count": null,
      "outputs": []
    },
    {
      "cell_type": "code",
      "source": [
        "!ls genres # Данные расположены в папке genres"
      ],
      "metadata": {
        "colab": {
          "base_uri": "https://localhost:8080/"
        },
        "id": "204PpFvu0c5E",
        "outputId": "7a07e07a-e4f6-4edc-e9b2-33429a15f0c9"
      },
      "execution_count": null,
      "outputs": [
        {
          "output_type": "stream",
          "name": "stdout",
          "text": [
            "blues  classical  country  disco  hiphop  jazz\tmetal  pop  reggae  rock\n"
          ]
        }
      ]
    },
    {
      "cell_type": "markdown",
      "source": [
        "## Альтернативная версия"
      ],
      "metadata": {
        "id": "5qYwwtXA_2Tz"
      }
    },
    {
      "cell_type": "code",
      "source": [
        "import os\n",
        "import numpy as np\n",
        "import librosa\n",
        "from sklearn.model_selection import train_test_split\n",
        "import torch\n",
        "import torch.nn as nn\n",
        "import torch.optim as optim\n",
        "from torch.utils.data import Dataset, DataLoader\n",
        "from torchvision.transforms import transforms\n",
        "import torchaudio\n",
        "from tqdm.auto import tqdm"
      ],
      "metadata": {
        "id": "QKjPJ7ztFdfZ"
      },
      "execution_count": null,
      "outputs": []
    },
    {
      "cell_type": "code",
      "source": [
        "def normalize_spectrogram(spec):\n",
        "    mean = spec.mean()\n",
        "    std = spec.std()\n",
        "    return (spec - mean) / std\n",
        "\n",
        "# Определение класса для загрузки и предварительной обработки данных\n",
        "class GTZANDataset(Dataset):\n",
        "    def __init__(self, root_dir, transform=None):\n",
        "        self.root_dir = root_dir\n",
        "        self.transform = transform\n",
        "        self.genre_labels = os.listdir(root_dir)\n",
        "        self.data = []\n",
        "        self.labels = []\n",
        "\n",
        "        for i, genre_label in enumerate(self.genre_labels):\n",
        "            genre_dir = os.path.join(root_dir, genre_label)\n",
        "            for filename in os.listdir(genre_dir):\n",
        "                file_path = os.path.join(genre_dir, filename)\n",
        "                self.data.append(file_path)\n",
        "                self.labels.append(i)\n",
        "\n",
        "    def __len__(self):\n",
        "        return len(self.data)\n",
        "\n",
        "    def __getitem__(self, index):\n",
        "        audio_path = self.data[index]\n",
        "        label = self.labels[index]\n",
        "\n",
        "        waveform, sr = torchaudio.load(audio_path, normalize=True)\n",
        "        mel_spectrogram = torchaudio.transforms.MelSpectrogram()(waveform)\n",
        "\n",
        "        if self.transform:\n",
        "            mel_spectrogram = self.transform(mel_spectrogram)\n",
        "\n",
        "        return mel_spectrogram, label\n",
        "\n",
        "# Загрузка и предварительная обработка данных\n",
        "root_dir = \"genres\"  # Укажите путь к папке genres, где находятся данные\n",
        "transform = transforms.Compose([\n",
        "    normalize_spectrogram,\n",
        "    transforms.Resize((128, 128))\n",
        "])\n",
        "dataset = GTZANDataset(root_dir, transform=transform)\n",
        "\n",
        "train_set, test_set = train_test_split(dataset, test_size=0.2, random_state=42)\n",
        "\n",
        "train_loader = DataLoader(train_set, batch_size=32, shuffle=True)\n",
        "test_loader = DataLoader(test_set, batch_size=32, shuffle=False)"
      ],
      "metadata": {
        "colab": {
          "base_uri": "https://localhost:8080/"
        },
        "id": "QRuw6olv_8E5",
        "outputId": "6dc5b48a-ab9b-4c99-8f78-5462989bfc73"
      },
      "execution_count": null,
      "outputs": [
        {
          "output_type": "stream",
          "name": "stderr",
          "text": [
            "/usr/local/lib/python3.11/dist-packages/torchaudio/functional/functional.py:584: UserWarning: At least one mel filterbank has all zero values. The value for `n_mels` (128) may be set too high. Or, the value for `n_freqs` (201) may be set too low.\n",
            "  warnings.warn(\n"
          ]
        }
      ]
    },
    {
      "cell_type": "code",
      "source": [
        "# Определение модели классификатора\n",
        "class MusicGenreClassifier(nn.Module):\n",
        "    def __init__(self, num_classes):\n",
        "        super(MusicGenreClassifier, self).__init__()\n",
        "        self.conv1 = nn.Conv2d(1, 32, kernel_size=3, stride=1)\n",
        "        self.conv2 = nn.Conv2d(32, 64, kernel_size=3, stride=1)\n",
        "        self.fc1 = nn.Linear(64 * 30 * 30, 128)\n",
        "        self.fc2 = nn.Linear(128, num_classes)\n",
        "\n",
        "    def forward(self, x):\n",
        "        x = self.conv1(x)\n",
        "        x = nn.ReLU()(x)\n",
        "        x = nn.MaxPool2d(kernel_size=2)(x)\n",
        "        x = self.conv2(x)\n",
        "        x = nn.ReLU()(x)\n",
        "        x = nn.MaxPool2d(kernel_size=2)(x)\n",
        "        x = x.view(x.size(0), -1)\n",
        "        x = self.fc1(x)\n",
        "        x = nn.ReLU()(x)\n",
        "        x = self.fc2(x)\n",
        "        return x\n",
        "\n",
        "# Создание экземпляра модели и определение функции потерь и оптимизатора\n",
        "num_classes = len(dataset.genre_labels)\n",
        "model = MusicGenreClassifier(num_classes)\n",
        "criterion = nn.CrossEntropyLoss()\n",
        "optimizer = optim.Adam(model.parameters(), lr=0.001)"
      ],
      "metadata": {
        "id": "zopNDG-dFs-w"
      },
      "execution_count": null,
      "outputs": []
    },
    {
      "cell_type": "code",
      "source": [
        "# Обучение модели\n",
        "num_epochs = 20\n",
        "\n",
        "device = torch.device(\"cuda\" if torch.cuda.is_available() else \"cpu\")\n",
        "model.to(device)\n",
        "\n",
        "for epoch in tqdm(range(num_epochs)):\n",
        "    train_loss = 0.0\n",
        "    model.train()\n",
        "\n",
        "    for inputs, labels in train_loader:\n",
        "        inputs = inputs.to(device)\n",
        "        labels = labels.to(device)\n",
        "\n",
        "        optimizer.zero_grad()\n",
        "\n",
        "        outputs = model(inputs)\n",
        "        loss = criterion(outputs, labels)\n",
        "\n",
        "        loss.backward()\n",
        "        optimizer.step()\n",
        "\n",
        "        train_loss += loss.item() * inputs.size(0)\n",
        "\n",
        "    train_loss /= len(train_loader.dataset)\n",
        "\n",
        "    print(f\"Epoch {epoch+1}/{num_epochs}, Training Loss: {train_loss}\")"
      ],
      "metadata": {
        "colab": {
          "base_uri": "https://localhost:8080/",
          "height": 396,
          "referenced_widgets": [
            "ce0743e3b0684b3aac17fe67db459c11",
            "d1214e0289444de2b09c38101fdc9aa5",
            "d8ac8dedb6a4465f979b8285e9c33772",
            "232a6e00869f46d5a30d8d3080ec4429",
            "4054d8c9708b43dc943b20321ee97f0e",
            "1ef69859e14a47bb986e8139fd1f34dd",
            "75e55ec5d77e475f8c0f18b634f69815",
            "9d88b384efb9498998ca78f43230f243",
            "67bb9a3495cb419c8f04c6b206cf5788",
            "24125d8986524796a3a7f07b52e3e24a",
            "f6710e2fc8c7441db0e6b75fb8ed255c"
          ]
        },
        "id": "nYwFKt_jFOGg",
        "outputId": "869c841f-125e-4224-9bea-5f9a7d0be401"
      },
      "execution_count": null,
      "outputs": [
        {
          "output_type": "display_data",
          "data": {
            "text/plain": [
              "  0%|          | 0/20 [00:00<?, ?it/s]"
            ],
            "application/vnd.jupyter.widget-view+json": {
              "version_major": 2,
              "version_minor": 0,
              "model_id": "ce0743e3b0684b3aac17fe67db459c11"
            }
          },
          "metadata": {}
        },
        {
          "output_type": "stream",
          "name": "stdout",
          "text": [
            "Epoch 1/20, Training Loss: 2.1023389959335326\n",
            "Epoch 2/20, Training Loss: 1.3843897151947022\n",
            "Epoch 3/20, Training Loss: 0.8460321414470673\n",
            "Epoch 4/20, Training Loss: 0.5034598463773727\n",
            "Epoch 5/20, Training Loss: 0.2524362772703171\n",
            "Epoch 6/20, Training Loss: 0.1283048892021179\n",
            "Epoch 7/20, Training Loss: 0.0782527656853199\n",
            "Epoch 8/20, Training Loss: 0.0565951497014612\n",
            "Epoch 9/20, Training Loss: 0.04374402040150017\n",
            "Epoch 10/20, Training Loss: 0.05091000819578767\n",
            "Epoch 11/20, Training Loss: 0.04965374423190951\n",
            "Epoch 12/20, Training Loss: 0.10116989929229021\n",
            "Epoch 13/20, Training Loss: 0.12002754792571067\n",
            "Epoch 14/20, Training Loss: 0.12351254105567933\n",
            "Epoch 15/20, Training Loss: 0.033706165309995414\n",
            "Epoch 16/20, Training Loss: 0.020863168076612055\n",
            "Epoch 17/20, Training Loss: 0.018405548254959284\n",
            "Epoch 18/20, Training Loss: 0.013083869910333305\n",
            "Epoch 19/20, Training Loss: 0.01482038661139086\n",
            "Epoch 20/20, Training Loss: 0.016781528457067908\n"
          ]
        }
      ]
    },
    {
      "cell_type": "code",
      "source": [
        "# Оценка модели на тестовом наборе данных\n",
        "model.eval()\n",
        "correct_predictions = 0\n",
        "total_predictions = 0\n",
        "\n",
        "with torch.no_grad():\n",
        "    for inputs, labels in test_loader:\n",
        "        inputs = inputs.to(device)\n",
        "        labels = labels.to(device)\n",
        "\n",
        "        outputs = model(inputs)\n",
        "        _, predicted = torch.max(outputs, 1)\n",
        "\n",
        "        total_predictions += labels.size(0)\n",
        "        correct_predictions += (predicted == labels).sum().item()\n",
        "\n",
        "accuracy = correct_predictions / total_predictions\n",
        "print(f\"Accuracy on test set: {accuracy}\")"
      ],
      "metadata": {
        "colab": {
          "base_uri": "https://localhost:8080/"
        },
        "id": "MRaVIZvkFF3z",
        "outputId": "3862cfaf-81dc-474c-adc8-e28ede8c0d1b"
      },
      "execution_count": null,
      "outputs": [
        {
          "output_type": "stream",
          "name": "stdout",
          "text": [
            "Accuracy on test set: 0.475\n"
          ]
        }
      ]
    },
    {
      "cell_type": "markdown",
      "source": [
        "Значение точности довольно низкое на тестовой выборке, но задача по порогу Accuracy не ставилась. Очевидно, что или надо увеличивать количество эпох, но, скорее всего, необходимо поработать с моделью. Но, в целом, обучение классификатора работает. Опять же, причина может крыться в качестве исходных данных."
      ],
      "metadata": {
        "id": "6TWGMvWaHUX6"
      }
    },
    {
      "cell_type": "markdown",
      "source": [
        "# Более продвинутый классификатор"
      ],
      "metadata": {
        "id": "HJv-_sfe8q8i"
      }
    },
    {
      "cell_type": "markdown",
      "source": [
        "## Обучите классификатор музыкального жанра используя спектральные признаки\n",
        "Используйте на входе сети не исходные аудио-сигналы, а признаки: MEL, MFCC, LFCC и прочее. Признаки нужно вычислить из аудио с помощью кода (не брать готовые из kaggle датасета)"
      ],
      "metadata": {
        "id": "baARwZ1IyMYx"
      }
    },
    {
      "cell_type": "markdown",
      "source": [
        "Ваше решение:"
      ],
      "metadata": {
        "id": "9KBV-9oUJCXZ"
      }
    },
    {
      "cell_type": "markdown",
      "source": [
        "### Импорт"
      ],
      "metadata": {
        "id": "lkrDqzCqJglv"
      }
    },
    {
      "cell_type": "code",
      "source": [
        "import os\n",
        "import torch\n",
        "import torchaudio\n",
        "import torchvision\n",
        "import librosa\n",
        "import numpy as np\n",
        "from torch.utils.data import Dataset, DataLoader\n",
        "import torch.nn as nn\n",
        "import torch.optim as optim\n",
        "from torchvision import transforms as T\n",
        "from torch.functional import F\n",
        "\n",
        "from pathlib import Path\n",
        "from tqdm.auto import tqdm\n",
        "from matplotlib import pyplot as plt"
      ],
      "metadata": {
        "id": "0uQoPPqaJnHa"
      },
      "execution_count": null,
      "outputs": []
    },
    {
      "cell_type": "markdown",
      "source": [
        "### Данные"
      ],
      "metadata": {
        "id": "Ujiw3GYuJcRa"
      }
    },
    {
      "cell_type": "code",
      "source": [
        "%pip install -qq kaggle"
      ],
      "metadata": {
        "id": "iVsgAWFRBrm1"
      },
      "execution_count": null,
      "outputs": []
    },
    {
      "cell_type": "code",
      "execution_count": null,
      "metadata": {
        "id": "4Ty13b6KJjaR"
      },
      "outputs": [],
      "source": [
        "import ipywidgets as widgets\n",
        "import os\n",
        "\n",
        "def get_and_store_secret(placeholder, output_secret_path):\n",
        "  password_field = widgets.Password(\n",
        "      description=f\"Enter Key:\",\n",
        "      placeholder=placeholder,\n",
        "      disabled=False\n",
        "  )\n",
        "\n",
        "  output = widgets.Output()\n",
        "\n",
        "  def on_button_click(b):\n",
        "    with output:\n",
        "      token = password_field.value\n",
        "      with open(os.path.expanduser(output_secret_path), \"w\") as f:\n",
        "        f.write(token)\n",
        "      password_field.close()\n",
        "      button.close()\n",
        "\n",
        "  button = widgets.Button(description=\"Save Key\")\n",
        "  button.on_click(on_button_click)\n",
        "\n",
        "  display(password_field, button, output)"
      ]
    },
    {
      "cell_type": "code",
      "source": [
        "kaggle_user_path = os.path.expanduser(\"~/.cache/kaggle-user.txt\")\n",
        "get_and_store_secret(\"KAGGLE_USERNAME\", kaggle_user_path)"
      ],
      "metadata": {
        "colab": {
          "base_uri": "https://localhost:8080/",
          "height": 17,
          "referenced_widgets": [
            "5d8dfa4233ad40f8855272251cbf47b1",
            "5adce8ddcae746b7aeb75a1a6ebd0a9d",
            "e1034902da104305b10b75acf5adc753",
            "8aed01b86ac5445480ae5640428d9b5a",
            "6a29c952915f483a992f79fa0d6f90d8",
            "a4bf1b155086436e9584f129db191b67",
            "50e575170ed74f8b9029ca403bbedd10",
            "a167cb3342a34e31aad923c4597d1c03"
          ]
        },
        "id": "THQE-eTQBYr4",
        "outputId": "8431c79a-ba48-4cb8-dc11-79670015ad39"
      },
      "execution_count": null,
      "outputs": [
        {
          "output_type": "display_data",
          "data": {
            "text/plain": [
              "Password(description='Enter Key:', placeholder='KAGGLE_USERNAME')"
            ],
            "application/vnd.jupyter.widget-view+json": {
              "version_major": 2,
              "version_minor": 0,
              "model_id": "5d8dfa4233ad40f8855272251cbf47b1"
            }
          },
          "metadata": {}
        },
        {
          "output_type": "display_data",
          "data": {
            "text/plain": [
              "Button(description='Save Key', style=ButtonStyle())"
            ],
            "application/vnd.jupyter.widget-view+json": {
              "version_major": 2,
              "version_minor": 0,
              "model_id": "8aed01b86ac5445480ae5640428d9b5a"
            }
          },
          "metadata": {}
        },
        {
          "output_type": "display_data",
          "data": {
            "text/plain": [
              "Output()"
            ],
            "application/vnd.jupyter.widget-view+json": {
              "version_major": 2,
              "version_minor": 0,
              "model_id": "50e575170ed74f8b9029ca403bbedd10"
            }
          },
          "metadata": {}
        }
      ]
    },
    {
      "cell_type": "code",
      "source": [
        "kaggle_key_path = os.path.expanduser(\"~/.cache/kaggle.token\")\n",
        "get_and_store_secret(\"KAGGLE_KEY\", kaggle_key_path)"
      ],
      "metadata": {
        "colab": {
          "base_uri": "https://localhost:8080/",
          "height": 17,
          "referenced_widgets": [
            "7e5897acb5ba4a5498917c5a31829876",
            "b7e8680390dc4a8d978d2b4b2aebb927",
            "93d83c127f45404f954a19024789dab0",
            "4ea2e7e869154483bf5a4f677c63f3ee",
            "3f49f67c6113434a9c8194626c093db7",
            "e113243e28fc4613a340c032221fc29c",
            "cfda71078e904953a628675e8ef08405",
            "5ea0600dcc894724885933bffec19c37"
          ]
        },
        "id": "EGDIQ5JEBZnA",
        "outputId": "2a6e7e12-042f-43e3-9efd-f3b1a79e673f"
      },
      "execution_count": null,
      "outputs": [
        {
          "output_type": "display_data",
          "data": {
            "text/plain": [
              "Password(description='Enter Key:', placeholder='KAGGLE_KEY')"
            ],
            "application/vnd.jupyter.widget-view+json": {
              "version_major": 2,
              "version_minor": 0,
              "model_id": "7e5897acb5ba4a5498917c5a31829876"
            }
          },
          "metadata": {}
        },
        {
          "output_type": "display_data",
          "data": {
            "text/plain": [
              "Button(description='Save Key', style=ButtonStyle())"
            ],
            "application/vnd.jupyter.widget-view+json": {
              "version_major": 2,
              "version_minor": 0,
              "model_id": "4ea2e7e869154483bf5a4f677c63f3ee"
            }
          },
          "metadata": {}
        },
        {
          "output_type": "display_data",
          "data": {
            "text/plain": [
              "Output()"
            ],
            "application/vnd.jupyter.widget-view+json": {
              "version_major": 2,
              "version_minor": 0,
              "model_id": "cfda71078e904953a628675e8ef08405"
            }
          },
          "metadata": {}
        }
      ]
    },
    {
      "cell_type": "code",
      "source": [
        "with open(kaggle_user_path) as f:\n",
        "    os.environ[\"KAGGLE_USERNAME\"] = f.read().strip()\n",
        "\n",
        "with open(kaggle_key_path) as f:\n",
        "    os.environ[\"KAGGLE_KEY\"] = f.read().strip()"
      ],
      "metadata": {
        "id": "-72snIqaBaS5"
      },
      "execution_count": null,
      "outputs": []
    },
    {
      "cell_type": "code",
      "source": [
        "!kaggle datasets download -d andradaolteanu/gtzan-dataset-music-genre-classification -p ./gtzan-kaggle --force"
      ],
      "metadata": {
        "colab": {
          "base_uri": "https://localhost:8080/"
        },
        "id": "vSNtpYBsBbFU",
        "outputId": "e33aa486-2b43-4bb9-ff39-04fc9aab2ceb"
      },
      "execution_count": null,
      "outputs": [
        {
          "output_type": "stream",
          "name": "stdout",
          "text": [
            "Downloading gtzan-dataset-music-genre-classification.zip to ./gtzan-kaggle\n",
            " 99% 1.20G/1.21G [00:23<00:00, 222MB/s]\n",
            "100% 1.21G/1.21G [00:23<00:00, 55.0MB/s]\n"
          ]
        }
      ]
    },
    {
      "cell_type": "code",
      "source": [
        "#if not Path(\"gtzan\").exists:# Не сработал\n",
        "!unzip -qq gtzan-kaggle/gtzan-dataset-music-genre-classification.zip -d gtzan"
      ],
      "metadata": {
        "id": "Z1be5TvJDRzw"
      },
      "execution_count": null,
      "outputs": []
    },
    {
      "cell_type": "markdown",
      "source": [
        "### Датасет"
      ],
      "metadata": {
        "id": "-_n6AtHFJex-"
      }
    },
    {
      "cell_type": "code",
      "source": [
        "def time_stretch(waveform, factor):\n",
        "    return librosa.effects.time_stretch(waveform.numpy(), rate=float(factor))\n",
        "\n",
        "def pitch_shift(waveform, sample_rate, n_steps):\n",
        "    return librosa.effects.pitch_shift(waveform.numpy(), sr=sample_rate, n_steps=n_steps)\n",
        "\n",
        "def add_noise(waveform, noise_factor):\n",
        "    noise = torch.randn_like(waveform)\n",
        "    return waveform + noise_factor * noise\n"
      ],
      "metadata": {
        "id": "pQdnLlFLY4vh"
      },
      "execution_count": null,
      "outputs": []
    },
    {
      "cell_type": "code",
      "source": [
        "class GTZAN_Dataset(Dataset):\n",
        "    def __init__(self, root_dir, transform=None, augmentation=False):\n",
        "        self.root_dir = root_dir\n",
        "        self.transform = transform\n",
        "        self.genres = sorted(os.listdir(root_dir))\n",
        "        self.augmentation = augmentation\n",
        "        self.filepaths = [os.path.join(self.root_dir, genre, fname) for genre in self.genres for fname in os.listdir(os.path.join(self.root_dir, genre))]\n",
        "        self.filepaths = sorted([v for v in self.filepaths if \"jazz.00054.wav\" not in v])\n",
        "\n",
        "    def __len__(self):\n",
        "        return len(self.filepaths)\n",
        "\n",
        "    def __getitem__(self, idx):\n",
        "        audio_path = self.filepaths[idx]\n",
        "        genre = os.path.dirname(audio_path).split(\"/\")[-1]\n",
        "        genre_idx = self.genres.index(genre)\n",
        "        waveform, sample_rate = torchaudio.load(audio_path)\n",
        "\n",
        "        waveform = self.random_crop(waveform, sample_rate, duration=30)\n",
        "        if self.augmentation:\n",
        "            # Apply time stretching\n",
        "            if torch.rand(1) < 0.5:\n",
        "                # factor = torch.normal(mean=1, std=0.05)\n",
        "                factor = torch.randn([1])*0.05 + 1\n",
        "                waveform = torch.from_numpy(time_stretch(waveform.squeeze(), factor[0])).unsqueeze(0)\n",
        "\n",
        "            # Apply pitch shifting\n",
        "            if torch.rand(1) < 0.5:\n",
        "                n_steps = np.random.randint(-2, 2)\n",
        "                waveform = torch.from_numpy(pitch_shift(waveform.squeeze(), sample_rate, n_steps)).unsqueeze(0)\n",
        "\n",
        "            # Apply additive noise\n",
        "            if torch.rand(1) < 0.5:\n",
        "                noise_factor = torch.randn([1])*0.005\n",
        "                waveform = add_noise(waveform, noise_factor[0])\n",
        "\n",
        "            waveform = self.random_crop(waveform, sample_rate, duration=30)\n",
        "\n",
        "        if self.transform:\n",
        "            waveform = self.transform(waveform)\n",
        "\n",
        "        return waveform, genre_idx\n",
        "\n",
        "    def random_crop(self, waveform, sample_rate, duration):\n",
        "        audio_length = waveform.size(1)\n",
        "        crop_length = duration * sample_rate\n",
        "        if audio_length > crop_length:\n",
        "            start = torch.randint(0, audio_length - crop_length, (1,)).item()\n",
        "            end = start + crop_length\n",
        "            waveform = waveform[:, start:end]\n",
        "        elif audio_length < crop_length:\n",
        "            padding = torch.zeros(waveform.size(0), crop_length - audio_length)\n",
        "            waveform = torch.cat((waveform, padding), dim=1)\n",
        "        return waveform"
      ],
      "metadata": {
        "id": "3QhPL_MiKFFc"
      },
      "execution_count": null,
      "outputs": []
    },
    {
      "cell_type": "code",
      "source": [
        "def resample_audio(waveform, old_sr, new_sr):\n",
        "    return torchaudio.transforms.Resample(old_sr, new_sr)(waveform)\n",
        "\n",
        "def melspectrogram(waveform, sample_rate, n_mels=128):\n",
        "    return torchaudio.transforms.MelSpectrogram(sample_rate=sample_rate, n_mels=n_mels)(waveform)\n"
      ],
      "metadata": {
        "id": "BNdbGsDE-Go9"
      },
      "execution_count": null,
      "outputs": []
    },
    {
      "cell_type": "code",
      "source": [
        "new_sample_rate = 22050\n",
        "\n",
        "transform = torchvision.transforms.Compose([\n",
        "    lambda x: resample_audio(x, old_sr=22050, new_sr=new_sample_rate),\n",
        "    lambda x: melspectrogram(x, sample_rate=new_sample_rate),\n",
        "    lambda x: x.log2().clamp(min=-50)\n",
        "])\n",
        "\n",
        "dataset = GTZAN_Dataset(\"gtzan/Data/genres_original\", transform=transform, augmentation=False)  # ~80% val acc\n",
        "# dataset = GTZAN_Dataset(\"gtzan/Data/genres_original\", transform=transform, augmentation=True)  # Очень медленно"
      ],
      "metadata": {
        "id": "tv3GxLIW-LOz"
      },
      "execution_count": null,
      "outputs": []
    },
    {
      "cell_type": "code",
      "source": [
        "len(dataset)"
      ],
      "metadata": {
        "colab": {
          "base_uri": "https://localhost:8080/"
        },
        "id": "p1HX9PIRKXK5",
        "outputId": "1db70752-9cb6-46b9-a1f1-001580f2e85d"
      },
      "execution_count": null,
      "outputs": [
        {
          "output_type": "execute_result",
          "data": {
            "text/plain": [
              "999"
            ]
          },
          "metadata": {},
          "execution_count": 23
        }
      ]
    },
    {
      "cell_type": "code",
      "source": [
        "for mel_image, label in tqdm(dataset):\n",
        "  assert mel_image.shape == torch.Size([1, 128, 3308]), mel_image.shape"
      ],
      "metadata": {
        "colab": {
          "base_uri": "https://localhost:8080/",
          "height": 104,
          "referenced_widgets": [
            "6c2f75942bdb46f5b76d7a778e75429e",
            "a72793fc8edc4f848e24671766112b01",
            "d9a092bd534e4a0da5b837a59104b2a4",
            "d05197492c1e403da12fc1dbecabec47",
            "7bd4d605a5d84e67855a3c468298aa46",
            "b78397d2899442a7bb59cad519bb6e0e",
            "d632e5d1aa1742f4858fcb14368c4c1c",
            "53f11dab9d504f88bd8069059d6bdf2f",
            "5b8cd0f03fe0402b8dc0d091114e6cf2",
            "96be6708728f4c5e8baa8f4d0d6772aa",
            "63da5f6fc2074920a0fc96ac698f41a0"
          ]
        },
        "id": "z9pbHXPzLtxb",
        "outputId": "5c077122-8fe6-4336-a5f8-178c1d45354b"
      },
      "execution_count": null,
      "outputs": [
        {
          "output_type": "display_data",
          "data": {
            "text/plain": [
              "  0%|          | 0/999 [00:00<?, ?it/s]"
            ],
            "application/vnd.jupyter.widget-view+json": {
              "version_major": 2,
              "version_minor": 0,
              "model_id": "6c2f75942bdb46f5b76d7a778e75429e"
            }
          },
          "metadata": {}
        },
        {
          "output_type": "stream",
          "name": "stderr",
          "text": [
            "/usr/local/lib/python3.10/dist-packages/torchaudio/functional/functional.py:576: UserWarning: At least one mel filterbank has all zero values. The value for `n_mels` (128) may be set too high. Or, the value for `n_freqs` (201) may be set too low.\n",
            "  warnings.warn(\n"
          ]
        }
      ]
    },
    {
      "cell_type": "code",
      "source": [
        "batch_size = 16\n",
        "\n",
        "train_size = int(0.8 * len(dataset))\n",
        "valid_size = len(dataset) - train_size\n",
        "train_dataset, valid_dataset = torch.utils.data.random_split(dataset, [train_size, valid_size], generator=torch.Generator().manual_seed(42))\n",
        "\n",
        "train_loader = DataLoader(train_dataset, batch_size=batch_size, shuffle=True, num_workers=4)\n",
        "valid_loader = DataLoader(valid_dataset, batch_size=batch_size, shuffle=False, num_workers=4)\n"
      ],
      "metadata": {
        "id": "GRrfRKl3Kwmv",
        "colab": {
          "base_uri": "https://localhost:8080/"
        },
        "outputId": "c7ac2306-9e3c-44e6-b1cf-d1dafe897eb4"
      },
      "execution_count": null,
      "outputs": [
        {
          "output_type": "stream",
          "name": "stderr",
          "text": [
            "/usr/local/lib/python3.10/dist-packages/torch/utils/data/dataloader.py:560: UserWarning: This DataLoader will create 4 worker processes in total. Our suggested max number of worker in current system is 2, which is smaller than what this DataLoader is going to create. Please be aware that excessive worker creation might get DataLoader running slow or even freeze, lower the worker number to avoid potential slowness/freeze if necessary.\n",
            "  warnings.warn(_create_warning_msg(\n"
          ]
        }
      ]
    },
    {
      "cell_type": "code",
      "source": [
        "len(train_loader), len(valid_loader)"
      ],
      "metadata": {
        "colab": {
          "base_uri": "https://localhost:8080/"
        },
        "id": "KO9z6eVEK1kG",
        "outputId": "2bd9ead0-94ef-4694-b62d-0d982f074c3c"
      },
      "execution_count": null,
      "outputs": [
        {
          "output_type": "execute_result",
          "data": {
            "text/plain": [
              "(50, 13)"
            ]
          },
          "metadata": {},
          "execution_count": 26
        }
      ]
    },
    {
      "cell_type": "markdown",
      "source": [
        "### Обучение модели"
      ],
      "metadata": {
        "id": "plS8FlIAKOwG"
      }
    },
    {
      "cell_type": "code",
      "source": [
        "from torchvision.models import resnet18\n",
        "\n",
        "class AudioClassifier(nn.Module):\n",
        "    def __init__(self, num_classes):\n",
        "        super(AudioClassifier, self).__init__()\n",
        "        self.resnet = resnet18(pretrained=True)\n",
        "        self.resnet.conv1 = nn.Conv2d(1, 64, kernel_size=(7, 7), stride=(2, 2), padding=(3, 3), bias=False)\n",
        "        self.resnet.fc = nn.Linear(self.resnet.fc.in_features, num_classes)\n",
        "\n",
        "    def forward(self, x):\n",
        "        x = self.resnet(x)\n",
        "        return x"
      ],
      "metadata": {
        "id": "Oqr-bw9lXc0r"
      },
      "execution_count": null,
      "outputs": []
    },
    {
      "cell_type": "code",
      "source": [
        "num_classes = 10\n",
        "model = AudioClassifier(num_classes)\n",
        "\n",
        "criterion = nn.CrossEntropyLoss()\n",
        "optimizer = optim.Adam(model.parameters(), lr=0.001)"
      ],
      "metadata": {
        "id": "9rhxaAbZX08L",
        "colab": {
          "base_uri": "https://localhost:8080/"
        },
        "outputId": "7d6c9988-b24c-42af-dbe8-ff971785be84"
      },
      "execution_count": null,
      "outputs": [
        {
          "output_type": "stream",
          "name": "stderr",
          "text": [
            "/usr/local/lib/python3.10/dist-packages/torchvision/models/_utils.py:208: UserWarning: The parameter 'pretrained' is deprecated since 0.13 and may be removed in the future, please use 'weights' instead.\n",
            "  warnings.warn(\n",
            "/usr/local/lib/python3.10/dist-packages/torchvision/models/_utils.py:223: UserWarning: Arguments other than a weight enum or `None` for 'weights' are deprecated since 0.13 and may be removed in the future. The current behavior is equivalent to passing `weights=ResNet18_Weights.IMAGENET1K_V1`. You can also use `weights=ResNet18_Weights.DEFAULT` to get the most up-to-date weights.\n",
            "  warnings.warn(msg)\n",
            "Downloading: \"https://download.pytorch.org/models/resnet18-f37072fd.pth\" to /root/.cache/torch/hub/checkpoints/resnet18-f37072fd.pth\n",
            "100%|██████████| 44.7M/44.7M [00:00<00:00, 151MB/s]\n"
          ]
        }
      ]
    },
    {
      "cell_type": "code",
      "source": [
        "def train(model, dataloader, criterion, optimizer, device):\n",
        "    model.train()\n",
        "    running_loss = 0\n",
        "    correct = 0\n",
        "    total = 0\n",
        "\n",
        "    for inputs, labels in dataloader:\n",
        "        inputs, labels = inputs.to(device), labels.to(device)\n",
        "        optimizer.zero_grad()\n",
        "        outputs = model(inputs)\n",
        "        loss = criterion(outputs, labels)\n",
        "        loss.backward()\n",
        "        optimizer.step()\n",
        "\n",
        "        running_loss += loss.item()\n",
        "        _, predicted = outputs.max(1)\n",
        "        total += labels.size(0)\n",
        "        correct += predicted.eq(labels).sum().item()\n",
        "\n",
        "    return running_loss / len(dataloader), correct / total\n",
        "\n",
        "def validate(model, dataloader, criterion, device):\n",
        "    model.eval()\n",
        "    running_loss = 0\n",
        "    correct = 0\n",
        "    total = 0\n",
        "\n",
        "    with torch.no_grad():\n",
        "        for inputs, labels in dataloader:\n",
        "            inputs, labels = inputs.to(device), labels.to(device)\n",
        "            outputs = model(inputs)\n",
        "            loss = criterion(outputs, labels)\n",
        "\n",
        "            running_loss += loss.item()\n",
        "            _, predicted = outputs.max(1)\n",
        "            total += labels.size(0)\n",
        "            correct += predicted.eq(labels).sum().item()\n",
        "\n",
        "    return running_loss / len(dataloader), correct / total\n"
      ],
      "metadata": {
        "id": "T8eFB2GRLAWG"
      },
      "execution_count": null,
      "outputs": []
    },
    {
      "cell_type": "code",
      "source": [
        "device = torch.device(\"cuda\" if torch.cuda.is_available() else \"cpu\")\n",
        "model.to(device)\n",
        "\n",
        "num_epochs = 30\n",
        "\n",
        "for epoch in tqdm(range(num_epochs)):\n",
        "    train_loss, train_acc = train(model, train_loader, criterion, optimizer, device)\n",
        "    valid_loss, valid_acc = validate(model, valid_loader, criterion, device)\n",
        "\n",
        "    print(f\"Epoch {epoch + 1}/{num_epochs}\")\n",
        "    print(f\"Train Loss: {train_loss:.4f}, Train Acc: {train_acc:.4f}\")\n",
        "    print(f\"Valid Loss: {valid_loss:.4f}, Valid Acc: {valid_acc:.4f}\")\n"
      ],
      "metadata": {
        "colab": {
          "base_uri": "https://localhost:8080/",
          "height": 1000,
          "referenced_widgets": [
            "e0c6a6bba8534863bc6e8bff707dc23a",
            "65d297676c984af28c870d8ef6051da4",
            "cfac3aa7a8b84ae4a70d971129509fdb",
            "68a5500d21ad49efb92e2b74bd7f1baa",
            "90181b0ecf1d41d790952f18ea48f41c",
            "ad3f8ebc91bb47a9a07a997ed4d58e8c",
            "ecaacb5bfe104677b7a1f5b9a0711460",
            "6735c86cc2504213872c935928ce8e2a",
            "efe695dbb8454a58b2cf9ca2c169a060",
            "9e8c38a3f6464b6d86ea348599c82513",
            "59cceb7be2dc43579c477d2e659773ce"
          ]
        },
        "id": "8abeHHn7LBuO",
        "outputId": "51af0e02-da58-4aad-8383-62a5033657a4"
      },
      "execution_count": null,
      "outputs": [
        {
          "output_type": "display_data",
          "data": {
            "text/plain": [
              "  0%|          | 0/30 [00:00<?, ?it/s]"
            ],
            "application/vnd.jupyter.widget-view+json": {
              "version_major": 2,
              "version_minor": 0,
              "model_id": "e0c6a6bba8534863bc6e8bff707dc23a"
            }
          },
          "metadata": {}
        },
        {
          "output_type": "stream",
          "name": "stdout",
          "text": [
            "Epoch 1/30\n",
            "Train Loss: 1.8820, Train Acc: 0.3842\n",
            "Valid Loss: 3.2197, Valid Acc: 0.3850\n",
            "Epoch 2/30\n",
            "Train Loss: 1.4194, Train Acc: 0.4856\n",
            "Valid Loss: 1.5438, Valid Acc: 0.5600\n",
            "Epoch 3/30\n",
            "Train Loss: 1.2228, Train Acc: 0.5632\n",
            "Valid Loss: 1.2182, Valid Acc: 0.6250\n",
            "Epoch 4/30\n",
            "Train Loss: 1.1455, Train Acc: 0.6033\n",
            "Valid Loss: 2.2091, Valid Acc: 0.4400\n",
            "Epoch 5/30\n",
            "Train Loss: 1.0493, Train Acc: 0.6370\n",
            "Valid Loss: 4.0036, Valid Acc: 0.3700\n",
            "Epoch 6/30\n",
            "Train Loss: 0.9004, Train Acc: 0.6946\n",
            "Valid Loss: 1.2679, Valid Acc: 0.6050\n",
            "Epoch 7/30\n",
            "Train Loss: 0.8648, Train Acc: 0.7109\n",
            "Valid Loss: 0.8934, Valid Acc: 0.7600\n",
            "Epoch 8/30\n",
            "Train Loss: 0.8671, Train Acc: 0.7096\n",
            "Valid Loss: 2.1160, Valid Acc: 0.5000\n",
            "Epoch 9/30\n",
            "Train Loss: 0.7601, Train Acc: 0.7372\n",
            "Valid Loss: 0.8937, Valid Acc: 0.7200\n",
            "Epoch 10/30\n",
            "Train Loss: 0.6225, Train Acc: 0.7947\n",
            "Valid Loss: 1.5946, Valid Acc: 0.5650\n",
            "Epoch 11/30\n",
            "Train Loss: 0.6830, Train Acc: 0.7597\n",
            "Valid Loss: 0.9985, Valid Acc: 0.6700\n",
            "Epoch 12/30\n",
            "Train Loss: 0.6198, Train Acc: 0.7735\n",
            "Valid Loss: 1.2399, Valid Acc: 0.6550\n",
            "Epoch 13/30\n",
            "Train Loss: 0.5611, Train Acc: 0.7960\n",
            "Valid Loss: 1.3628, Valid Acc: 0.6800\n",
            "Epoch 14/30\n",
            "Train Loss: 0.4110, Train Acc: 0.8648\n",
            "Valid Loss: 0.9874, Valid Acc: 0.7100\n",
            "Epoch 15/30\n",
            "Train Loss: 0.3987, Train Acc: 0.8598\n",
            "Valid Loss: 1.3803, Valid Acc: 0.6300\n",
            "Epoch 16/30\n",
            "Train Loss: 0.4393, Train Acc: 0.8536\n",
            "Valid Loss: 1.1782, Valid Acc: 0.6600\n",
            "Epoch 17/30\n",
            "Train Loss: 0.3569, Train Acc: 0.8736\n",
            "Valid Loss: 0.8089, Valid Acc: 0.7850\n",
            "Epoch 18/30\n",
            "Train Loss: 0.2988, Train Acc: 0.9011\n",
            "Valid Loss: 0.9123, Valid Acc: 0.7800\n",
            "Epoch 19/30\n",
            "Train Loss: 0.2244, Train Acc: 0.9274\n",
            "Valid Loss: 0.8840, Valid Acc: 0.8000\n",
            "Epoch 20/30\n",
            "Train Loss: 0.2365, Train Acc: 0.9212\n",
            "Valid Loss: 1.0477, Valid Acc: 0.7550\n",
            "Epoch 21/30\n",
            "Train Loss: 0.2426, Train Acc: 0.9186\n",
            "Valid Loss: 1.3387, Valid Acc: 0.7600\n",
            "Epoch 22/30\n",
            "Train Loss: 0.2519, Train Acc: 0.9086\n",
            "Valid Loss: 1.3177, Valid Acc: 0.6650\n",
            "Epoch 23/30\n",
            "Train Loss: 0.2275, Train Acc: 0.9149\n",
            "Valid Loss: 1.0303, Valid Acc: 0.7400\n",
            "Epoch 24/30\n",
            "Train Loss: 0.2018, Train Acc: 0.9299\n",
            "Valid Loss: 0.8912, Valid Acc: 0.7550\n",
            "Epoch 25/30\n",
            "Train Loss: 0.1384, Train Acc: 0.9549\n",
            "Valid Loss: 1.0341, Valid Acc: 0.8050\n",
            "Epoch 26/30\n",
            "Train Loss: 0.1907, Train Acc: 0.9312\n",
            "Valid Loss: 1.3668, Valid Acc: 0.7100\n",
            "Epoch 27/30\n",
            "Train Loss: 0.1856, Train Acc: 0.9324\n",
            "Valid Loss: 1.2856, Valid Acc: 0.7400\n",
            "Epoch 28/30\n",
            "Train Loss: 0.1689, Train Acc: 0.9374\n",
            "Valid Loss: 1.2029, Valid Acc: 0.7650\n",
            "Epoch 29/30\n",
            "Train Loss: 0.1042, Train Acc: 0.9712\n",
            "Valid Loss: 0.8818, Valid Acc: 0.8050\n",
            "Epoch 30/30\n",
            "Train Loss: 0.1159, Train Acc: 0.9650\n",
            "Valid Loss: 0.7889, Valid Acc: 0.8150\n"
          ]
        }
      ]
    }
  ]
}